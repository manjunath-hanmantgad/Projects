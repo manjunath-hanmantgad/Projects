{
 "cells": [
  {
   "cell_type": "code",
   "execution_count": 2,
   "id": "1c71c35b",
   "metadata": {},
   "outputs": [],
   "source": [
    "import pandas as pd\n",
    "import numpy as np\n",
    "import seaborn as sns\n",
    "import matplotlib.pyplot as plt"
   ]
  },
  {
   "cell_type": "code",
   "execution_count": 3,
   "id": "701e4287",
   "metadata": {},
   "outputs": [],
   "source": [
    "pd.options.display.max_colwidth = 150 ###\n",
    "df = pd.read_csv('C:/Users/0023ND744/Desktop/my_notebooks/text_analytics/un-general-debates-blueprint.csv')"
   ]
  },
  {
   "cell_type": "code",
   "execution_count": 4,
   "id": "ad8f8acb",
   "metadata": {},
   "outputs": [
    {
     "data": {
      "text/html": [
       "<div>\n",
       "<style scoped>\n",
       "    .dataframe tbody tr th:only-of-type {\n",
       "        vertical-align: middle;\n",
       "    }\n",
       "\n",
       "    .dataframe tbody tr th {\n",
       "        vertical-align: top;\n",
       "    }\n",
       "\n",
       "    .dataframe thead th {\n",
       "        text-align: right;\n",
       "    }\n",
       "</style>\n",
       "<table border=\"1\" class=\"dataframe\">\n",
       "  <thead>\n",
       "    <tr style=\"text-align: right;\">\n",
       "      <th></th>\n",
       "      <th>session</th>\n",
       "      <th>year</th>\n",
       "      <th>country</th>\n",
       "      <th>country_name</th>\n",
       "      <th>speaker</th>\n",
       "      <th>position</th>\n",
       "      <th>text</th>\n",
       "    </tr>\n",
       "  </thead>\n",
       "  <tbody>\n",
       "    <tr>\n",
       "      <th>0</th>\n",
       "      <td>25</td>\n",
       "      <td>1970</td>\n",
       "      <td>ALB</td>\n",
       "      <td>Albania</td>\n",
       "      <td>Mr. NAS</td>\n",
       "      <td>NaN</td>\n",
       "      <td>33: May I first convey to our President the congratulations of the Albanian delegation on his election to the Presidency of the twenty-fifth sessi...</td>\n",
       "    </tr>\n",
       "    <tr>\n",
       "      <th>1</th>\n",
       "      <td>25</td>\n",
       "      <td>1970</td>\n",
       "      <td>ARG</td>\n",
       "      <td>Argentina</td>\n",
       "      <td>Mr. DE PABLO PARDO</td>\n",
       "      <td>NaN</td>\n",
       "      <td>177.\\t : It is a fortunate coincidence that precisely at a time when the United Nations is celebrating its first twenty-five years of existence, a...</td>\n",
       "    </tr>\n",
       "    <tr>\n",
       "      <th>2</th>\n",
       "      <td>25</td>\n",
       "      <td>1970</td>\n",
       "      <td>AUS</td>\n",
       "      <td>Australia</td>\n",
       "      <td>Mr. McMAHON</td>\n",
       "      <td>NaN</td>\n",
       "      <td>100.\\t  It is a pleasure for me to extend to you, Mr. President, the warmest congratulations of the Australia Government and its delegation to thi...</td>\n",
       "    </tr>\n",
       "    <tr>\n",
       "      <th>3</th>\n",
       "      <td>25</td>\n",
       "      <td>1970</td>\n",
       "      <td>AUT</td>\n",
       "      <td>Austria</td>\n",
       "      <td>Mr. KIRCHSCHLAEGER</td>\n",
       "      <td>NaN</td>\n",
       "      <td>155.\\t  May I begin by expressing to Ambassador Hambro, on behalf of the delegation of Austria, our best wishes on his election as President of th...</td>\n",
       "    </tr>\n",
       "    <tr>\n",
       "      <th>4</th>\n",
       "      <td>25</td>\n",
       "      <td>1970</td>\n",
       "      <td>BEL</td>\n",
       "      <td>Belgium</td>\n",
       "      <td>Mr. HARMEL</td>\n",
       "      <td>NaN</td>\n",
       "      <td>176. No doubt each of us, before coming up to this rostrum, wonders about the usefulness or futility of the speech. Must we still speak when our v...</td>\n",
       "    </tr>\n",
       "  </tbody>\n",
       "</table>\n",
       "</div>"
      ],
      "text/plain": [
       "   session  year country country_name             speaker position  \\\n",
       "0       25  1970     ALB      Albania             Mr. NAS      NaN   \n",
       "1       25  1970     ARG    Argentina  Mr. DE PABLO PARDO      NaN   \n",
       "2       25  1970     AUS    Australia         Mr. McMAHON      NaN   \n",
       "3       25  1970     AUT      Austria  Mr. KIRCHSCHLAEGER      NaN   \n",
       "4       25  1970     BEL      Belgium          Mr. HARMEL      NaN   \n",
       "\n",
       "                                                                                                                                                    text  \n",
       "0  33: May I first convey to our President the congratulations of the Albanian delegation on his election to the Presidency of the twenty-fifth sessi...  \n",
       "1  177.\\t : It is a fortunate coincidence that precisely at a time when the United Nations is celebrating its first twenty-five years of existence, a...  \n",
       "2  100.\\t  It is a pleasure for me to extend to you, Mr. President, the warmest congratulations of the Australia Government and its delegation to thi...  \n",
       "3  155.\\t  May I begin by expressing to Ambassador Hambro, on behalf of the delegation of Austria, our best wishes on his election as President of th...  \n",
       "4  176. No doubt each of us, before coming up to this rostrum, wonders about the usefulness or futility of the speech. Must we still speak when our v...  "
      ]
     },
     "execution_count": 4,
     "metadata": {},
     "output_type": "execute_result"
    }
   ],
   "source": [
    "df.head()"
   ]
  },
  {
   "cell_type": "code",
   "execution_count": 5,
   "id": "79dda569",
   "metadata": {},
   "outputs": [
    {
     "data": {
      "text/plain": [
       "session            0\n",
       "year               0\n",
       "country            0\n",
       "country_name       0\n",
       "speaker           27\n",
       "position        3005\n",
       "text               0\n",
       "dtype: int64"
      ]
     },
     "execution_count": 5,
     "metadata": {},
     "output_type": "execute_result"
    }
   ],
   "source": [
    "df.isnull().sum()"
   ]
  },
  {
   "cell_type": "code",
   "execution_count": 9,
   "id": "0c1dcd9e",
   "metadata": {},
   "outputs": [
    {
     "data": {
      "text/plain": [
       "session          int64\n",
       "year             int64\n",
       "country         object\n",
       "country_name    object\n",
       "speaker         object\n",
       "position        object\n",
       "text            object\n",
       "dtype: object"
      ]
     },
     "execution_count": 9,
     "metadata": {},
     "output_type": "execute_result"
    }
   ],
   "source": [
    "df.dtypes"
   ]
  },
  {
   "cell_type": "code",
   "execution_count": 18,
   "id": "8f2448be",
   "metadata": {},
   "outputs": [
    {
     "name": "stdout",
     "output_type": "stream",
     "text": [
      "<class 'pandas.core.frame.DataFrame'>\n",
      "RangeIndex: 7507 entries, 0 to 7506\n",
      "Data columns (total 7 columns):\n",
      " #   Column        Non-Null Count  Dtype \n",
      "---  ------        --------------  ----- \n",
      " 0   session       7507 non-null   int64 \n",
      " 1   year          7507 non-null   int64 \n",
      " 2   country       7507 non-null   object\n",
      " 3   country_name  7507 non-null   object\n",
      " 4   speaker       7480 non-null   object\n",
      " 5   position      4502 non-null   object\n",
      " 6   text          7507 non-null   object\n",
      "dtypes: int64(2), object(5)\n",
      "memory usage: 232.1 MB\n"
     ]
    }
   ],
   "source": [
    "df.info(memory_usage='deep')"
   ]
  },
  {
   "cell_type": "code",
   "execution_count": 12,
   "id": "89a15886",
   "metadata": {},
   "outputs": [
    {
     "data": {
      "text/plain": [
       "Minister for Foreign Affairs                         1813\n",
       "President                                            1143\n",
       "Prime Minister                                        524\n",
       "UN Representative                                     276\n",
       "Deputy Prime Minister                                 229\n",
       "                                                     ... \n",
       "First Vice-President                                    1\n",
       "President of  the people's Republic of Mozambique       1\n",
       "Ministry of External Relations                          1\n",
       "Acting Head of State                                    1\n",
       "President                                               1\n",
       "Name: position, Length: 113, dtype: int64"
      ]
     },
     "execution_count": 12,
     "metadata": {},
     "output_type": "execute_result"
    }
   ],
   "source": [
    "df.position.value_counts()"
   ]
  },
  {
   "cell_type": "code",
   "execution_count": 13,
   "id": "00e576d8",
   "metadata": {},
   "outputs": [
    {
     "data": {
      "text/plain": [
       "Index(['session', 'year', 'country', 'country_name', 'speaker', 'position',\n",
       "       'text'],\n",
       "      dtype='object')"
      ]
     },
     "execution_count": 13,
     "metadata": {},
     "output_type": "execute_result"
    }
   ],
   "source": [
    "df.columns"
   ]
  },
  {
   "cell_type": "code",
   "execution_count": 19,
   "id": "4cdcb483",
   "metadata": {},
   "outputs": [
    {
     "data": {
      "text/html": [
       "<div>\n",
       "<style scoped>\n",
       "    .dataframe tbody tr th:only-of-type {\n",
       "        vertical-align: middle;\n",
       "    }\n",
       "\n",
       "    .dataframe tbody tr th {\n",
       "        vertical-align: top;\n",
       "    }\n",
       "\n",
       "    .dataframe thead th {\n",
       "        text-align: right;\n",
       "    }\n",
       "</style>\n",
       "<table border=\"1\" class=\"dataframe\">\n",
       "  <thead>\n",
       "    <tr style=\"text-align: right;\">\n",
       "      <th></th>\n",
       "      <th>country</th>\n",
       "      <th>country_name</th>\n",
       "      <th>speaker</th>\n",
       "      <th>position</th>\n",
       "      <th>text</th>\n",
       "    </tr>\n",
       "  </thead>\n",
       "  <tbody>\n",
       "    <tr>\n",
       "      <th>count</th>\n",
       "      <td>7507</td>\n",
       "      <td>7507</td>\n",
       "      <td>7480</td>\n",
       "      <td>4502</td>\n",
       "      <td>7507</td>\n",
       "    </tr>\n",
       "    <tr>\n",
       "      <th>unique</th>\n",
       "      <td>199</td>\n",
       "      <td>199</td>\n",
       "      <td>5428</td>\n",
       "      <td>113</td>\n",
       "      <td>7507</td>\n",
       "    </tr>\n",
       "    <tr>\n",
       "      <th>top</th>\n",
       "      <td>TUR</td>\n",
       "      <td>Syrian Arab Republic</td>\n",
       "      <td>Seyoum Mesfin</td>\n",
       "      <td>Minister for Foreign Affairs</td>\n",
       "      <td>May I first congratulate you, Sir, on your election as President of this session and pledge Canada's full support.\\nI should also like to wish the...</td>\n",
       "    </tr>\n",
       "    <tr>\n",
       "      <th>freq</th>\n",
       "      <td>46</td>\n",
       "      <td>46</td>\n",
       "      <td>12</td>\n",
       "      <td>1813</td>\n",
       "      <td>1</td>\n",
       "    </tr>\n",
       "  </tbody>\n",
       "</table>\n",
       "</div>"
      ],
      "text/plain": [
       "       country          country_name        speaker  \\\n",
       "count     7507                  7507           7480   \n",
       "unique     199                   199           5428   \n",
       "top        TUR  Syrian Arab Republic  Seyoum Mesfin   \n",
       "freq        46                    46             12   \n",
       "\n",
       "                            position  \\\n",
       "count                           4502   \n",
       "unique                           113   \n",
       "top     Minister for Foreign Affairs   \n",
       "freq                            1813   \n",
       "\n",
       "                                                                                                                                                         text  \n",
       "count                                                                                                                                                    7507  \n",
       "unique                                                                                                                                                   7507  \n",
       "top     May I first congratulate you, Sir, on your election as President of this session and pledge Canada's full support.\\nI should also like to wish the...  \n",
       "freq                                                                                                                                                        1  "
      ]
     },
     "execution_count": 19,
     "metadata": {},
     "output_type": "execute_result"
    }
   ],
   "source": [
    "df.describe(include='O')\n",
    "#A summary for nonnumerical columns can be produced by specifying include='O' (the alias for np.object)."
   ]
  },
  {
   "cell_type": "markdown",
   "id": "9f0fc8ec",
   "metadata": {},
   "source": [
    "### Exploratory data analysis\n",
    "\n",
    "use only metadata and record counts to explore data distribution and quality;\n",
    "- Calculate summary statistics.\n",
    "- Check for missing values.\n",
    "- Plot distributions of interesting attributes.\n",
    "- Compare distributions across categories.\n",
    "- Visualize developments over time."
   ]
  },
  {
   "cell_type": "code",
   "execution_count": 20,
   "id": "3e762afb",
   "metadata": {},
   "outputs": [],
   "source": [
    "# Calculating Summary Statistics for Columns"
   ]
  },
  {
   "cell_type": "code",
   "execution_count": 21,
   "id": "075381cc",
   "metadata": {},
   "outputs": [
    {
     "data": {
      "text/html": [
       "<div>\n",
       "<style scoped>\n",
       "    .dataframe tbody tr th:only-of-type {\n",
       "        vertical-align: middle;\n",
       "    }\n",
       "\n",
       "    .dataframe tbody tr th {\n",
       "        vertical-align: top;\n",
       "    }\n",
       "\n",
       "    .dataframe thead th {\n",
       "        text-align: right;\n",
       "    }\n",
       "</style>\n",
       "<table border=\"1\" class=\"dataframe\">\n",
       "  <thead>\n",
       "    <tr style=\"text-align: right;\">\n",
       "      <th></th>\n",
       "      <th>count</th>\n",
       "      <th>mean</th>\n",
       "      <th>std</th>\n",
       "      <th>min</th>\n",
       "      <th>25%</th>\n",
       "      <th>50%</th>\n",
       "      <th>75%</th>\n",
       "      <th>max</th>\n",
       "    </tr>\n",
       "  </thead>\n",
       "  <tbody>\n",
       "    <tr>\n",
       "      <th>session</th>\n",
       "      <td>7507.0</td>\n",
       "      <td>49.610763</td>\n",
       "      <td>12.892155</td>\n",
       "      <td>25.0</td>\n",
       "      <td>39.0</td>\n",
       "      <td>51.0</td>\n",
       "      <td>61.0</td>\n",
       "      <td>70.0</td>\n",
       "    </tr>\n",
       "    <tr>\n",
       "      <th>year</th>\n",
       "      <td>7507.0</td>\n",
       "      <td>1994.610763</td>\n",
       "      <td>12.892155</td>\n",
       "      <td>1970.0</td>\n",
       "      <td>1984.0</td>\n",
       "      <td>1996.0</td>\n",
       "      <td>2006.0</td>\n",
       "      <td>2015.0</td>\n",
       "    </tr>\n",
       "    <tr>\n",
       "      <th>length</th>\n",
       "      <td>7507.0</td>\n",
       "      <td>17967.281604</td>\n",
       "      <td>7860.038463</td>\n",
       "      <td>2362.0</td>\n",
       "      <td>12077.0</td>\n",
       "      <td>16424.0</td>\n",
       "      <td>22479.5</td>\n",
       "      <td>72041.0</td>\n",
       "    </tr>\n",
       "  </tbody>\n",
       "</table>\n",
       "</div>"
      ],
      "text/plain": [
       "          count          mean          std     min      25%      50%      75%  \\\n",
       "session  7507.0     49.610763    12.892155    25.0     39.0     51.0     61.0   \n",
       "year     7507.0   1994.610763    12.892155  1970.0   1984.0   1996.0   2006.0   \n",
       "length   7507.0  17967.281604  7860.038463  2362.0  12077.0  16424.0  22479.5   \n",
       "\n",
       "             max  \n",
       "session     70.0  \n",
       "year      2015.0  \n",
       "length   72041.0  "
      ]
     },
     "execution_count": 21,
     "metadata": {},
     "output_type": "execute_result"
    }
   ],
   "source": [
    "df['length'] = df['text'].str.len()\n",
    "df.describe().T"
   ]
  },
  {
   "cell_type": "code",
   "execution_count": 22,
   "id": "c46bd6ca",
   "metadata": {},
   "outputs": [
    {
     "data": {
      "text/plain": [
       "Index(['session', 'year', 'country', 'country_name', 'speaker', 'position',\n",
       "       'text', 'length'],\n",
       "      dtype='object')"
      ]
     },
     "execution_count": 22,
     "metadata": {},
     "output_type": "execute_result"
    }
   ],
   "source": [
    "df.columns"
   ]
  },
  {
   "cell_type": "code",
   "execution_count": 24,
   "id": "fe0ed644",
   "metadata": {},
   "outputs": [
    {
     "data": {
      "text/html": [
       "<div>\n",
       "<style scoped>\n",
       "    .dataframe tbody tr th:only-of-type {\n",
       "        vertical-align: middle;\n",
       "    }\n",
       "\n",
       "    .dataframe tbody tr th {\n",
       "        vertical-align: top;\n",
       "    }\n",
       "\n",
       "    .dataframe thead th {\n",
       "        text-align: right;\n",
       "    }\n",
       "</style>\n",
       "<table border=\"1\" class=\"dataframe\">\n",
       "  <thead>\n",
       "    <tr style=\"text-align: right;\">\n",
       "      <th></th>\n",
       "      <th>country</th>\n",
       "      <th>speaker</th>\n",
       "    </tr>\n",
       "  </thead>\n",
       "  <tbody>\n",
       "    <tr>\n",
       "      <th>count</th>\n",
       "      <td>7507</td>\n",
       "      <td>7480</td>\n",
       "    </tr>\n",
       "    <tr>\n",
       "      <th>unique</th>\n",
       "      <td>199</td>\n",
       "      <td>5428</td>\n",
       "    </tr>\n",
       "    <tr>\n",
       "      <th>top</th>\n",
       "      <td>TUR</td>\n",
       "      <td>Seyoum Mesfin</td>\n",
       "    </tr>\n",
       "    <tr>\n",
       "      <th>freq</th>\n",
       "      <td>46</td>\n",
       "      <td>12</td>\n",
       "    </tr>\n",
       "  </tbody>\n",
       "</table>\n",
       "</div>"
      ],
      "text/plain": [
       "       country        speaker\n",
       "count     7507           7480\n",
       "unique     199           5428\n",
       "top        TUR  Seyoum Mesfin\n",
       "freq        46             12"
      ]
     },
     "execution_count": 24,
     "metadata": {},
     "output_type": "execute_result"
    }
   ],
   "source": [
    "df[['country', 'speaker']].describe(include='O')\n",
    "#As the number of unique values is not useful for textual data, let’s just analyze the country and speaker columns:"
   ]
  },
  {
   "cell_type": "code",
   "execution_count": 25,
   "id": "6d4b93bc",
   "metadata": {},
   "outputs": [],
   "source": [
    "#The dataset contains data from 199 unique countries and apparently 5,428 speakers. "
   ]
  },
  {
   "cell_type": "markdown",
   "id": "8fcab3a4",
   "metadata": {},
   "source": [
    "### Checking for Missing Data"
   ]
  },
  {
   "cell_type": "code",
   "execution_count": 26,
   "id": "12847614",
   "metadata": {},
   "outputs": [
    {
     "data": {
      "text/plain": [
       "session            0\n",
       "year               0\n",
       "country            0\n",
       "country_name       0\n",
       "speaker           27\n",
       "position        3005\n",
       "text               0\n",
       "length             0\n",
       "dtype: int64"
      ]
     },
     "execution_count": 26,
     "metadata": {},
     "output_type": "execute_result"
    }
   ],
   "source": [
    "df.isna().sum()\n"
   ]
  },
  {
   "cell_type": "code",
   "execution_count": 27,
   "id": "2910bc6b",
   "metadata": {},
   "outputs": [
    {
     "data": {
      "text/plain": [
       "session            0\n",
       "year               0\n",
       "country            0\n",
       "country_name       0\n",
       "speaker           27\n",
       "position        3005\n",
       "text               0\n",
       "length             0\n",
       "dtype: int64"
      ]
     },
     "execution_count": 27,
     "metadata": {},
     "output_type": "execute_result"
    }
   ],
   "source": [
    "df.isnull().sum()"
   ]
  },
  {
   "cell_type": "code",
   "execution_count": 28,
   "id": "ef267053",
   "metadata": {},
   "outputs": [],
   "source": [
    "# substitute the missing values with some generic value such as unknown speaker or unknown position or just the empty string."
   ]
  },
  {
   "cell_type": "code",
   "execution_count": 29,
   "id": "99bf8d4d",
   "metadata": {},
   "outputs": [],
   "source": [
    "df['speaker'].fillna('unknown', inplace=True)"
   ]
  },
  {
   "cell_type": "code",
   "execution_count": 32,
   "id": "c0d964e0",
   "metadata": {},
   "outputs": [
    {
     "data": {
      "text/plain": [
       "session            0\n",
       "year               0\n",
       "country            0\n",
       "country_name       0\n",
       "speaker            0\n",
       "position        3005\n",
       "text               0\n",
       "length             0\n",
       "dtype: int64"
      ]
     },
     "execution_count": 32,
     "metadata": {},
     "output_type": "execute_result"
    }
   ],
   "source": [
    "df.isna().sum()"
   ]
  },
  {
   "cell_type": "code",
   "execution_count": 33,
   "id": "97abec46",
   "metadata": {},
   "outputs": [
    {
     "data": {
      "text/plain": [
       "George W. Bush        4\n",
       "Mr. George W. Bush    2\n",
       "George Bush           1\n",
       "Bush                  1\n",
       "Mr. George W Bush     1\n",
       "Name: speaker, dtype: int64"
      ]
     },
     "execution_count": 33,
     "metadata": {},
     "output_type": "execute_result"
    }
   ],
   "source": [
    "# duplicate values like same name multiple times\n",
    "df[df['speaker'].str.contains('Bush')]['speaker'].value_counts()"
   ]
  },
  {
   "cell_type": "markdown",
   "id": "d293a7c6",
   "metadata": {},
   "source": [
    "Any analysis on speaker names would produce the wrong results unless we resolve these ambiguities. So, we had better check the distinct values of categorical attributes."
   ]
  },
  {
   "cell_type": "code",
   "execution_count": 35,
   "id": "5ab26908",
   "metadata": {},
   "outputs": [],
   "source": [
    "# Plotting Value Distributions"
   ]
  },
  {
   "cell_type": "code",
   "execution_count": 36,
   "id": "96d3e902",
   "metadata": {},
   "outputs": [
    {
     "data": {
      "text/plain": [
       "<AxesSubplot:>"
      ]
     },
     "execution_count": 36,
     "metadata": {},
     "output_type": "execute_result"
    },
    {
     "data": {
      "image/png": "[encoded data removed]",
      "text/plain": [
       "<Figure size 432x288 with 1 Axes>"
      ]
     },
     "metadata": {
      "needs_background": "light"
     },
     "output_type": "display_data"
    }
   ],
   "source": [
    "df['length'].plot(kind='box', vert=False)"
   ]
  },
  {
   "cell_type": "markdown",
   "id": "5602abfa",
   "metadata": {},
   "source": [
    "**As illustrated by this plot, 50% percent of the speeches (the box in the middle) have a length between roughly 12,000 and 22,000 characters, with the median at about 16,000 and a long tail with many outliers to the right. The distribution is obviously left-skewed.**"
   ]
  },
  {
   "cell_type": "code",
   "execution_count": 37,
   "id": "e610fd00",
   "metadata": {},
   "outputs": [
    {
     "data": {
      "text/plain": [
       "<AxesSubplot:ylabel='Frequency'>"
      ]
     },
     "execution_count": 37,
     "metadata": {},
     "output_type": "execute_result"
    },
    {
     "data": {
      "image/png": "[encoded data removed]",
      "text/plain": [
       "<Figure size 432x288 with 1 Axes>"
      ]
     },
     "metadata": {
      "needs_background": "light"
     },
     "output_type": "display_data"
    }
   ],
   "source": [
    "df['length'].plot(kind='hist', bins=30)"
   ]
  },
  {
   "cell_type": "markdown",
   "id": "043399eb",
   "metadata": {},
   "source": [
    "### Comparing Value Distributions Across Categories"
   ]
  },
  {
   "cell_type": "code",
   "execution_count": 38,
   "id": "a5b30745",
   "metadata": {},
   "outputs": [],
   "source": [
    "# Peculiarities in the data often become visible when different subsets of the data are examined. \n",
    "# A nice visualization to compare distributions across different categories is Seaborn’s catplot."
   ]
  },
  {
   "cell_type": "markdown",
   "id": "9e6c7caa",
   "metadata": {},
   "source": [
    "** box and violin plots to compare the distributions of the speech length of the five permanent members of the UN security council**"
   ]
  },
  {
   "cell_type": "code",
   "execution_count": 39,
   "id": "336efbae",
   "metadata": {},
   "outputs": [
    {
     "data": {
      "text/plain": [
       "<seaborn.axisgrid.FacetGrid at 0x214c76b1e80>"
      ]
     },
     "execution_count": 39,
     "metadata": {},
     "output_type": "execute_result"
    },
    {
     "data": {
      "image/png": "[encoded data removed]",
      "text/plain": [
       "<Figure size 360x360 with 1 Axes>"
      ]
     },
     "metadata": {
      "needs_background": "light"
     },
     "output_type": "display_data"
    },
    {
     "data": {
      "image/png": "[encoded data removed]",
      "text/plain": [
       "<Figure size 360x360 with 1 Axes>"
      ]
     },
     "metadata": {
      "needs_background": "light"
     },
     "output_type": "display_data"
    }
   ],
   "source": [
    "where = df['country'].isin(['USA', 'FRA', 'GBR', 'CHN', 'RUS'])\n",
    "sns.catplot(data=df[where], x=\"country\", y=\"length\", kind='box')\n",
    "sns.catplot(data=df[where], x=\"country\", y=\"length\", kind='violin')"
   ]
  },
  {
   "cell_type": "markdown",
   "id": "85ab8240",
   "metadata": {},
   "source": [
    "**The violin plot is the “smoothed” version of a box plot. Frequencies are visualized by the width of the violin body, while the box is still visible inside the violin. Both plots reveal that the dispersion of values, in this case the lengths of the speeches, for Russia is much larger than for Great Britain. But the existence of multiple peaks, as in Russia, only becomes apparent in the violin plot**"
   ]
  },
  {
   "cell_type": "code",
   "execution_count": 40,
   "id": "c11a9594",
   "metadata": {},
   "outputs": [
    {
     "data": {
      "text/plain": [
       "<AxesSubplot:title={'center':'Avg. Speech Length'}, xlabel='year'>"
      ]
     },
     "execution_count": 40,
     "metadata": {},
     "output_type": "execute_result"
    },
    {
     "data": {
      "image/png": "[encoded data removed]",
      "text/plain": [
       "<Figure size 432x288 with 1 Axes>"
      ]
     },
     "metadata": {
      "needs_background": "light"
     },
     "output_type": "display_data"
    }
   ],
   "source": [
    "df.groupby('year').agg({'length': 'mean'}).plot(title=\"Avg. Speech Length\", ylim=(0,30000))"
   ]
  },
  {
   "cell_type": "markdown",
   "id": "1f53f255",
   "metadata": {},
   "source": [
    "### Building a Simple Text Preprocessing Pipeline"
   ]
  },
  {
   "cell_type": "markdown",
   "id": "f1ff387c",
   "metadata": {},
   "source": [
    "The pipeline presented here consists of three steps: \n",
    "- case-folding into lowercase, \n",
    "- tokenization, and \n",
    "- stop word removal. "
   ]
  },
  {
   "cell_type": "code",
   "execution_count": 42,
   "id": "f45f343f",
   "metadata": {},
   "outputs": [],
   "source": [
    "# Performing Tokenization with Regular Expressions"
   ]
  },
  {
   "cell_type": "code",
   "execution_count": 43,
   "id": "ed1f05e2",
   "metadata": {},
   "outputs": [],
   "source": [
    "#the simplest and fastest tokenizer is Python’s native str.split() method, "
   ]
  },
  {
   "cell_type": "markdown",
   "id": "78257cc5",
   "metadata": {},
   "source": [
    "The frequently used expression [A-Za-z] is not a good option for matching letters because it misses accented letters like ä or â. Much better is the POSIX character class \\p{L}, which selects all Unicode letters. Note that we need the regex library instead of re to work with POSIX character classes.\n",
    "\n",
    "The following expression matches tokens consisting of at least one letter (\\p{L}), preceded and followed by an arbitrary sequence of alphanumeric characters (\\w includes digits, letters, and underscore) and hyphens (-):"
   ]
  },
  {
   "cell_type": "code",
   "execution_count": 44,
   "id": "095a36ba",
   "metadata": {},
   "outputs": [],
   "source": [
    "import regex as re\n",
    "\n",
    "def tokenize(text):\n",
    "    return re.findall(r'[\\w-]*\\p{L}[\\w-]*', text)"
   ]
  },
  {
   "cell_type": "code",
   "execution_count": 45,
   "id": "b1b5762f",
   "metadata": {},
   "outputs": [
    {
     "name": "stdout",
     "output_type": "stream",
     "text": [
      "Hello|there|I|know|you|from|there|What|r|you|doing|here\n"
     ]
    }
   ],
   "source": [
    "text = \"Hello there! I know you from there. What 'r you doing here?'\"\n",
    "tokens = tokenize(text)\n",
    "print(\"|\".join(tokens))"
   ]
  },
  {
   "cell_type": "code",
   "execution_count": 46,
   "id": "d15196df",
   "metadata": {},
   "outputs": [],
   "source": [
    "# Treating Stop Words"
   ]
  },
  {
   "cell_type": "code",
   "execution_count": 47,
   "id": "f38408cd",
   "metadata": {},
   "outputs": [],
   "source": [
    "# most frequent words in text are common words such as determiners, auxiliary verbs, pronouns, adverbs"
   ]
  },
  {
   "cell_type": "code",
   "execution_count": 48,
   "id": "ff91be6c",
   "metadata": {},
   "outputs": [],
   "source": [
    "import nltk\n",
    "stopwords = set(nltk.corpus.stopwords.words('english'))"
   ]
  },
  {
   "cell_type": "code",
   "execution_count": 49,
   "id": "79a6f257",
   "metadata": {},
   "outputs": [],
   "source": [
    "def remove_stop(tokens):\n",
    "    return [t for t in tokens if t.lower() not in stopwords]"
   ]
  },
  {
   "cell_type": "code",
   "execution_count": 50,
   "id": "170a931e",
   "metadata": {},
   "outputs": [],
   "source": [
    "include_stopwords = {'dear', 'regards', 'must', 'would', 'also'}\n",
    "exclude_stopwords = {'against'}\n",
    "\n",
    "stopwords |= include_stopwords\n",
    "stopwords -= exclude_stopwords"
   ]
  },
  {
   "cell_type": "markdown",
   "id": "0b3ccd7c",
   "metadata": {},
   "source": [
    "In addition to or instead of a fixed list of stop words, it can be helpful to treat every word that appears in more than, say, 80% of the documents as a stop word. Such common words make it difficult to distinguish content. The parameter max_df of the scikit-learn vectorizers"
   ]
  },
  {
   "cell_type": "code",
   "execution_count": 51,
   "id": "11cb5201",
   "metadata": {},
   "outputs": [],
   "source": [
    "# create a new column called tokens containing the lowercased, tokenized text without stop words for each document"
   ]
  },
  {
   "cell_type": "code",
   "execution_count": 52,
   "id": "1865e64c",
   "metadata": {},
   "outputs": [],
   "source": [
    "# change all text to lowercase, tokenize it, and remove stop words. \n",
    "# Other operations can be added by simply extending the pipeline"
   ]
  },
  {
   "cell_type": "code",
   "execution_count": 53,
   "id": "c5caff53",
   "metadata": {},
   "outputs": [],
   "source": [
    "pipeline = [str.lower, tokenize, remove_stop]\n",
    "\n",
    "def prepare(text, pipeline):\n",
    "    tokens = text\n",
    "    for transform in pipeline:\n",
    "        tokens = transform(tokens)\n",
    "    return tokens"
   ]
  },
  {
   "cell_type": "code",
   "execution_count": 54,
   "id": "262dcb91",
   "metadata": {},
   "outputs": [],
   "source": [
    "df['tokens'] = df['text'].apply(prepare, pipeline=pipeline)"
   ]
  },
  {
   "cell_type": "markdown",
   "id": "de22790d",
   "metadata": {},
   "source": [
    "**The tokens column now consists of Python lists containing the extracted tokens for each document. Of course, this additional column basically doubles memory consumption of the DataFrame, but it allows you to quickly access the tokens directly for further analysis.**"
   ]
  },
  {
   "cell_type": "code",
   "execution_count": 55,
   "id": "5a792a2a",
   "metadata": {},
   "outputs": [],
   "source": [
    "#We also add another column containing the length of the token list for summarizations later:\n",
    "\n",
    "df['num_tokens'] = df['tokens'].map(len)"
   ]
  },
  {
   "cell_type": "code",
   "execution_count": 56,
   "id": "900fba36",
   "metadata": {},
   "outputs": [
    {
     "data": {
      "text/html": [
       "<div>\n",
       "<style scoped>\n",
       "    .dataframe tbody tr th:only-of-type {\n",
       "        vertical-align: middle;\n",
       "    }\n",
       "\n",
       "    .dataframe tbody tr th {\n",
       "        vertical-align: top;\n",
       "    }\n",
       "\n",
       "    .dataframe thead th {\n",
       "        text-align: right;\n",
       "    }\n",
       "</style>\n",
       "<table border=\"1\" class=\"dataframe\">\n",
       "  <thead>\n",
       "    <tr style=\"text-align: right;\">\n",
       "      <th></th>\n",
       "      <th>session</th>\n",
       "      <th>year</th>\n",
       "      <th>country</th>\n",
       "      <th>country_name</th>\n",
       "      <th>speaker</th>\n",
       "      <th>position</th>\n",
       "      <th>text</th>\n",
       "      <th>length</th>\n",
       "      <th>tokens</th>\n",
       "      <th>num_tokens</th>\n",
       "    </tr>\n",
       "  </thead>\n",
       "  <tbody>\n",
       "    <tr>\n",
       "      <th>0</th>\n",
       "      <td>25</td>\n",
       "      <td>1970</td>\n",
       "      <td>ALB</td>\n",
       "      <td>Albania</td>\n",
       "      <td>Mr. NAS</td>\n",
       "      <td>NaN</td>\n",
       "      <td>33: May I first convey to our President the congratulations of the Albanian delegation on his election to the Presidency of the twenty-fifth sessi...</td>\n",
       "      <td>51419</td>\n",
       "      <td>[may, first, convey, president, congratulations, albanian, delegation, election, presidency, twenty-fifth, session, general, assembly, taking, wor...</td>\n",
       "      <td>4125</td>\n",
       "    </tr>\n",
       "    <tr>\n",
       "      <th>1</th>\n",
       "      <td>25</td>\n",
       "      <td>1970</td>\n",
       "      <td>ARG</td>\n",
       "      <td>Argentina</td>\n",
       "      <td>Mr. DE PABLO PARDO</td>\n",
       "      <td>NaN</td>\n",
       "      <td>177.\\t : It is a fortunate coincidence that precisely at a time when the United Nations is celebrating its first twenty-five years of existence, a...</td>\n",
       "      <td>29286</td>\n",
       "      <td>[fortunate, coincidence, precisely, time, united, nations, celebrating, first, twenty-five, years, existence, eminent, jurist, closely, linked, or...</td>\n",
       "      <td>2327</td>\n",
       "    </tr>\n",
       "    <tr>\n",
       "      <th>2</th>\n",
       "      <td>25</td>\n",
       "      <td>1970</td>\n",
       "      <td>AUS</td>\n",
       "      <td>Australia</td>\n",
       "      <td>Mr. McMAHON</td>\n",
       "      <td>NaN</td>\n",
       "      <td>100.\\t  It is a pleasure for me to extend to you, Mr. President, the warmest congratulations of the Australia Government and its delegation to thi...</td>\n",
       "      <td>31839</td>\n",
       "      <td>[pleasure, extend, mr, president, warmest, congratulations, australia, government, delegation, general, assembly, election, presidency, distinguis...</td>\n",
       "      <td>2545</td>\n",
       "    </tr>\n",
       "    <tr>\n",
       "      <th>3</th>\n",
       "      <td>25</td>\n",
       "      <td>1970</td>\n",
       "      <td>AUT</td>\n",
       "      <td>Austria</td>\n",
       "      <td>Mr. KIRCHSCHLAEGER</td>\n",
       "      <td>NaN</td>\n",
       "      <td>155.\\t  May I begin by expressing to Ambassador Hambro, on behalf of the delegation of Austria, our best wishes on his election as President of th...</td>\n",
       "      <td>26616</td>\n",
       "      <td>[may, begin, expressing, ambassador, hambro, behalf, delegation, austria, best, wishes, election, president, general, assembly, derive, great, sat...</td>\n",
       "      <td>2135</td>\n",
       "    </tr>\n",
       "    <tr>\n",
       "      <th>4</th>\n",
       "      <td>25</td>\n",
       "      <td>1970</td>\n",
       "      <td>BEL</td>\n",
       "      <td>Belgium</td>\n",
       "      <td>Mr. HARMEL</td>\n",
       "      <td>NaN</td>\n",
       "      <td>176. No doubt each of us, before coming up to this rostrum, wonders about the usefulness or futility of the speech. Must we still speak when our v...</td>\n",
       "      <td>25911</td>\n",
       "      <td>[doubt, us, coming, rostrum, wonders, usefulness, futility, speech, still, speak, voices, drowned, mournful, cries, many, victims, world, disorder...</td>\n",
       "      <td>2025</td>\n",
       "    </tr>\n",
       "    <tr>\n",
       "      <th>...</th>\n",
       "      <td>...</td>\n",
       "      <td>...</td>\n",
       "      <td>...</td>\n",
       "      <td>...</td>\n",
       "      <td>...</td>\n",
       "      <td>...</td>\n",
       "      <td>...</td>\n",
       "      <td>...</td>\n",
       "      <td>...</td>\n",
       "      <td>...</td>\n",
       "    </tr>\n",
       "    <tr>\n",
       "      <th>7502</th>\n",
       "      <td>70</td>\n",
       "      <td>2015</td>\n",
       "      <td>YEM</td>\n",
       "      <td>Yemen</td>\n",
       "      <td>Mr. Abdrabuh Mansour Hadi Mansour</td>\n",
       "      <td>President</td>\n",
       "      <td>On behalf of the people and the Government of Yemen, I would like to congratulate the President most warmly on presiding over the General Assembly...</td>\n",
       "      <td>10568</td>\n",
       "      <td>[behalf, people, government, yemen, like, congratulate, president, warmly, presiding, general, assembly, seventieth, session, wish, every, success...</td>\n",
       "      <td>880</td>\n",
       "    </tr>\n",
       "    <tr>\n",
       "      <th>7503</th>\n",
       "      <td>70</td>\n",
       "      <td>2015</td>\n",
       "      <td>YUG</td>\n",
       "      <td>Yugoslavia</td>\n",
       "      <td>Mr. Tomislav Nikolić</td>\n",
       "      <td>President</td>\n",
       "      <td>\\nSeventy years have passed since the establishment of the United Nations. People live differently now; many changes have taken place and many ref...</td>\n",
       "      <td>25430</td>\n",
       "      <td>[seventy, years, passed, since, establishment, united, nations, people, live, differently, many, changes, taken, place, many, reforms, effected, t...</td>\n",
       "      <td>2089</td>\n",
       "    </tr>\n",
       "    <tr>\n",
       "      <th>7504</th>\n",
       "      <td>70</td>\n",
       "      <td>2015</td>\n",
       "      <td>ZAF</td>\n",
       "      <td>South Africa</td>\n",
       "      <td>Jacob Zuma</td>\n",
       "      <td>President</td>\n",
       "      <td>I should like to congratulate the President and his country, Denmark, on his election as President of the General Assembly at its seventieth sessi...</td>\n",
       "      <td>13662</td>\n",
       "      <td>[like, congratulate, president, country, denmark, election, president, general, assembly, seventieth, session, south, africa, full, support, presi...</td>\n",
       "      <td>1145</td>\n",
       "    </tr>\n",
       "    <tr>\n",
       "      <th>7505</th>\n",
       "      <td>70</td>\n",
       "      <td>2015</td>\n",
       "      <td>ZMB</td>\n",
       "      <td>Zambia</td>\n",
       "      <td>Mr. Edgar Chagwa Lungu</td>\n",
       "      <td>President</td>\n",
       "      <td>I would like to begin by thanking the Secretary-General and by expressing my gratitude for the convening of this important session, at which we ma...</td>\n",
       "      <td>14247</td>\n",
       "      <td>[like, begin, thanking, secretary-general, expressing, gratitude, convening, important, session, mark, seventieth, anniversary, united, nations, l...</td>\n",
       "      <td>1184</td>\n",
       "    </tr>\n",
       "    <tr>\n",
       "      <th>7506</th>\n",
       "      <td>70</td>\n",
       "      <td>2015</td>\n",
       "      <td>ZWE</td>\n",
       "      <td>Zimbabwe</td>\n",
       "      <td>Robert Mugabe</td>\n",
       "      <td>President</td>\n",
       "      <td>Allow me at the outset to extend to Mr. Mogens Lykketoft my warm congratulations on his election to the high office of President of the General As...</td>\n",
       "      <td>11013</td>\n",
       "      <td>[allow, outset, extend, mr, mogens, lykketoft, warm, congratulations, election, high, office, president, general, assembly, seventieth, session, a...</td>\n",
       "      <td>896</td>\n",
       "    </tr>\n",
       "  </tbody>\n",
       "</table>\n",
       "<p>7507 rows × 10 columns</p>\n",
       "</div>"
      ],
      "text/plain": [
       "      session  year country  country_name                            speaker  \\\n",
       "0          25  1970     ALB       Albania                            Mr. NAS   \n",
       "1          25  1970     ARG     Argentina                 Mr. DE PABLO PARDO   \n",
       "2          25  1970     AUS     Australia                        Mr. McMAHON   \n",
       "3          25  1970     AUT       Austria                 Mr. KIRCHSCHLAEGER   \n",
       "4          25  1970     BEL       Belgium                         Mr. HARMEL   \n",
       "...       ...   ...     ...           ...                                ...   \n",
       "7502       70  2015     YEM         Yemen  Mr. Abdrabuh Mansour Hadi Mansour   \n",
       "7503       70  2015     YUG    Yugoslavia               Mr. Tomislav Nikolić   \n",
       "7504       70  2015     ZAF  South Africa                         Jacob Zuma   \n",
       "7505       70  2015     ZMB        Zambia             Mr. Edgar Chagwa Lungu   \n",
       "7506       70  2015     ZWE      Zimbabwe                      Robert Mugabe   \n",
       "\n",
       "       position  \\\n",
       "0           NaN   \n",
       "1           NaN   \n",
       "2           NaN   \n",
       "3           NaN   \n",
       "4           NaN   \n",
       "...         ...   \n",
       "7502  President   \n",
       "7503  President   \n",
       "7504  President   \n",
       "7505  President   \n",
       "7506  President   \n",
       "\n",
       "                                                                                                                                                       text  \\\n",
       "0     33: May I first convey to our President the congratulations of the Albanian delegation on his election to the Presidency of the twenty-fifth sessi...   \n",
       "1     177.\\t : It is a fortunate coincidence that precisely at a time when the United Nations is celebrating its first twenty-five years of existence, a...   \n",
       "2     100.\\t  It is a pleasure for me to extend to you, Mr. President, the warmest congratulations of the Australia Government and its delegation to thi...   \n",
       "3     155.\\t  May I begin by expressing to Ambassador Hambro, on behalf of the delegation of Austria, our best wishes on his election as President of th...   \n",
       "4     176. No doubt each of us, before coming up to this rostrum, wonders about the usefulness or futility of the speech. Must we still speak when our v...   \n",
       "...                                                                                                                                                     ...   \n",
       "7502  On behalf of the people and the Government of Yemen, I would like to congratulate the President most warmly on presiding over the General Assembly...   \n",
       "7503  \\nSeventy years have passed since the establishment of the United Nations. People live differently now; many changes have taken place and many ref...   \n",
       "7504  I should like to congratulate the President and his country, Denmark, on his election as President of the General Assembly at its seventieth sessi...   \n",
       "7505  I would like to begin by thanking the Secretary-General and by expressing my gratitude for the convening of this important session, at which we ma...   \n",
       "7506  Allow me at the outset to extend to Mr. Mogens Lykketoft my warm congratulations on his election to the high office of President of the General As...   \n",
       "\n",
       "      length  \\\n",
       "0      51419   \n",
       "1      29286   \n",
       "2      31839   \n",
       "3      26616   \n",
       "4      25911   \n",
       "...      ...   \n",
       "7502   10568   \n",
       "7503   25430   \n",
       "7504   13662   \n",
       "7505   14247   \n",
       "7506   11013   \n",
       "\n",
       "                                                                                                                                                     tokens  \\\n",
       "0     [may, first, convey, president, congratulations, albanian, delegation, election, presidency, twenty-fifth, session, general, assembly, taking, wor...   \n",
       "1     [fortunate, coincidence, precisely, time, united, nations, celebrating, first, twenty-five, years, existence, eminent, jurist, closely, linked, or...   \n",
       "2     [pleasure, extend, mr, president, warmest, congratulations, australia, government, delegation, general, assembly, election, presidency, distinguis...   \n",
       "3     [may, begin, expressing, ambassador, hambro, behalf, delegation, austria, best, wishes, election, president, general, assembly, derive, great, sat...   \n",
       "4     [doubt, us, coming, rostrum, wonders, usefulness, futility, speech, still, speak, voices, drowned, mournful, cries, many, victims, world, disorder...   \n",
       "...                                                                                                                                                     ...   \n",
       "7502  [behalf, people, government, yemen, like, congratulate, president, warmly, presiding, general, assembly, seventieth, session, wish, every, success...   \n",
       "7503  [seventy, years, passed, since, establishment, united, nations, people, live, differently, many, changes, taken, place, many, reforms, effected, t...   \n",
       "7504  [like, congratulate, president, country, denmark, election, president, general, assembly, seventieth, session, south, africa, full, support, presi...   \n",
       "7505  [like, begin, thanking, secretary-general, expressing, gratitude, convening, important, session, mark, seventieth, anniversary, united, nations, l...   \n",
       "7506  [allow, outset, extend, mr, mogens, lykketoft, warm, congratulations, election, high, office, president, general, assembly, seventieth, session, a...   \n",
       "\n",
       "      num_tokens  \n",
       "0           4125  \n",
       "1           2327  \n",
       "2           2545  \n",
       "3           2135  \n",
       "4           2025  \n",
       "...          ...  \n",
       "7502         880  \n",
       "7503        2089  \n",
       "7504        1145  \n",
       "7505        1184  \n",
       "7506         896  \n",
       "\n",
       "[7507 rows x 10 columns]"
      ]
     },
     "execution_count": 56,
     "metadata": {},
     "output_type": "execute_result"
    }
   ],
   "source": [
    "df"
   ]
  },
  {
   "cell_type": "markdown",
   "id": "58ad12e2",
   "metadata": {},
   "source": [
    "## Word Frequency Analysis\n",
    "\n",
    "word frequency analysis ignores the order and the context of the words. This is the idea of the famous bag-of-words model.\n",
    "The original arrangement in the text is lost; only the frequency of the terms is taken into account. This model does not work well for complex tasks such as sentiment analysis or question answering, but it works surprisingly well for classification and topic modeling. "
   ]
  },
  {
   "cell_type": "code",
   "execution_count": 57,
   "id": "0698e1d8",
   "metadata": {},
   "outputs": [],
   "source": [
    "# Counting Words with a Counter\n",
    "# Python’s standard library has a built-in class Counter, which does exactly what you might think: it counts things"
   ]
  },
  {
   "cell_type": "code",
   "execution_count": 59,
   "id": "c7800dae",
   "metadata": {},
   "outputs": [
    {
     "name": "stdout",
     "output_type": "stream",
     "text": [
      "Counter({'are': 2, 'is': 2, 'Mountains': 1, 'calling': 1, 'a': 1, 'good': 1, 'quote': 1, 'by': 1, 'Thapa': 1, 'being': 1, 'counted': 1, 'twice': 1})\n"
     ]
    }
   ],
   "source": [
    "from collections import Counter\n",
    "\n",
    "tokens = tokenize(\"Mountains are calling is a good quote by Thapa! is are being counted twice?\")\n",
    "\n",
    "counter = Counter(tokens)\n",
    "print(counter)"
   ]
  },
  {
   "cell_type": "markdown",
   "id": "fd58ead7",
   "metadata": {},
   "source": [
    "**To find the most frequent words within a corpus, we need to create a counter from the list of all words in all documents. A naive approach would be to concatenate all documents into a single, giant list of tokens, but that does not scale for larger datasets. It is much more efficient to call the update function of the counter object for each single document.**"
   ]
  },
  {
   "cell_type": "code",
   "execution_count": 60,
   "id": "64ec6ee1",
   "metadata": {},
   "outputs": [
    {
     "data": {
      "text/plain": [
       "0       None\n",
       "1       None\n",
       "2       None\n",
       "3       None\n",
       "4       None\n",
       "        ... \n",
       "7502    None\n",
       "7503    None\n",
       "7504    None\n",
       "7505    None\n",
       "7506    None\n",
       "Name: tokens, Length: 7507, dtype: object"
      ]
     },
     "execution_count": 60,
     "metadata": {},
     "output_type": "execute_result"
    }
   ],
   "source": [
    "counter = Counter()\n",
    "df['tokens'].map(counter.update)"
   ]
  },
  {
   "cell_type": "code",
   "execution_count": 61,
   "id": "a6898185",
   "metadata": {},
   "outputs": [
    {
     "name": "stdout",
     "output_type": "stream",
     "text": [
      "[('nations', 124508), ('united', 120763), ('international', 117223), ('world', 89421), ('countries', 85734)]\n"
     ]
    }
   ],
   "source": [
    "# retrieve the most common words in the text with the respective counter function:\n",
    "\n",
    "print(counter.most_common(5))"
   ]
  },
  {
   "cell_type": "markdown",
   "id": "24067dad",
   "metadata": {},
   "source": [
    "The tokens make up the index of the DataFrame, while the frequency values are stored in a column named freq. The rows are sorted so that the most frequent words appear at the head:"
   ]
  },
  {
   "cell_type": "code",
   "execution_count": 62,
   "id": "72474833",
   "metadata": {},
   "outputs": [],
   "source": [
    "def count_words(df, column='tokens', preprocess=None, min_freq=2):\n",
    "\n",
    "    # process tokens and update counter\n",
    "    def update(doc):\n",
    "        tokens = doc if preprocess is None else preprocess(doc)\n",
    "        counter.update(tokens)\n",
    "\n",
    "    # create counter and run through all data\n",
    "    counter = Counter()\n",
    "    df[column].map(update)\n",
    "\n",
    "    # transform counter into a DataFrame\n",
    "    freq_df = pd.DataFrame.from_dict(counter, orient='index', columns=['freq'])\n",
    "    freq_df = freq_df.query('freq >= @min_freq')\n",
    "    freq_df.index.name = 'token'\n",
    "\n",
    "    return freq_df.sort_values('freq', ascending=False)"
   ]
  },
  {
   "cell_type": "code",
   "execution_count": 63,
   "id": "c3df7a57",
   "metadata": {},
   "outputs": [
    {
     "data": {
      "text/html": [
       "<div>\n",
       "<style scoped>\n",
       "    .dataframe tbody tr th:only-of-type {\n",
       "        vertical-align: middle;\n",
       "    }\n",
       "\n",
       "    .dataframe tbody tr th {\n",
       "        vertical-align: top;\n",
       "    }\n",
       "\n",
       "    .dataframe thead th {\n",
       "        text-align: right;\n",
       "    }\n",
       "</style>\n",
       "<table border=\"1\" class=\"dataframe\">\n",
       "  <thead>\n",
       "    <tr style=\"text-align: right;\">\n",
       "      <th></th>\n",
       "      <th>freq</th>\n",
       "    </tr>\n",
       "    <tr>\n",
       "      <th>token</th>\n",
       "      <th></th>\n",
       "    </tr>\n",
       "  </thead>\n",
       "  <tbody>\n",
       "    <tr>\n",
       "      <th>nations</th>\n",
       "      <td>124508</td>\n",
       "    </tr>\n",
       "    <tr>\n",
       "      <th>united</th>\n",
       "      <td>120763</td>\n",
       "    </tr>\n",
       "    <tr>\n",
       "      <th>international</th>\n",
       "      <td>117223</td>\n",
       "    </tr>\n",
       "    <tr>\n",
       "      <th>world</th>\n",
       "      <td>89421</td>\n",
       "    </tr>\n",
       "    <tr>\n",
       "      <th>countries</th>\n",
       "      <td>85734</td>\n",
       "    </tr>\n",
       "  </tbody>\n",
       "</table>\n",
       "</div>"
      ],
      "text/plain": [
       "                 freq\n",
       "token                \n",
       "nations        124508\n",
       "united         120763\n",
       "international  117223\n",
       "world           89421\n",
       "countries       85734"
      ]
     },
     "execution_count": 63,
     "metadata": {},
     "output_type": "execute_result"
    }
   ],
   "source": [
    "freq_df = count_words(df)\n",
    "freq_df.head(5)"
   ]
  },
  {
   "cell_type": "code",
   "execution_count": 64,
   "id": "373b9a0b",
   "metadata": {},
   "outputs": [
    {
     "data": {
      "text/plain": [
       "[Text(0.5, 0, 'Frequency'), Text(0, 0.5, 'Token'), Text(0.5, 1.0, 'Top Words')]"
      ]
     },
     "execution_count": 64,
     "metadata": {},
     "output_type": "execute_result"
    },
    {
     "data": {
      "image/png": "[encoded data removed]",
      "text/plain": [
       "<Figure size 432x288 with 1 Axes>"
      ]
     },
     "metadata": {
      "needs_background": "light"
     },
     "output_type": "display_data"
    }
   ],
   "source": [
    "ax = freq_df.head(15).plot(kind='barh', width=0.95) #barh = horizontal bars\n",
    "ax.invert_yaxis()\n",
    "ax.set(xlabel='Frequency', ylabel='Token', title='Top Words')"
   ]
  },
  {
   "cell_type": "code",
   "execution_count": 65,
   "id": "15af675c",
   "metadata": {},
   "outputs": [],
   "source": [
    "# Creating Word Clouds"
   ]
  },
  {
   "cell_type": "markdown",
   "id": "f48f275d",
   "metadata": {},
   "source": [
    "long words or words with capital letters get unproportionally high attraction.to use it is to instantiate a word cloud object with some options, such as the maximum number of words and a stop word list, and then let the wordcloud module handle the tokenization and stop word removal. "
   ]
  },
  {
   "cell_type": "code",
   "execution_count": 67,
   "id": "18929463",
   "metadata": {},
   "outputs": [
    {
     "name": "stdout",
     "output_type": "stream",
     "text": [
      "Collecting wordcloudNote: you may need to restart the kernel to use updated packages.\n",
      "  Downloading wordcloud-1.8.1-cp38-cp38-win_amd64.whl (155 kB)\n",
      "Requirement already satisfied: matplotlib in c:\\users\\0023nd744\\anaconda3\\lib\\site-packages (from wordcloud) (3.5.0)\n",
      "\n",
      "Requirement already satisfied: pillow in c:\\users\\0023nd744\\anaconda3\\lib\\site-packages (from wordcloud) (8.2.0)\n",
      "Requirement already satisfied: numpy>=1.6.1 in c:\\users\\0023nd744\\anaconda3\\lib\\site-packages (from wordcloud) (1.22.1)\n",
      "Requirement already satisfied: cycler>=0.10 in c:\\users\\0023nd744\\anaconda3\\lib\\site-packages (from matplotlib->wordcloud) (0.10.0)\n",
      "Requirement already satisfied: fonttools>=4.22.0 in c:\\users\\0023nd744\\anaconda3\\lib\\site-packages (from matplotlib->wordcloud) (4.28.3)\n",
      "Requirement already satisfied: python-dateutil>=2.7 in c:\\users\\0023nd744\\anaconda3\\lib\\site-packages (from matplotlib->wordcloud) (2.8.1)\n",
      "Requirement already satisfied: setuptools-scm>=4 in c:\\users\\0023nd744\\anaconda3\\lib\\site-packages (from matplotlib->wordcloud) (6.3.2)\n",
      "Requirement already satisfied: kiwisolver>=1.0.1 in c:\\users\\0023nd744\\anaconda3\\lib\\site-packages (from matplotlib->wordcloud) (1.3.1)\n",
      "Requirement already satisfied: packaging>=20.0 in c:\\users\\0023nd744\\anaconda3\\lib\\site-packages (from matplotlib->wordcloud) (20.9)\n",
      "Requirement already satisfied: pyparsing>=2.2.1 in c:\\users\\0023nd744\\anaconda3\\lib\\site-packages (from matplotlib->wordcloud) (2.4.7)\n",
      "Requirement already satisfied: six in c:\\users\\0023nd744\\anaconda3\\lib\\site-packages (from cycler>=0.10->matplotlib->wordcloud) (1.15.0)\n",
      "Requirement already satisfied: setuptools in c:\\users\\0023nd744\\anaconda3\\lib\\site-packages (from setuptools-scm>=4->matplotlib->wordcloud) (52.0.0.post20210125)\n",
      "Requirement already satisfied: tomli>=1.0.0 in c:\\users\\0023nd744\\anaconda3\\lib\\site-packages (from setuptools-scm>=4->matplotlib->wordcloud) (1.2.2)\n",
      "Installing collected packages: wordcloud\n",
      "Successfully installed wordcloud-1.8.1\n"
     ]
    }
   ],
   "source": [
    "pip install wordcloud"
   ]
  },
  {
   "cell_type": "code",
   "execution_count": 68,
   "id": "d07b9d6a",
   "metadata": {},
   "outputs": [
    {
     "data": {
      "text/plain": [
       "(-0.5, 399.5, 199.5, -0.5)"
      ]
     },
     "execution_count": 68,
     "metadata": {},
     "output_type": "execute_result"
    },
    {
     "data": {
      "image/png": "[encoded data removed]",
      "text/plain": [
       "<Figure size 432x288 with 1 Axes>"
      ]
     },
     "metadata": {
      "needs_background": "light"
     },
     "output_type": "display_data"
    }
   ],
   "source": [
    "from wordcloud import WordCloud\n",
    "\n",
    "text = df.query(\"year==2015 and country=='USA'\")['text'].values[0]\n",
    "\n",
    "wc = WordCloud(max_words=100, stopwords=stopwords)\n",
    "wc.generate(text)\n",
    "plt.imshow(wc, interpolation='bilinear')\n",
    "plt.axis(\"off\")"
   ]
  },
  {
   "cell_type": "markdown",
   "id": "08e3c74e",
   "metadata": {},
   "source": [
    "**However, this works only for a single text and not a (potentially large) set of documents. For the latter use case, it is much faster to create a frequency counter first and then use the function generate_from_frequencies()**"
   ]
  },
  {
   "cell_type": "markdown",
   "id": "4bfad4ce",
   "metadata": {},
   "source": [
    "## Ranking with TF-IDF"
   ]
  },
  {
   "cell_type": "markdown",
   "id": "980e9059",
   "metadata": {},
   "source": [
    "highlight words whose actual word frequency in a slice is higher than their total probability would suggest. There is a number of algorithms to measure the “surprise” factor of a word. One of the simplest but best working approaches is to complement the term frequency with the inverse document frequency (see sidebar).\n",
    "\n",
    "**The inverse document frequency (IDF) is a weighting factor that measures the “unusualness” of a term in a corpus. It is often used to reduce the influence of common terms for data analysis or machine learning. Terms appearing in many documents have a high document frequency. Based on this, we can define the inverse document frequency**"
   ]
  },
  {
   "cell_type": "code",
   "execution_count": 69,
   "id": "29918885",
   "metadata": {},
   "outputs": [],
   "source": [
    "def compute_idf(df, column='tokens', preprocess=None, min_df=2):\n",
    "\n",
    "    def update(doc):\n",
    "        tokens = doc if preprocess is None else preprocess(doc)\n",
    "        counter.update(set(tokens)) #each token is counted only once per document (counter.update(set(tokens))), and the IDF values are computed after counting. \n",
    "\n",
    "    # count tokens\n",
    "    counter = Counter()\n",
    "    df[column].map(update)\n",
    "\n",
    "    # create DataFrame and compute idf\n",
    "    idf_df = pd.DataFrame.from_dict(counter, orient='index', columns=['df'])\n",
    "    idf_df = idf_df.query('df >= @min_df')\n",
    "    idf_df['idf'] = np.log(len(df)/idf_df['df'])+0.1 # formula for calculating tf-idf\n",
    "    idf_df.index.name = 'token'\n",
    "    return idf_df"
   ]
  },
  {
   "cell_type": "code",
   "execution_count": 70,
   "id": "3ea955dd",
   "metadata": {},
   "outputs": [
    {
     "name": "stderr",
     "output_type": "stream",
     "text": [
      "<ipython-input-69-03443dead7e7>:14: SettingWithCopyWarning: \n",
      "A value is trying to be set on a copy of a slice from a DataFrame.\n",
      "Try using .loc[row_indexer,col_indexer] = value instead\n",
      "\n",
      "See the caveats in the documentation: https://pandas.pydata.org/pandas-docs/stable/user_guide/indexing.html#returning-a-view-versus-a-copy\n",
      "  idf_df['idf'] = np.log(len(df)/idf_df['df'])+0.1 # formula for calculating tf-idf\n"
     ]
    }
   ],
   "source": [
    "#The IDF values need to be computed once for the entire corpus \n",
    "\n",
    "# create a DataFrame containing the IDF values for each token (idf_df) with this function:\n",
    "\n",
    "idf_df = compute_idf(df)"
   ]
  },
  {
   "cell_type": "code",
   "execution_count": 71,
   "id": "c33a9b34",
   "metadata": {},
   "outputs": [],
   "source": [
    "#As both the IDF and the frequency DataFrame have an index consisting of the tokens, we can simply multiply the columns of both DataFrames to calculate the TF-IDF score for the terms:\n",
    "\n",
    "freq_df['tfidf'] = freq_df['freq'] * idf_df['idf']"
   ]
  },
  {
   "cell_type": "markdown",
   "id": "42e20bbb",
   "metadata": {},
   "source": [
    "## Analyzing N-Grams"
   ]
  },
  {
   "cell_type": "markdown",
   "id": "abb1db47",
   "metadata": {},
   "source": [
    "**It is helpful to extend frequency analyses from single words to short sequences of two or three words.**"
   ]
  },
  {
   "cell_type": "markdown",
   "id": "91e695eb",
   "metadata": {},
   "source": [
    "In text processing, we usually work with bigrams (sequences of length 2), sometimes even trigrams (length 3). n-grams of size 1 are single words, also called unigrams. The reason to stick to n<3   is that the number of different n-grams increases exponentially with respect to n, while their frequencies decrease in the same way."
   ]
  },
  {
   "cell_type": "code",
   "execution_count": 72,
   "id": "ebd56100",
   "metadata": {},
   "outputs": [
    {
     "name": "stdout",
     "output_type": "stream",
     "text": [
      "the visible|visible manifestation|manifestation of|of the|the global|global climate|climate change\n"
     ]
    }
   ],
   "source": [
    "# function produces elegantly the set of n-grams for a sequence of tokens\n",
    "\n",
    "def ngrams(tokens, n=2, sep=' '):\n",
    "    return [sep.join(ngram) for ngram in zip(*[tokens[i:] for i in range(n)])]\n",
    "\n",
    "text = \"the visible manifestation of the global climate change\"\n",
    "tokens = tokenize(text)\n",
    "print(\"|\".join(ngrams(tokens, 2)))"
   ]
  },
  {
   "cell_type": "markdown",
   "id": "51f2d2ac",
   "metadata": {},
   "source": [
    "**t is advisable to build bigrams without stop words. But we need to be careful: if we remove the stop words first and then build the bigrams, we generate bigrams that don’t exist in the original text as a “manifestation global” in the example. Thus, we create the bigrams on all tokens but keep only those that do not contain any stop words with this modified ngrams function:**"
   ]
  },
  {
   "cell_type": "code",
   "execution_count": 73,
   "id": "a1ad7734",
   "metadata": {},
   "outputs": [
    {
     "name": "stdout",
     "output_type": "stream",
     "text": [
      "Bigrams: visible manifestation|global climate|climate change\n",
      "Trigrams: global climate change\n"
     ]
    }
   ],
   "source": [
    "def ngrams(tokens, n=2, sep=' ', stopwords=set()):\n",
    "    return [sep.join(ngram) for ngram in zip(*[tokens[i:] for i in range(n)])\n",
    "            if len([t for t in ngram if t in stopwords])==0]\n",
    "\n",
    "print(\"Bigrams:\", \"|\".join(ngrams(tokens, 2, stopwords=stopwords)))\n",
    "print(\"Trigrams:\", \"|\".join(ngrams(tokens, 3, stopwords=stopwords)))"
   ]
  },
  {
   "cell_type": "code",
   "execution_count": 74,
   "id": "96c75d45",
   "metadata": {},
   "outputs": [],
   "source": [
    "# Using this ngrams function, we can add a column containing all bigrams to our DataFrame and\n",
    "# apply the word count blueprint to determine the top five bigrams:"
   ]
  },
  {
   "cell_type": "code",
   "execution_count": 75,
   "id": "810519fe",
   "metadata": {},
   "outputs": [
    {
     "data": {
      "text/html": [
       "<div>\n",
       "<style scoped>\n",
       "    .dataframe tbody tr th:only-of-type {\n",
       "        vertical-align: middle;\n",
       "    }\n",
       "\n",
       "    .dataframe tbody tr th {\n",
       "        vertical-align: top;\n",
       "    }\n",
       "\n",
       "    .dataframe thead th {\n",
       "        text-align: right;\n",
       "    }\n",
       "</style>\n",
       "<table border=\"1\" class=\"dataframe\">\n",
       "  <thead>\n",
       "    <tr style=\"text-align: right;\">\n",
       "      <th></th>\n",
       "      <th>freq</th>\n",
       "    </tr>\n",
       "    <tr>\n",
       "      <th>token</th>\n",
       "      <th></th>\n",
       "    </tr>\n",
       "  </thead>\n",
       "  <tbody>\n",
       "    <tr>\n",
       "      <th>united nations</th>\n",
       "      <td>103236</td>\n",
       "    </tr>\n",
       "    <tr>\n",
       "      <th>international community</th>\n",
       "      <td>27786</td>\n",
       "    </tr>\n",
       "    <tr>\n",
       "      <th>general assembly</th>\n",
       "      <td>27096</td>\n",
       "    </tr>\n",
       "    <tr>\n",
       "      <th>security council</th>\n",
       "      <td>20961</td>\n",
       "    </tr>\n",
       "    <tr>\n",
       "      <th>human rights</th>\n",
       "      <td>19856</td>\n",
       "    </tr>\n",
       "  </tbody>\n",
       "</table>\n",
       "</div>"
      ],
      "text/plain": [
       "                           freq\n",
       "token                          \n",
       "united nations           103236\n",
       "international community   27786\n",
       "general assembly          27096\n",
       "security council          20961\n",
       "human rights              19856"
      ]
     },
     "execution_count": 75,
     "metadata": {},
     "output_type": "execute_result"
    }
   ],
   "source": [
    "df['bigrams'] = df['text'].apply(prepare, pipeline=[str.lower, tokenize]) \\\n",
    "                          .apply(ngrams, n=2, stopwords=stopwords)\n",
    "\n",
    "count_words(df, 'bigrams').head(5)"
   ]
  },
  {
   "cell_type": "code",
   "execution_count": null,
   "id": "523f6c23",
   "metadata": {},
   "outputs": [],
   "source": [
    "# add the bigram IDF values, compute the TF-IDF-weighted bigram frequencies for all speeches from 2015, and generate a word cloud from the resulting DataFrame:"
   ]
  }
 ],
 "metadata": {
  "kernelspec": {
   "display_name": "Python 3",
   "language": "python",
   "name": "python3"
  },
  "language_info": {
   "codemirror_mode": {
    "name": "ipython",
    "version": 3
   },
   "file_extension": ".py",
   "mimetype": "text/x-python",
   "name": "python",
   "nbconvert_exporter": "python",
   "pygments_lexer": "ipython3",
   "version": "3.8.8"
  }
 },
 "nbformat": 4,
 "nbformat_minor": 5
}
