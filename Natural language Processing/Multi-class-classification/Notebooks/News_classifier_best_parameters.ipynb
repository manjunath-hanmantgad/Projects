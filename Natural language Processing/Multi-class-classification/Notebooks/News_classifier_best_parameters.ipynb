{
 "cells": [
  {
   "cell_type": "code",
   "execution_count": 1,
   "id": "42966310",
   "metadata": {},
   "outputs": [],
   "source": [
    "import pandas as pd\n",
    "import numpy as np\n",
    "import matplotlib.pyplot as plt\n",
    "%matplotlib inline\n",
    "import seaborn as sns\n",
    "import nltk\n",
    "import string\n",
    "import re\n",
    "from sklearn.model_selection import train_test_split\n",
    "from sklearn.metrics import confusion_matrix,classification_report,accuracy_score\n",
    "import pickle\n",
    "from joblib import dump\n",
    "from sklearn.model_selection import GridSearchCV\n",
    "from nltk.stem import WordNetLemmatizer\n",
    "from nltk import word_tokenize\n",
    "from nltk.corpus import stopwords\n",
    "from sklearn.feature_extraction.text import TfidfVectorizer\n",
    "from sklearn.naive_bayes import MultinomialNB\n",
    "from sklearn.svm import LinearSVC\n",
    "from sklearn.pipeline import Pipeline"
   ]
  },
  {
   "cell_type": "code",
   "execution_count": 2,
   "id": "1359ece4",
   "metadata": {},
   "outputs": [],
   "source": [
    "df =pd.read_csv('news_data.csv')"
   ]
  },
  {
   "cell_type": "code",
   "execution_count": 3,
   "id": "8f40438c",
   "metadata": {},
   "outputs": [
    {
     "data": {
      "text/html": [
       "<div>\n",
       "<style scoped>\n",
       "    .dataframe tbody tr th:only-of-type {\n",
       "        vertical-align: middle;\n",
       "    }\n",
       "\n",
       "    .dataframe tbody tr th {\n",
       "        vertical-align: top;\n",
       "    }\n",
       "\n",
       "    .dataframe thead th {\n",
       "        text-align: right;\n",
       "    }\n",
       "</style>\n",
       "<table border=\"1\" class=\"dataframe\">\n",
       "  <thead>\n",
       "    <tr style=\"text-align: right;\">\n",
       "      <th></th>\n",
       "      <th>Unnamed: 0</th>\n",
       "      <th>news_headline</th>\n",
       "      <th>news_article</th>\n",
       "      <th>news_category</th>\n",
       "    </tr>\n",
       "  </thead>\n",
       "  <tbody>\n",
       "    <tr>\n",
       "      <th>0</th>\n",
       "      <td>0</td>\n",
       "      <td>50-year-old problem of biology solved by Artif...</td>\n",
       "      <td>DeepMind's AI system 'AlphaFold' has been reco...</td>\n",
       "      <td>technology</td>\n",
       "    </tr>\n",
       "    <tr>\n",
       "      <th>1</th>\n",
       "      <td>1</td>\n",
       "      <td>Microsoft Teams to stop working on Internet Ex...</td>\n",
       "      <td>Microsoft Teams will stop working on Internet ...</td>\n",
       "      <td>technology</td>\n",
       "    </tr>\n",
       "    <tr>\n",
       "      <th>2</th>\n",
       "      <td>2</td>\n",
       "      <td>Hope US won't erect barriers to cooperation: C...</td>\n",
       "      <td>China, in response to reports of US adding Chi...</td>\n",
       "      <td>technology</td>\n",
       "    </tr>\n",
       "    <tr>\n",
       "      <th>3</th>\n",
       "      <td>3</td>\n",
       "      <td>Global smartphone sales in Q3 falls 5.7% to 36...</td>\n",
       "      <td>The global smartphone sales in the third quart...</td>\n",
       "      <td>technology</td>\n",
       "    </tr>\n",
       "    <tr>\n",
       "      <th>4</th>\n",
       "      <td>4</td>\n",
       "      <td>EU hoping Biden will clarify US position on di...</td>\n",
       "      <td>The European Union (EU) is hoping that US Pres...</td>\n",
       "      <td>technology</td>\n",
       "    </tr>\n",
       "  </tbody>\n",
       "</table>\n",
       "</div>"
      ],
      "text/plain": [
       "   Unnamed: 0                                      news_headline  \\\n",
       "0           0  50-year-old problem of biology solved by Artif...   \n",
       "1           1  Microsoft Teams to stop working on Internet Ex...   \n",
       "2           2  Hope US won't erect barriers to cooperation: C...   \n",
       "3           3  Global smartphone sales in Q3 falls 5.7% to 36...   \n",
       "4           4  EU hoping Biden will clarify US position on di...   \n",
       "\n",
       "                                        news_article news_category  \n",
       "0  DeepMind's AI system 'AlphaFold' has been reco...    technology  \n",
       "1  Microsoft Teams will stop working on Internet ...    technology  \n",
       "2  China, in response to reports of US adding Chi...    technology  \n",
       "3  The global smartphone sales in the third quart...    technology  \n",
       "4  The European Union (EU) is hoping that US Pres...    technology  "
      ]
     },
     "execution_count": 3,
     "metadata": {},
     "output_type": "execute_result"
    }
   ],
   "source": [
    "df.head()"
   ]
  },
  {
   "cell_type": "code",
   "execution_count": 4,
   "id": "276a062a",
   "metadata": {},
   "outputs": [
    {
     "data": {
      "text/plain": [
       "['Unnamed: 0', 'news_headline', 'news_article', 'news_category']"
      ]
     },
     "execution_count": 4,
     "metadata": {},
     "output_type": "execute_result"
    }
   ],
   "source": [
    "list(df.columns)"
   ]
  },
  {
   "cell_type": "code",
   "execution_count": 5,
   "id": "c94bf70c",
   "metadata": {},
   "outputs": [
    {
     "data": {
      "text/html": [
       "<div>\n",
       "<style scoped>\n",
       "    .dataframe tbody tr th:only-of-type {\n",
       "        vertical-align: middle;\n",
       "    }\n",
       "\n",
       "    .dataframe tbody tr th {\n",
       "        vertical-align: top;\n",
       "    }\n",
       "\n",
       "    .dataframe thead th {\n",
       "        text-align: right;\n",
       "    }\n",
       "</style>\n",
       "<table border=\"1\" class=\"dataframe\">\n",
       "  <thead>\n",
       "    <tr style=\"text-align: right;\">\n",
       "      <th></th>\n",
       "      <th>news_headline</th>\n",
       "      <th>news_article</th>\n",
       "      <th>news_category</th>\n",
       "    </tr>\n",
       "  </thead>\n",
       "  <tbody>\n",
       "    <tr>\n",
       "      <th>0</th>\n",
       "      <td>50-year-old problem of biology solved by Artif...</td>\n",
       "      <td>DeepMind's AI system 'AlphaFold' has been reco...</td>\n",
       "      <td>technology</td>\n",
       "    </tr>\n",
       "    <tr>\n",
       "      <th>1</th>\n",
       "      <td>Microsoft Teams to stop working on Internet Ex...</td>\n",
       "      <td>Microsoft Teams will stop working on Internet ...</td>\n",
       "      <td>technology</td>\n",
       "    </tr>\n",
       "    <tr>\n",
       "      <th>2</th>\n",
       "      <td>Hope US won't erect barriers to cooperation: C...</td>\n",
       "      <td>China, in response to reports of US adding Chi...</td>\n",
       "      <td>technology</td>\n",
       "    </tr>\n",
       "    <tr>\n",
       "      <th>3</th>\n",
       "      <td>Global smartphone sales in Q3 falls 5.7% to 36...</td>\n",
       "      <td>The global smartphone sales in the third quart...</td>\n",
       "      <td>technology</td>\n",
       "    </tr>\n",
       "    <tr>\n",
       "      <th>4</th>\n",
       "      <td>EU hoping Biden will clarify US position on di...</td>\n",
       "      <td>The European Union (EU) is hoping that US Pres...</td>\n",
       "      <td>technology</td>\n",
       "    </tr>\n",
       "    <tr>\n",
       "      <th>...</th>\n",
       "      <td>...</td>\n",
       "      <td>...</td>\n",
       "      <td>...</td>\n",
       "    </tr>\n",
       "    <tr>\n",
       "      <th>4812</th>\n",
       "      <td>AstraZeneca to test combining Oxford vaccine w...</td>\n",
       "      <td>AstraZeneca, which is developing a coronavirus...</td>\n",
       "      <td>science</td>\n",
       "    </tr>\n",
       "    <tr>\n",
       "      <th>4813</th>\n",
       "      <td>Humanity will face 60°C temperatures in 2050s,...</td>\n",
       "      <td>As many as two billion people will face 60°C t...</td>\n",
       "      <td>science</td>\n",
       "    </tr>\n",
       "    <tr>\n",
       "      <th>4814</th>\n",
       "      <td>Human-made objects to outweigh living things b...</td>\n",
       "      <td>Scientists have said that the weight of human-...</td>\n",
       "      <td>science</td>\n",
       "    </tr>\n",
       "    <tr>\n",
       "      <th>4815</th>\n",
       "      <td>IUCN lists 31 species as 'Extinct', European B...</td>\n",
       "      <td>The IUCN released an update of its Red List of...</td>\n",
       "      <td>science</td>\n",
       "    </tr>\n",
       "    <tr>\n",
       "      <th>4816</th>\n",
       "      <td>India not historically responsible for climate...</td>\n",
       "      <td>Environment Minister Prakash Javadekar has sai...</td>\n",
       "      <td>science</td>\n",
       "    </tr>\n",
       "  </tbody>\n",
       "</table>\n",
       "<p>4817 rows × 3 columns</p>\n",
       "</div>"
      ],
      "text/plain": [
       "                                          news_headline  \\\n",
       "0     50-year-old problem of biology solved by Artif...   \n",
       "1     Microsoft Teams to stop working on Internet Ex...   \n",
       "2     Hope US won't erect barriers to cooperation: C...   \n",
       "3     Global smartphone sales in Q3 falls 5.7% to 36...   \n",
       "4     EU hoping Biden will clarify US position on di...   \n",
       "...                                                 ...   \n",
       "4812  AstraZeneca to test combining Oxford vaccine w...   \n",
       "4813  Humanity will face 60°C temperatures in 2050s,...   \n",
       "4814  Human-made objects to outweigh living things b...   \n",
       "4815  IUCN lists 31 species as 'Extinct', European B...   \n",
       "4816  India not historically responsible for climate...   \n",
       "\n",
       "                                           news_article news_category  \n",
       "0     DeepMind's AI system 'AlphaFold' has been reco...    technology  \n",
       "1     Microsoft Teams will stop working on Internet ...    technology  \n",
       "2     China, in response to reports of US adding Chi...    technology  \n",
       "3     The global smartphone sales in the third quart...    technology  \n",
       "4     The European Union (EU) is hoping that US Pres...    technology  \n",
       "...                                                 ...           ...  \n",
       "4812  AstraZeneca, which is developing a coronavirus...       science  \n",
       "4813  As many as two billion people will face 60°C t...       science  \n",
       "4814  Scientists have said that the weight of human-...       science  \n",
       "4815  The IUCN released an update of its Red List of...       science  \n",
       "4816  Environment Minister Prakash Javadekar has sai...       science  \n",
       "\n",
       "[4817 rows x 3 columns]"
      ]
     },
     "execution_count": 5,
     "metadata": {},
     "output_type": "execute_result"
    }
   ],
   "source": [
    "# drop unnamed column\n",
    "df.drop(columns=['Unnamed: 0'],inplace=True)\n",
    "df"
   ]
  },
  {
   "cell_type": "code",
   "execution_count": 6,
   "id": "7df619df",
   "metadata": {},
   "outputs": [
    {
     "name": "stdout",
     "output_type": "stream",
     "text": [
      "<class 'pandas.core.frame.DataFrame'>\n",
      "RangeIndex: 4817 entries, 0 to 4816\n",
      "Data columns (total 3 columns):\n",
      " #   Column         Non-Null Count  Dtype \n",
      "---  ------         --------------  ----- \n",
      " 0   news_headline  4817 non-null   object\n",
      " 1   news_article   4817 non-null   object\n",
      " 2   news_category  4817 non-null   object\n",
      "dtypes: object(3)\n",
      "memory usage: 113.0+ KB\n"
     ]
    }
   ],
   "source": [
    "df.info()"
   ]
  },
  {
   "cell_type": "code",
   "execution_count": 7,
   "id": "9c1eda18",
   "metadata": {},
   "outputs": [
    {
     "data": {
      "text/plain": [
       "news_headline    0\n",
       "news_article     0\n",
       "news_category    0\n",
       "dtype: int64"
      ]
     },
     "execution_count": 7,
     "metadata": {},
     "output_type": "execute_result"
    }
   ],
   "source": [
    "# null values\n",
    "df.isnull().sum()"
   ]
  },
  {
   "cell_type": "code",
   "execution_count": 8,
   "id": "676dadc4",
   "metadata": {},
   "outputs": [
    {
     "name": "stderr",
     "output_type": "stream",
     "text": [
      "C:\\Users\\0023ND744\\Anaconda3\\lib\\site-packages\\seaborn\\_decorators.py:36: FutureWarning: Pass the following variable as a keyword arg: x. From version 0.12, the only valid positional argument will be `data`, and passing other arguments without an explicit keyword will result in an error or misinterpretation.\n",
      "  warnings.warn(\n"
     ]
    },
    {
     "data": {
      "text/plain": [
       "<AxesSubplot:xlabel='news_category', ylabel='count'>"
      ]
     },
     "execution_count": 8,
     "metadata": {},
     "output_type": "execute_result"
    },
    {
     "data": {
      "image/png": "[encoded data removed]",
      "text/plain": [
       "<Figure size 432x288 with 1 Axes>"
      ]
     },
     "metadata": {
      "needs_background": "light"
     },
     "output_type": "display_data"
    }
   ],
   "source": [
    "# countplot for balanced or imbalanced dataset checking\n",
    "sns.countplot(df.news_category)"
   ]
  },
  {
   "cell_type": "code",
   "execution_count": 9,
   "id": "c9ced15c",
   "metadata": {},
   "outputs": [
    {
     "data": {
      "text/plain": [
       "world            1021\n",
       "entertainment     998\n",
       "sports            856\n",
       "technology        751\n",
       "politics          546\n",
       "science           389\n",
       "automobile        256\n",
       "Name: news_category, dtype: int64"
      ]
     },
     "execution_count": 9,
     "metadata": {},
     "output_type": "execute_result"
    }
   ],
   "source": [
    "# checking for values in each target category\n",
    "df['news_category'].value_counts()"
   ]
  },
  {
   "cell_type": "code",
   "execution_count": 10,
   "id": "dcbf7ea0",
   "metadata": {},
   "outputs": [
    {
     "name": "stderr",
     "output_type": "stream",
     "text": [
      "[nltk_data] Downloading package stopwords to\n",
      "[nltk_data]     C:\\Users\\0023ND744\\AppData\\Roaming\\nltk_data...\n",
      "[nltk_data]   Package stopwords is already up-to-date!\n",
      "[nltk_data] Downloading package wordnet to\n",
      "[nltk_data]     C:\\Users\\0023ND744\\AppData\\Roaming\\nltk_data...\n",
      "[nltk_data]   Package wordnet is already up-to-date!\n",
      "[nltk_data] Downloading package punkt to\n",
      "[nltk_data]     C:\\Users\\0023ND744\\AppData\\Roaming\\nltk_data...\n",
      "[nltk_data]   Package punkt is already up-to-date!\n"
     ]
    },
    {
     "data": {
      "text/plain": [
       "True"
      ]
     },
     "execution_count": 10,
     "metadata": {},
     "output_type": "execute_result"
    }
   ],
   "source": [
    "nltk.download('stopwords')\n",
    "nltk.download('wordnet')\n",
    "nltk.download('punkt')"
   ]
  },
  {
   "cell_type": "code",
   "execution_count": 11,
   "id": "510f2290",
   "metadata": {},
   "outputs": [],
   "source": [
    "# single function for removing stop words , tokenize,lemmatize\n",
    "stop_words_ = set(stopwords.words('english'))\n",
    "wn = WordNetLemmatizer()\n",
    "\n",
    "my_stopwords = ['make', 'like',  'news','new' ,'time', 'u','s','get', 'say']\n",
    "def black_txt(token):\n",
    "    return  token not in stop_words_ and token not in list(string.punctuation)  and len(token)>2 and token not in my_stopwords\n",
    "  \n",
    "  \n",
    "def clean_txt(text):\n",
    "  clean_text = []\n",
    "  clean_text2 = []\n",
    "  text = re.sub(\"'\", \"\",text)\n",
    "  text=re.sub(\"(\\\\d|\\\\W)+\",\" \",text)    \n",
    "  clean_text = [ wn.lemmatize(word, pos=\"v\") for word in word_tokenize(text.lower()) if black_txt(word)]\n",
    "  clean_text2 = [word for word in clean_text if black_txt(word)]\n",
    "  return \" \".join(clean_text2)"
   ]
  },
  {
   "cell_type": "code",
   "execution_count": 12,
   "id": "c6e7d03e",
   "metadata": {},
   "outputs": [],
   "source": [
    "# joining 2 columns \n",
    "\n",
    "df['text'] = df['news_headline'] + \" \" + df['news_article']"
   ]
  },
  {
   "cell_type": "code",
   "execution_count": 13,
   "id": "84e9e1cd",
   "metadata": {},
   "outputs": [
    {
     "data": {
      "text/plain": [
       "'Parliamentary panel divided over key issues in Data Protection Bill: Report The members of the Joint Parliamentary Committee are divided over key issues in the Personal Data Protection Bill, 2019, such as the provision allowing government access to sensitive data of citizens without their consent and data localisation, ET reported. The panel, chaired by BJP MP Meenakashi Lekhi, has held consultations with stakeholders like Facebook, Twitter, Google, Ola, Uber and Paytm.'"
      ]
     },
     "execution_count": 13,
     "metadata": {},
     "output_type": "execute_result"
    }
   ],
   "source": [
    "# checking if cleaning function works\n",
    "\n",
    "df.text[5]"
   ]
  },
  {
   "cell_type": "code",
   "execution_count": 14,
   "id": "245ad4b7",
   "metadata": {},
   "outputs": [
    {
     "data": {
      "text/plain": [
       "'parliamentary panel divide key issue data protection bill report members joint parliamentary committee divide key issue personal data protection bill provision allow government access sensitive data citizens without consent data localisation report panel chair bjp meenakashi lekhi hold consultations stakeholders facebook twitter google ola uber paytm'"
      ]
     },
     "execution_count": 14,
     "metadata": {},
     "output_type": "execute_result"
    }
   ],
   "source": [
    "clean_txt(df.text[5])"
   ]
  },
  {
   "cell_type": "code",
   "execution_count": 15,
   "id": "fe26df76",
   "metadata": {},
   "outputs": [],
   "source": [
    "df['clean_text'] = df['text'].apply(lambda x: clean_txt(x))"
   ]
  },
  {
   "cell_type": "code",
   "execution_count": 16,
   "id": "977dc0d4",
   "metadata": {},
   "outputs": [],
   "source": [
    "# train test split\n",
    "\n",
    "X, y = df['clean_text'], df['news_category']"
   ]
  },
  {
   "cell_type": "code",
   "execution_count": 17,
   "id": "008f8630",
   "metadata": {},
   "outputs": [],
   "source": [
    "X_train, X_test, y_train, y_test = train_test_split(X, y, test_size=0.2, random_state=42)"
   ]
  },
  {
   "cell_type": "code",
   "execution_count": 18,
   "id": "aba7758c",
   "metadata": {},
   "outputs": [
    {
     "name": "stdout",
     "output_type": "stream",
     "text": [
      "(3853,)\n",
      "(964,)\n"
     ]
    }
   ],
   "source": [
    "print(X_train.shape)\n",
    "print(X_test.shape)"
   ]
  },
  {
   "cell_type": "code",
   "execution_count": 19,
   "id": "49758bf2",
   "metadata": {},
   "outputs": [],
   "source": [
    "from sklearn.linear_model import LogisticRegression"
   ]
  },
  {
   "cell_type": "code",
   "execution_count": 23,
   "id": "cb1f5bde",
   "metadata": {},
   "outputs": [],
   "source": [
    "pipe_lr = Pipeline([('tfidf', TfidfVectorizer()),\n",
    " ('model', LogisticRegression())])\n",
    "\n",
    "model = pipe_lr.fit(X_train, y_train)\n",
    "prediction = model.predict(X_test)"
   ]
  },
  {
   "cell_type": "code",
   "execution_count": 24,
   "id": "15aeff74",
   "metadata": {},
   "outputs": [
    {
     "name": "stdout",
     "output_type": "stream",
     "text": [
      "[[ 39   0   0   0   0   1   0]\n",
      " [  0 179   1   0   1   0   1]\n",
      " [  0   0 110   0   0   0   0]\n",
      " [  0   0   0  64   0  12  11]\n",
      " [  0   3   0   0 167   0   2]\n",
      " [  6   0   0   4   0 139   7]\n",
      " [  0   0   0   1   0  14 202]]\n"
     ]
    }
   ],
   "source": [
    "# print metrics\n",
    "print(confusion_matrix(y_test,prediction))"
   ]
  },
  {
   "cell_type": "code",
   "execution_count": 25,
   "id": "719618ba",
   "metadata": {},
   "outputs": [
    {
     "name": "stdout",
     "output_type": "stream",
     "text": [
      "               precision    recall  f1-score   support\n",
      "\n",
      "   automobile       0.87      0.97      0.92        40\n",
      "entertainment       0.98      0.98      0.98       182\n",
      "     politics       0.99      1.00      1.00       110\n",
      "      science       0.93      0.74      0.82        87\n",
      "       sports       0.99      0.97      0.98       172\n",
      "   technology       0.84      0.89      0.86       156\n",
      "        world       0.91      0.93      0.92       217\n",
      "\n",
      "     accuracy                           0.93       964\n",
      "    macro avg       0.93      0.93      0.93       964\n",
      " weighted avg       0.94      0.93      0.93       964\n",
      "\n"
     ]
    }
   ],
   "source": [
    "print(classification_report(y_test,prediction))"
   ]
  },
  {
   "cell_type": "code",
   "execution_count": 32,
   "id": "88d090f7",
   "metadata": {},
   "outputs": [],
   "source": [
    "# multiple pipelines\n",
    "\n",
    "from sklearn.ensemble import RandomForestClassifier\n",
    "from sklearn import svm"
   ]
  },
  {
   "cell_type": "code",
   "execution_count": 33,
   "id": "cee2825b",
   "metadata": {},
   "outputs": [],
   "source": [
    "\n",
    "# random forest pipeline\n",
    "\n",
    "pipe_rf = Pipeline([('tfidf', TfidfVectorizer()),\n",
    "            ('clf', RandomForestClassifier())])\n",
    "\n",
    "# svm pipeline\n",
    "\n",
    "pipe_svm = Pipeline([('tfidf', TfidfVectorizer()),\n",
    "            ('clf', svm.SVC())])"
   ]
  },
  {
   "cell_type": "code",
   "execution_count": 34,
   "id": "77f226eb",
   "metadata": {},
   "outputs": [],
   "source": [
    "# Set grid search params\n",
    "param_range = [9, 10]\n",
    "\n",
    "grid_params_rf = [{'clf__criterion': ['gini', 'entropy'],\n",
    "        'clf__max_depth': param_range,\n",
    "        'clf__min_samples_split': param_range[1:]}]\n",
    "\n",
    "grid_params_svm = [{'clf__kernel': ['linear', 'rbf'], \n",
    "        'clf__C': param_range}]"
   ]
  },
  {
   "cell_type": "code",
   "execution_count": 43,
   "id": "cdad364e",
   "metadata": {},
   "outputs": [
    {
     "name": "stdout",
     "output_type": "stream",
     "text": [
      "Best Score:  0.7648562332609025\n",
      "Best Params:  {'clf__criterion': 'entropy', 'clf__max_depth': 10, 'clf__min_samples_split': 10}\n"
     ]
    }
   ],
   "source": [
    "# Fit the grid search objects\n",
    "\n",
    "clf_1 = GridSearchCV(pipe_rf, grid_params_rf)\n",
    "clf_1.fit(X_train, y_train)\n",
    "print(\"Best Score: \", clf_1.best_score_)\n",
    "print(\"Best Params: \", clf_1.best_params_)"
   ]
  },
  {
   "cell_type": "code",
   "execution_count": 44,
   "id": "6f64377d",
   "metadata": {},
   "outputs": [
    {
     "name": "stdout",
     "output_type": "stream",
     "text": [
      "Best Score:  0.9278488048916064\n",
      "Best Params:  {'clf__C': 9, 'clf__kernel': 'linear'}\n"
     ]
    }
   ],
   "source": [
    "clf_2 = GridSearchCV(pipe_svm, grid_params_svm)\n",
    "clf_2.fit(X_train, y_train)\n",
    "print(\"Best Score: \", clf_2.best_score_)\n",
    "print(\"Best Params: \", clf_2.best_params_)"
   ]
  },
  {
   "cell_type": "code",
   "execution_count": 46,
   "id": "b1d5be44",
   "metadata": {},
   "outputs": [],
   "source": [
    "# perform predictions \n",
    "\n",
    "predictions_RF = clf_1.predict(X_test)\n"
   ]
  },
  {
   "cell_type": "code",
   "execution_count": 47,
   "id": "9dc495dd",
   "metadata": {},
   "outputs": [
    {
     "name": "stdout",
     "output_type": "stream",
     "text": [
      "               precision    recall  f1-score   support\n",
      "\n",
      "   automobile       0.94      0.40      0.56        40\n",
      "entertainment       0.77      0.96      0.85       182\n",
      "     politics       1.00      0.82      0.90       110\n",
      "      science       0.79      0.13      0.22        87\n",
      "       sports       0.98      0.85      0.91       172\n",
      "   technology       0.84      0.52      0.64       156\n",
      "        world       0.54      0.91      0.67       217\n",
      "\n",
      "     accuracy                           0.74       964\n",
      "    macro avg       0.83      0.66      0.68       964\n",
      " weighted avg       0.80      0.74      0.72       964\n",
      "\n"
     ]
    }
   ],
   "source": [
    "print(classification_report(y_test,predictions_RF))"
   ]
  },
  {
   "cell_type": "code",
   "execution_count": 48,
   "id": "2aad63c5",
   "metadata": {},
   "outputs": [],
   "source": [
    "predictions_SVM = clf_2.predict(X_test)"
   ]
  },
  {
   "cell_type": "code",
   "execution_count": 49,
   "id": "3fac5643",
   "metadata": {},
   "outputs": [
    {
     "name": "stdout",
     "output_type": "stream",
     "text": [
      "               precision    recall  f1-score   support\n",
      "\n",
      "   automobile       0.89      1.00      0.94        40\n",
      "entertainment       0.97      0.98      0.98       182\n",
      "     politics       0.97      1.00      0.99       110\n",
      "      science       0.93      0.86      0.89        87\n",
      "       sports       0.98      0.97      0.98       172\n",
      "   technology       0.85      0.89      0.87       156\n",
      "        world       0.95      0.91      0.93       217\n",
      "\n",
      "     accuracy                           0.94       964\n",
      "    macro avg       0.93      0.94      0.94       964\n",
      " weighted avg       0.94      0.94      0.94       964\n",
      "\n"
     ]
    }
   ],
   "source": [
    "print(classification_report(y_test,predictions_SVM))"
   ]
  },
  {
   "cell_type": "code",
   "execution_count": 55,
   "id": "8395a6de",
   "metadata": {},
   "outputs": [
    {
     "name": "stdout",
     "output_type": "stream",
     "text": [
      "Accuracy score for RF based model: 0.7437759336099585\n",
      "Accuracy score for SVM based model: 0.9408713692946058\n"
     ]
    }
   ],
   "source": [
    "# print accuracy for RF and SVM\n",
    "\n",
    "print(\"Accuracy score for RF based model:\", accuracy_score(y_test,predictions_RF))\n",
    "print(\"Accuracy score for SVM based model:\", accuracy_score(y_test,predictions_SVM))"
   ]
  },
  {
   "cell_type": "code",
   "execution_count": 56,
   "id": "533bb274",
   "metadata": {},
   "outputs": [
    {
     "data": {
      "text/plain": [
       "['SVM_mc_nc.joblib']"
      ]
     },
     "execution_count": 56,
     "metadata": {},
     "output_type": "execute_result"
    }
   ],
   "source": [
    "# # import joblib\n",
    "from joblib import dump\n",
    "\n",
    "dump(pipe_svm, filename=\"SVM_mc_nc.joblib\")"
   ]
  },
  {
   "cell_type": "code",
   "execution_count": 58,
   "id": "f374d919",
   "metadata": {},
   "outputs": [],
   "source": [
    "# load the saved model\n",
    "from joblib import load\n",
    "best_pipeline = load(\"SVM_mc_nc.joblib\")"
   ]
  },
  {
   "cell_type": "code",
   "execution_count": 59,
   "id": "d7cba763",
   "metadata": {},
   "outputs": [],
   "source": []
  },
  {
   "cell_type": "code",
   "execution_count": null,
   "id": "1bd6b5d8",
   "metadata": {},
   "outputs": [],
   "source": []
  }
 ],
 "metadata": {
  "kernelspec": {
   "display_name": "Python 3",
   "language": "python",
   "name": "python3"
  },
  "language_info": {
   "codemirror_mode": {
    "name": "ipython",
    "version": 3
   },
   "file_extension": ".py",
   "mimetype": "text/x-python",
   "name": "python",
   "nbconvert_exporter": "python",
   "pygments_lexer": "ipython3",
   "version": "3.8.8"
  }
 },
 "nbformat": 4,
 "nbformat_minor": 5
}
