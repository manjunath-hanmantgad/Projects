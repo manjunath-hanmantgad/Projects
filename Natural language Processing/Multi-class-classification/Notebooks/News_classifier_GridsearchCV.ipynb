{
 "cells": [
  {
   "cell_type": "code",
   "execution_count": 4,
   "id": "030554f7",
   "metadata": {},
   "outputs": [],
   "source": [
    "import pandas as pd\n",
    "import numpy as np\n",
    "import matplotlib.pyplot as plt\n",
    "%matplotlib inline\n",
    "import seaborn as sns\n",
    "import nltk\n",
    "import string\n",
    "import re\n",
    "from sklearn.model_selection import train_test_split\n",
    "from sklearn.metrics import confusion_matrix,classification_report,accuracy_score\n",
    "import pickle\n",
    "from joblib import dump\n",
    "from sklearn.model_selection import GridSearchCV\n",
    "from nltk.stem import WordNetLemmatizer\n",
    "from nltk import word_tokenize\n",
    "from nltk.corpus import stopwords\n",
    "from sklearn.feature_extraction.text import TfidfVectorizer\n",
    "from sklearn.naive_bayes import MultinomialNB\n",
    "from sklearn.svm import LinearSVC\n",
    "from nltk.stem.snowball import SnowballStemmer\n",
    "from sklearn.pipeline import Pipeline"
   ]
  },
  {
   "cell_type": "code",
   "execution_count": 5,
   "id": "eecac619",
   "metadata": {},
   "outputs": [],
   "source": [
    "# load data\n",
    "df =pd.read_csv('news_data.csv')\n"
   ]
  },
  {
   "cell_type": "code",
   "execution_count": 6,
   "id": "bceadf18",
   "metadata": {},
   "outputs": [
    {
     "data": {
      "text/html": [
       "<div>\n",
       "<style scoped>\n",
       "    .dataframe tbody tr th:only-of-type {\n",
       "        vertical-align: middle;\n",
       "    }\n",
       "\n",
       "    .dataframe tbody tr th {\n",
       "        vertical-align: top;\n",
       "    }\n",
       "\n",
       "    .dataframe thead th {\n",
       "        text-align: right;\n",
       "    }\n",
       "</style>\n",
       "<table border=\"1\" class=\"dataframe\">\n",
       "  <thead>\n",
       "    <tr style=\"text-align: right;\">\n",
       "      <th></th>\n",
       "      <th>Unnamed: 0</th>\n",
       "      <th>news_headline</th>\n",
       "      <th>news_article</th>\n",
       "      <th>news_category</th>\n",
       "    </tr>\n",
       "  </thead>\n",
       "  <tbody>\n",
       "    <tr>\n",
       "      <th>0</th>\n",
       "      <td>0</td>\n",
       "      <td>50-year-old problem of biology solved by Artif...</td>\n",
       "      <td>DeepMind's AI system 'AlphaFold' has been reco...</td>\n",
       "      <td>technology</td>\n",
       "    </tr>\n",
       "    <tr>\n",
       "      <th>1</th>\n",
       "      <td>1</td>\n",
       "      <td>Microsoft Teams to stop working on Internet Ex...</td>\n",
       "      <td>Microsoft Teams will stop working on Internet ...</td>\n",
       "      <td>technology</td>\n",
       "    </tr>\n",
       "    <tr>\n",
       "      <th>2</th>\n",
       "      <td>2</td>\n",
       "      <td>Hope US won't erect barriers to cooperation: C...</td>\n",
       "      <td>China, in response to reports of US adding Chi...</td>\n",
       "      <td>technology</td>\n",
       "    </tr>\n",
       "    <tr>\n",
       "      <th>3</th>\n",
       "      <td>3</td>\n",
       "      <td>Global smartphone sales in Q3 falls 5.7% to 36...</td>\n",
       "      <td>The global smartphone sales in the third quart...</td>\n",
       "      <td>technology</td>\n",
       "    </tr>\n",
       "    <tr>\n",
       "      <th>4</th>\n",
       "      <td>4</td>\n",
       "      <td>EU hoping Biden will clarify US position on di...</td>\n",
       "      <td>The European Union (EU) is hoping that US Pres...</td>\n",
       "      <td>technology</td>\n",
       "    </tr>\n",
       "  </tbody>\n",
       "</table>\n",
       "</div>"
      ],
      "text/plain": [
       "   Unnamed: 0                                      news_headline  \\\n",
       "0           0  50-year-old problem of biology solved by Artif...   \n",
       "1           1  Microsoft Teams to stop working on Internet Ex...   \n",
       "2           2  Hope US won't erect barriers to cooperation: C...   \n",
       "3           3  Global smartphone sales in Q3 falls 5.7% to 36...   \n",
       "4           4  EU hoping Biden will clarify US position on di...   \n",
       "\n",
       "                                        news_article news_category  \n",
       "0  DeepMind's AI system 'AlphaFold' has been reco...    technology  \n",
       "1  Microsoft Teams will stop working on Internet ...    technology  \n",
       "2  China, in response to reports of US adding Chi...    technology  \n",
       "3  The global smartphone sales in the third quart...    technology  \n",
       "4  The European Union (EU) is hoping that US Pres...    technology  "
      ]
     },
     "execution_count": 6,
     "metadata": {},
     "output_type": "execute_result"
    }
   ],
   "source": [
    "df.head()"
   ]
  },
  {
   "cell_type": "code",
   "execution_count": 15,
   "id": "7eb032b5",
   "metadata": {},
   "outputs": [
    {
     "data": {
      "text/plain": [
       "['news_headline', 'news_article', 'news_category']"
      ]
     },
     "execution_count": 15,
     "metadata": {},
     "output_type": "execute_result"
    }
   ],
   "source": [
    "list(df.columns)"
   ]
  },
  {
   "cell_type": "code",
   "execution_count": 7,
   "id": "38b69198",
   "metadata": {},
   "outputs": [
    {
     "data": {
      "text/html": [
       "<div>\n",
       "<style scoped>\n",
       "    .dataframe tbody tr th:only-of-type {\n",
       "        vertical-align: middle;\n",
       "    }\n",
       "\n",
       "    .dataframe tbody tr th {\n",
       "        vertical-align: top;\n",
       "    }\n",
       "\n",
       "    .dataframe thead th {\n",
       "        text-align: right;\n",
       "    }\n",
       "</style>\n",
       "<table border=\"1\" class=\"dataframe\">\n",
       "  <thead>\n",
       "    <tr style=\"text-align: right;\">\n",
       "      <th></th>\n",
       "      <th>news_headline</th>\n",
       "      <th>news_article</th>\n",
       "      <th>news_category</th>\n",
       "    </tr>\n",
       "  </thead>\n",
       "  <tbody>\n",
       "    <tr>\n",
       "      <th>0</th>\n",
       "      <td>50-year-old problem of biology solved by Artif...</td>\n",
       "      <td>DeepMind's AI system 'AlphaFold' has been reco...</td>\n",
       "      <td>technology</td>\n",
       "    </tr>\n",
       "    <tr>\n",
       "      <th>1</th>\n",
       "      <td>Microsoft Teams to stop working on Internet Ex...</td>\n",
       "      <td>Microsoft Teams will stop working on Internet ...</td>\n",
       "      <td>technology</td>\n",
       "    </tr>\n",
       "    <tr>\n",
       "      <th>2</th>\n",
       "      <td>Hope US won't erect barriers to cooperation: C...</td>\n",
       "      <td>China, in response to reports of US adding Chi...</td>\n",
       "      <td>technology</td>\n",
       "    </tr>\n",
       "    <tr>\n",
       "      <th>3</th>\n",
       "      <td>Global smartphone sales in Q3 falls 5.7% to 36...</td>\n",
       "      <td>The global smartphone sales in the third quart...</td>\n",
       "      <td>technology</td>\n",
       "    </tr>\n",
       "    <tr>\n",
       "      <th>4</th>\n",
       "      <td>EU hoping Biden will clarify US position on di...</td>\n",
       "      <td>The European Union (EU) is hoping that US Pres...</td>\n",
       "      <td>technology</td>\n",
       "    </tr>\n",
       "    <tr>\n",
       "      <th>...</th>\n",
       "      <td>...</td>\n",
       "      <td>...</td>\n",
       "      <td>...</td>\n",
       "    </tr>\n",
       "    <tr>\n",
       "      <th>4812</th>\n",
       "      <td>AstraZeneca to test combining Oxford vaccine w...</td>\n",
       "      <td>AstraZeneca, which is developing a coronavirus...</td>\n",
       "      <td>science</td>\n",
       "    </tr>\n",
       "    <tr>\n",
       "      <th>4813</th>\n",
       "      <td>Humanity will face 60°C temperatures in 2050s,...</td>\n",
       "      <td>As many as two billion people will face 60°C t...</td>\n",
       "      <td>science</td>\n",
       "    </tr>\n",
       "    <tr>\n",
       "      <th>4814</th>\n",
       "      <td>Human-made objects to outweigh living things b...</td>\n",
       "      <td>Scientists have said that the weight of human-...</td>\n",
       "      <td>science</td>\n",
       "    </tr>\n",
       "    <tr>\n",
       "      <th>4815</th>\n",
       "      <td>IUCN lists 31 species as 'Extinct', European B...</td>\n",
       "      <td>The IUCN released an update of its Red List of...</td>\n",
       "      <td>science</td>\n",
       "    </tr>\n",
       "    <tr>\n",
       "      <th>4816</th>\n",
       "      <td>India not historically responsible for climate...</td>\n",
       "      <td>Environment Minister Prakash Javadekar has sai...</td>\n",
       "      <td>science</td>\n",
       "    </tr>\n",
       "  </tbody>\n",
       "</table>\n",
       "<p>4817 rows × 3 columns</p>\n",
       "</div>"
      ],
      "text/plain": [
       "                                          news_headline  \\\n",
       "0     50-year-old problem of biology solved by Artif...   \n",
       "1     Microsoft Teams to stop working on Internet Ex...   \n",
       "2     Hope US won't erect barriers to cooperation: C...   \n",
       "3     Global smartphone sales in Q3 falls 5.7% to 36...   \n",
       "4     EU hoping Biden will clarify US position on di...   \n",
       "...                                                 ...   \n",
       "4812  AstraZeneca to test combining Oxford vaccine w...   \n",
       "4813  Humanity will face 60°C temperatures in 2050s,...   \n",
       "4814  Human-made objects to outweigh living things b...   \n",
       "4815  IUCN lists 31 species as 'Extinct', European B...   \n",
       "4816  India not historically responsible for climate...   \n",
       "\n",
       "                                           news_article news_category  \n",
       "0     DeepMind's AI system 'AlphaFold' has been reco...    technology  \n",
       "1     Microsoft Teams will stop working on Internet ...    technology  \n",
       "2     China, in response to reports of US adding Chi...    technology  \n",
       "3     The global smartphone sales in the third quart...    technology  \n",
       "4     The European Union (EU) is hoping that US Pres...    technology  \n",
       "...                                                 ...           ...  \n",
       "4812  AstraZeneca, which is developing a coronavirus...       science  \n",
       "4813  As many as two billion people will face 60°C t...       science  \n",
       "4814  Scientists have said that the weight of human-...       science  \n",
       "4815  The IUCN released an update of its Red List of...       science  \n",
       "4816  Environment Minister Prakash Javadekar has sai...       science  \n",
       "\n",
       "[4817 rows x 3 columns]"
      ]
     },
     "execution_count": 7,
     "metadata": {},
     "output_type": "execute_result"
    }
   ],
   "source": [
    "# drop unnamed column\n",
    "df.drop(columns=['Unnamed: 0'],inplace=True)\n",
    "df"
   ]
  },
  {
   "cell_type": "code",
   "execution_count": 9,
   "id": "e19af4a3",
   "metadata": {},
   "outputs": [
    {
     "name": "stdout",
     "output_type": "stream",
     "text": [
      "<class 'pandas.core.frame.DataFrame'>\n",
      "RangeIndex: 4817 entries, 0 to 4816\n",
      "Data columns (total 3 columns):\n",
      " #   Column         Non-Null Count  Dtype \n",
      "---  ------         --------------  ----- \n",
      " 0   news_headline  4817 non-null   object\n",
      " 1   news_article   4817 non-null   object\n",
      " 2   news_category  4817 non-null   object\n",
      "dtypes: object(3)\n",
      "memory usage: 113.0+ KB\n"
     ]
    }
   ],
   "source": [
    "df.info()"
   ]
  },
  {
   "cell_type": "code",
   "execution_count": 10,
   "id": "fa363501",
   "metadata": {},
   "outputs": [
    {
     "data": {
      "text/plain": [
       "news_headline    0\n",
       "news_article     0\n",
       "news_category    0\n",
       "dtype: int64"
      ]
     },
     "execution_count": 10,
     "metadata": {},
     "output_type": "execute_result"
    }
   ],
   "source": [
    "# null values\n",
    "df.isnull().sum()"
   ]
  },
  {
   "cell_type": "markdown",
   "id": "d95d8787",
   "metadata": {},
   "source": [
    "No null values"
   ]
  },
  {
   "cell_type": "code",
   "execution_count": 13,
   "id": "45ac260f",
   "metadata": {},
   "outputs": [
    {
     "name": "stderr",
     "output_type": "stream",
     "text": [
      "C:\\Users\\0023ND744\\Anaconda3\\lib\\site-packages\\seaborn\\_decorators.py:36: FutureWarning: Pass the following variable as a keyword arg: x. From version 0.12, the only valid positional argument will be `data`, and passing other arguments without an explicit keyword will result in an error or misinterpretation.\n",
      "  warnings.warn(\n"
     ]
    },
    {
     "data": {
      "text/plain": [
       "<AxesSubplot:xlabel='news_category', ylabel='count'>"
      ]
     },
     "execution_count": 13,
     "metadata": {},
     "output_type": "execute_result"
    },
    {
     "data": {
      "image/png": "[encoded data removed]",
      "text/plain": [
       "<Figure size 432x288 with 1 Axes>"
      ]
     },
     "metadata": {
      "needs_background": "light"
     },
     "output_type": "display_data"
    }
   ],
   "source": [
    "# countplot for balanced or imbalanced dataset checking\n",
    "sns.countplot(df.news_category)"
   ]
  },
  {
   "cell_type": "code",
   "execution_count": 16,
   "id": "5e0a4221",
   "metadata": {},
   "outputs": [
    {
     "data": {
      "text/plain": [
       "world            1021\n",
       "entertainment     998\n",
       "sports            856\n",
       "technology        751\n",
       "politics          546\n",
       "science           389\n",
       "automobile        256\n",
       "Name: news_category, dtype: int64"
      ]
     },
     "execution_count": 16,
     "metadata": {},
     "output_type": "execute_result"
    }
   ],
   "source": [
    "# checking for values in each target category\n",
    "df['news_category'].value_counts()"
   ]
  },
  {
   "cell_type": "code",
   "execution_count": 26,
   "id": "ddea420f",
   "metadata": {},
   "outputs": [
    {
     "name": "stderr",
     "output_type": "stream",
     "text": [
      "[nltk_data] Downloading package stopwords to\n",
      "[nltk_data]     C:\\Users\\0023ND744\\AppData\\Roaming\\nltk_data...\n",
      "[nltk_data]   Package stopwords is already up-to-date!\n",
      "[nltk_data] Downloading package wordnet to\n",
      "[nltk_data]     C:\\Users\\0023ND744\\AppData\\Roaming\\nltk_data...\n",
      "[nltk_data]   Package wordnet is already up-to-date!\n",
      "[nltk_data] Downloading package punkt to\n",
      "[nltk_data]     C:\\Users\\0023ND744\\AppData\\Roaming\\nltk_data...\n",
      "[nltk_data]   Unzipping tokenizers\\punkt.zip.\n"
     ]
    },
    {
     "data": {
      "text/plain": [
       "True"
      ]
     },
     "execution_count": 26,
     "metadata": {},
     "output_type": "execute_result"
    }
   ],
   "source": [
    "nltk.download('stopwords')\n",
    "nltk.download('wordnet')\n",
    "nltk.download('punkt')"
   ]
  },
  {
   "cell_type": "code",
   "execution_count": 27,
   "id": "98ea13af",
   "metadata": {},
   "outputs": [
    {
     "name": "stdout",
     "output_type": "stream",
     "text": [
      "['i', 'me', 'my', 'myself', 'we', 'our', 'ours', 'ourselves', 'you', \"you're\", \"you've\", \"you'll\", \"you'd\", 'your', 'yours', 'yourself', 'yourselves', 'he', 'him', 'his', 'himself', 'she', \"she's\", 'her', 'hers', 'herself', 'it', \"it's\", 'its', 'itself', 'they', 'them', 'their', 'theirs', 'themselves', 'what', 'which', 'who', 'whom', 'this', 'that', \"that'll\", 'these', 'those', 'am', 'is', 'are', 'was', 'were', 'be', 'been', 'being', 'have', 'has', 'had', 'having', 'do', 'does', 'did', 'doing', 'a', 'an', 'the', 'and', 'but', 'if', 'or', 'because', 'as', 'until', 'while', 'of', 'at', 'by', 'for', 'with', 'about', 'against', 'between', 'into', 'through', 'during', 'before', 'after', 'above', 'below', 'to', 'from', 'up', 'down', 'in', 'out', 'on', 'off', 'over', 'under', 'again', 'further', 'then', 'once', 'here', 'there', 'when', 'where', 'why', 'how', 'all', 'any', 'both', 'each', 'few', 'more', 'most', 'other', 'some', 'such', 'no', 'nor', 'not', 'only', 'own', 'same', 'so', 'than', 'too', 'very', 's', 't', 'can', 'will', 'just', 'don', \"don't\", 'should', \"should've\", 'now', 'd', 'll', 'm', 'o', 're', 've', 'y', 'ain', 'aren', \"aren't\", 'couldn', \"couldn't\", 'didn', \"didn't\", 'doesn', \"doesn't\", 'hadn', \"hadn't\", 'hasn', \"hasn't\", 'haven', \"haven't\", 'isn', \"isn't\", 'ma', 'mightn', \"mightn't\", 'mustn', \"mustn't\", 'needn', \"needn't\", 'shan', \"shan't\", 'shouldn', \"shouldn't\", 'wasn', \"wasn't\", 'weren', \"weren't\", 'won', \"won't\", 'wouldn', \"wouldn't\"]\n"
     ]
    }
   ],
   "source": [
    "print(stopwords.words('english'))"
   ]
  },
  {
   "cell_type": "code",
   "execution_count": 28,
   "id": "f3cfa65c",
   "metadata": {},
   "outputs": [],
   "source": [
    "# single function for removing stop words , tokenize,lemmatize\n",
    "stop_words_ = set(stopwords.words('english'))\n",
    "wn = WordNetLemmatizer()\n",
    "\n",
    "my_stopwords = ['make', 'like',  'news','new' ,'time', 'u','s','get', 'say']\n",
    "def black_txt(token):\n",
    "    return  token not in stop_words_ and token not in list(string.punctuation)  and len(token)>2 and token not in my_stopwords\n",
    "  \n",
    "  \n",
    "def clean_txt(text):\n",
    "  clean_text = []\n",
    "  clean_text2 = []\n",
    "  text = re.sub(\"'\", \"\",text)\n",
    "  text=re.sub(\"(\\\\d|\\\\W)+\",\" \",text)    \n",
    "  clean_text = [ wn.lemmatize(word, pos=\"v\") for word in word_tokenize(text.lower()) if black_txt(word)]\n",
    "  clean_text2 = [word for word in clean_text if black_txt(word)]\n",
    "  return \" \".join(clean_text2)"
   ]
  },
  {
   "cell_type": "code",
   "execution_count": 29,
   "id": "1c4552e1",
   "metadata": {},
   "outputs": [],
   "source": [
    "# joining 2 columns \n",
    "\n",
    "df['text'] = df['news_headline'] + \" \" + df['news_article']"
   ]
  },
  {
   "cell_type": "code",
   "execution_count": 30,
   "id": "9a7fb4b6",
   "metadata": {},
   "outputs": [
    {
     "data": {
      "text/html": [
       "<div>\n",
       "<style scoped>\n",
       "    .dataframe tbody tr th:only-of-type {\n",
       "        vertical-align: middle;\n",
       "    }\n",
       "\n",
       "    .dataframe tbody tr th {\n",
       "        vertical-align: top;\n",
       "    }\n",
       "\n",
       "    .dataframe thead th {\n",
       "        text-align: right;\n",
       "    }\n",
       "</style>\n",
       "<table border=\"1\" class=\"dataframe\">\n",
       "  <thead>\n",
       "    <tr style=\"text-align: right;\">\n",
       "      <th></th>\n",
       "      <th>news_headline</th>\n",
       "      <th>news_article</th>\n",
       "      <th>news_category</th>\n",
       "      <th>text</th>\n",
       "    </tr>\n",
       "  </thead>\n",
       "  <tbody>\n",
       "    <tr>\n",
       "      <th>0</th>\n",
       "      <td>50-year-old problem of biology solved by Artif...</td>\n",
       "      <td>DeepMind's AI system 'AlphaFold' has been reco...</td>\n",
       "      <td>technology</td>\n",
       "      <td>50-year-old problem of biology solved by Artif...</td>\n",
       "    </tr>\n",
       "    <tr>\n",
       "      <th>1</th>\n",
       "      <td>Microsoft Teams to stop working on Internet Ex...</td>\n",
       "      <td>Microsoft Teams will stop working on Internet ...</td>\n",
       "      <td>technology</td>\n",
       "      <td>Microsoft Teams to stop working on Internet Ex...</td>\n",
       "    </tr>\n",
       "    <tr>\n",
       "      <th>2</th>\n",
       "      <td>Hope US won't erect barriers to cooperation: C...</td>\n",
       "      <td>China, in response to reports of US adding Chi...</td>\n",
       "      <td>technology</td>\n",
       "      <td>Hope US won't erect barriers to cooperation: C...</td>\n",
       "    </tr>\n",
       "    <tr>\n",
       "      <th>3</th>\n",
       "      <td>Global smartphone sales in Q3 falls 5.7% to 36...</td>\n",
       "      <td>The global smartphone sales in the third quart...</td>\n",
       "      <td>technology</td>\n",
       "      <td>Global smartphone sales in Q3 falls 5.7% to 36...</td>\n",
       "    </tr>\n",
       "    <tr>\n",
       "      <th>4</th>\n",
       "      <td>EU hoping Biden will clarify US position on di...</td>\n",
       "      <td>The European Union (EU) is hoping that US Pres...</td>\n",
       "      <td>technology</td>\n",
       "      <td>EU hoping Biden will clarify US position on di...</td>\n",
       "    </tr>\n",
       "    <tr>\n",
       "      <th>...</th>\n",
       "      <td>...</td>\n",
       "      <td>...</td>\n",
       "      <td>...</td>\n",
       "      <td>...</td>\n",
       "    </tr>\n",
       "    <tr>\n",
       "      <th>4812</th>\n",
       "      <td>AstraZeneca to test combining Oxford vaccine w...</td>\n",
       "      <td>AstraZeneca, which is developing a coronavirus...</td>\n",
       "      <td>science</td>\n",
       "      <td>AstraZeneca to test combining Oxford vaccine w...</td>\n",
       "    </tr>\n",
       "    <tr>\n",
       "      <th>4813</th>\n",
       "      <td>Humanity will face 60°C temperatures in 2050s,...</td>\n",
       "      <td>As many as two billion people will face 60°C t...</td>\n",
       "      <td>science</td>\n",
       "      <td>Humanity will face 60°C temperatures in 2050s,...</td>\n",
       "    </tr>\n",
       "    <tr>\n",
       "      <th>4814</th>\n",
       "      <td>Human-made objects to outweigh living things b...</td>\n",
       "      <td>Scientists have said that the weight of human-...</td>\n",
       "      <td>science</td>\n",
       "      <td>Human-made objects to outweigh living things b...</td>\n",
       "    </tr>\n",
       "    <tr>\n",
       "      <th>4815</th>\n",
       "      <td>IUCN lists 31 species as 'Extinct', European B...</td>\n",
       "      <td>The IUCN released an update of its Red List of...</td>\n",
       "      <td>science</td>\n",
       "      <td>IUCN lists 31 species as 'Extinct', European B...</td>\n",
       "    </tr>\n",
       "    <tr>\n",
       "      <th>4816</th>\n",
       "      <td>India not historically responsible for climate...</td>\n",
       "      <td>Environment Minister Prakash Javadekar has sai...</td>\n",
       "      <td>science</td>\n",
       "      <td>India not historically responsible for climate...</td>\n",
       "    </tr>\n",
       "  </tbody>\n",
       "</table>\n",
       "<p>4817 rows × 4 columns</p>\n",
       "</div>"
      ],
      "text/plain": [
       "                                          news_headline  \\\n",
       "0     50-year-old problem of biology solved by Artif...   \n",
       "1     Microsoft Teams to stop working on Internet Ex...   \n",
       "2     Hope US won't erect barriers to cooperation: C...   \n",
       "3     Global smartphone sales in Q3 falls 5.7% to 36...   \n",
       "4     EU hoping Biden will clarify US position on di...   \n",
       "...                                                 ...   \n",
       "4812  AstraZeneca to test combining Oxford vaccine w...   \n",
       "4813  Humanity will face 60°C temperatures in 2050s,...   \n",
       "4814  Human-made objects to outweigh living things b...   \n",
       "4815  IUCN lists 31 species as 'Extinct', European B...   \n",
       "4816  India not historically responsible for climate...   \n",
       "\n",
       "                                           news_article news_category  \\\n",
       "0     DeepMind's AI system 'AlphaFold' has been reco...    technology   \n",
       "1     Microsoft Teams will stop working on Internet ...    technology   \n",
       "2     China, in response to reports of US adding Chi...    technology   \n",
       "3     The global smartphone sales in the third quart...    technology   \n",
       "4     The European Union (EU) is hoping that US Pres...    technology   \n",
       "...                                                 ...           ...   \n",
       "4812  AstraZeneca, which is developing a coronavirus...       science   \n",
       "4813  As many as two billion people will face 60°C t...       science   \n",
       "4814  Scientists have said that the weight of human-...       science   \n",
       "4815  The IUCN released an update of its Red List of...       science   \n",
       "4816  Environment Minister Prakash Javadekar has sai...       science   \n",
       "\n",
       "                                                   text  \n",
       "0     50-year-old problem of biology solved by Artif...  \n",
       "1     Microsoft Teams to stop working on Internet Ex...  \n",
       "2     Hope US won't erect barriers to cooperation: C...  \n",
       "3     Global smartphone sales in Q3 falls 5.7% to 36...  \n",
       "4     EU hoping Biden will clarify US position on di...  \n",
       "...                                                 ...  \n",
       "4812  AstraZeneca to test combining Oxford vaccine w...  \n",
       "4813  Humanity will face 60°C temperatures in 2050s,...  \n",
       "4814  Human-made objects to outweigh living things b...  \n",
       "4815  IUCN lists 31 species as 'Extinct', European B...  \n",
       "4816  India not historically responsible for climate...  \n",
       "\n",
       "[4817 rows x 4 columns]"
      ]
     },
     "execution_count": 30,
     "metadata": {},
     "output_type": "execute_result"
    }
   ],
   "source": [
    "df"
   ]
  },
  {
   "cell_type": "code",
   "execution_count": 31,
   "id": "dd8d9bfb",
   "metadata": {},
   "outputs": [
    {
     "data": {
      "text/plain": [
       "'Parliamentary panel divided over key issues in Data Protection Bill: Report The members of the Joint Parliamentary Committee are divided over key issues in the Personal Data Protection Bill, 2019, such as the provision allowing government access to sensitive data of citizens without their consent and data localisation, ET reported. The panel, chaired by BJP MP Meenakashi Lekhi, has held consultations with stakeholders like Facebook, Twitter, Google, Ola, Uber and Paytm.'"
      ]
     },
     "execution_count": 31,
     "metadata": {},
     "output_type": "execute_result"
    }
   ],
   "source": [
    "# checking if cleaning function works\n",
    "\n",
    "df.text[5]"
   ]
  },
  {
   "cell_type": "code",
   "execution_count": 32,
   "id": "be1c9bb2",
   "metadata": {},
   "outputs": [
    {
     "data": {
      "text/plain": [
       "'parliamentary panel divide key issue data protection bill report members joint parliamentary committee divide key issue personal data protection bill provision allow government access sensitive data citizens without consent data localisation report panel chair bjp meenakashi lekhi hold consultations stakeholders facebook twitter google ola uber paytm'"
      ]
     },
     "execution_count": 32,
     "metadata": {},
     "output_type": "execute_result"
    }
   ],
   "source": [
    "clean_txt(df.text[5])"
   ]
  },
  {
   "cell_type": "code",
   "execution_count": 35,
   "id": "6eb0c974",
   "metadata": {},
   "outputs": [],
   "source": [
    "df['clean_text'] = df['text'].apply(lambda x: clean_txt(x))"
   ]
  },
  {
   "cell_type": "code",
   "execution_count": 36,
   "id": "f30cc4fe",
   "metadata": {},
   "outputs": [
    {
     "data": {
      "text/html": [
       "<div>\n",
       "<style scoped>\n",
       "    .dataframe tbody tr th:only-of-type {\n",
       "        vertical-align: middle;\n",
       "    }\n",
       "\n",
       "    .dataframe tbody tr th {\n",
       "        vertical-align: top;\n",
       "    }\n",
       "\n",
       "    .dataframe thead th {\n",
       "        text-align: right;\n",
       "    }\n",
       "</style>\n",
       "<table border=\"1\" class=\"dataframe\">\n",
       "  <thead>\n",
       "    <tr style=\"text-align: right;\">\n",
       "      <th></th>\n",
       "      <th>news_headline</th>\n",
       "      <th>news_article</th>\n",
       "      <th>news_category</th>\n",
       "      <th>text</th>\n",
       "      <th>clean_text</th>\n",
       "    </tr>\n",
       "  </thead>\n",
       "  <tbody>\n",
       "    <tr>\n",
       "      <th>0</th>\n",
       "      <td>50-year-old problem of biology solved by Artif...</td>\n",
       "      <td>DeepMind's AI system 'AlphaFold' has been reco...</td>\n",
       "      <td>technology</td>\n",
       "      <td>50-year-old problem of biology solved by Artif...</td>\n",
       "      <td>year old problem biology solve artificial inte...</td>\n",
       "    </tr>\n",
       "    <tr>\n",
       "      <th>1</th>\n",
       "      <td>Microsoft Teams to stop working on Internet Ex...</td>\n",
       "      <td>Microsoft Teams will stop working on Internet ...</td>\n",
       "      <td>technology</td>\n",
       "      <td>Microsoft Teams to stop working on Internet Ex...</td>\n",
       "      <td>microsoft team stop work internet explorer nov...</td>\n",
       "    </tr>\n",
       "    <tr>\n",
       "      <th>2</th>\n",
       "      <td>Hope US won't erect barriers to cooperation: C...</td>\n",
       "      <td>China, in response to reports of US adding Chi...</td>\n",
       "      <td>technology</td>\n",
       "      <td>Hope US won't erect barriers to cooperation: C...</td>\n",
       "      <td>hope wont erect barriers cooperation china bla...</td>\n",
       "    </tr>\n",
       "    <tr>\n",
       "      <th>3</th>\n",
       "      <td>Global smartphone sales in Q3 falls 5.7% to 36...</td>\n",
       "      <td>The global smartphone sales in the third quart...</td>\n",
       "      <td>technology</td>\n",
       "      <td>Global smartphone sales in Q3 falls 5.7% to 36...</td>\n",
       "      <td>global smartphone sales fall units gartner glo...</td>\n",
       "    </tr>\n",
       "    <tr>\n",
       "      <th>4</th>\n",
       "      <td>EU hoping Biden will clarify US position on di...</td>\n",
       "      <td>The European Union (EU) is hoping that US Pres...</td>\n",
       "      <td>technology</td>\n",
       "      <td>EU hoping Biden will clarify US position on di...</td>\n",
       "      <td>hop biden clarify position digital tax report ...</td>\n",
       "    </tr>\n",
       "    <tr>\n",
       "      <th>...</th>\n",
       "      <td>...</td>\n",
       "      <td>...</td>\n",
       "      <td>...</td>\n",
       "      <td>...</td>\n",
       "      <td>...</td>\n",
       "    </tr>\n",
       "    <tr>\n",
       "      <th>4812</th>\n",
       "      <td>AstraZeneca to test combining Oxford vaccine w...</td>\n",
       "      <td>AstraZeneca, which is developing a coronavirus...</td>\n",
       "      <td>science</td>\n",
       "      <td>AstraZeneca to test combining Oxford vaccine w...</td>\n",
       "      <td>astrazeneca test combine oxford vaccine sputni...</td>\n",
       "    </tr>\n",
       "    <tr>\n",
       "      <th>4813</th>\n",
       "      <td>Humanity will face 60°C temperatures in 2050s,...</td>\n",
       "      <td>As many as two billion people will face 60°C t...</td>\n",
       "      <td>science</td>\n",
       "      <td>Humanity will face 60°C temperatures in 2050s,...</td>\n",
       "      <td>humanity face temperatures warn wef many two b...</td>\n",
       "    </tr>\n",
       "    <tr>\n",
       "      <th>4814</th>\n",
       "      <td>Human-made objects to outweigh living things b...</td>\n",
       "      <td>Scientists have said that the weight of human-...</td>\n",
       "      <td>science</td>\n",
       "      <td>Human-made objects to outweigh living things b...</td>\n",
       "      <td>human object outweigh live things end study sc...</td>\n",
       "    </tr>\n",
       "    <tr>\n",
       "      <th>4815</th>\n",
       "      <td>IUCN lists 31 species as 'Extinct', European B...</td>\n",
       "      <td>The IUCN released an update of its Red List of...</td>\n",
       "      <td>science</td>\n",
       "      <td>IUCN lists 31 species as 'Extinct', European B...</td>\n",
       "      <td>iucn list species extinct european bison see r...</td>\n",
       "    </tr>\n",
       "    <tr>\n",
       "      <th>4816</th>\n",
       "      <td>India not historically responsible for climate...</td>\n",
       "      <td>Environment Minister Prakash Javadekar has sai...</td>\n",
       "      <td>science</td>\n",
       "      <td>India not historically responsible for climate...</td>\n",
       "      <td>india historically responsible climate change ...</td>\n",
       "    </tr>\n",
       "  </tbody>\n",
       "</table>\n",
       "<p>4817 rows × 5 columns</p>\n",
       "</div>"
      ],
      "text/plain": [
       "                                          news_headline  \\\n",
       "0     50-year-old problem of biology solved by Artif...   \n",
       "1     Microsoft Teams to stop working on Internet Ex...   \n",
       "2     Hope US won't erect barriers to cooperation: C...   \n",
       "3     Global smartphone sales in Q3 falls 5.7% to 36...   \n",
       "4     EU hoping Biden will clarify US position on di...   \n",
       "...                                                 ...   \n",
       "4812  AstraZeneca to test combining Oxford vaccine w...   \n",
       "4813  Humanity will face 60°C temperatures in 2050s,...   \n",
       "4814  Human-made objects to outweigh living things b...   \n",
       "4815  IUCN lists 31 species as 'Extinct', European B...   \n",
       "4816  India not historically responsible for climate...   \n",
       "\n",
       "                                           news_article news_category  \\\n",
       "0     DeepMind's AI system 'AlphaFold' has been reco...    technology   \n",
       "1     Microsoft Teams will stop working on Internet ...    technology   \n",
       "2     China, in response to reports of US adding Chi...    technology   \n",
       "3     The global smartphone sales in the third quart...    technology   \n",
       "4     The European Union (EU) is hoping that US Pres...    technology   \n",
       "...                                                 ...           ...   \n",
       "4812  AstraZeneca, which is developing a coronavirus...       science   \n",
       "4813  As many as two billion people will face 60°C t...       science   \n",
       "4814  Scientists have said that the weight of human-...       science   \n",
       "4815  The IUCN released an update of its Red List of...       science   \n",
       "4816  Environment Minister Prakash Javadekar has sai...       science   \n",
       "\n",
       "                                                   text  \\\n",
       "0     50-year-old problem of biology solved by Artif...   \n",
       "1     Microsoft Teams to stop working on Internet Ex...   \n",
       "2     Hope US won't erect barriers to cooperation: C...   \n",
       "3     Global smartphone sales in Q3 falls 5.7% to 36...   \n",
       "4     EU hoping Biden will clarify US position on di...   \n",
       "...                                                 ...   \n",
       "4812  AstraZeneca to test combining Oxford vaccine w...   \n",
       "4813  Humanity will face 60°C temperatures in 2050s,...   \n",
       "4814  Human-made objects to outweigh living things b...   \n",
       "4815  IUCN lists 31 species as 'Extinct', European B...   \n",
       "4816  India not historically responsible for climate...   \n",
       "\n",
       "                                             clean_text  \n",
       "0     year old problem biology solve artificial inte...  \n",
       "1     microsoft team stop work internet explorer nov...  \n",
       "2     hope wont erect barriers cooperation china bla...  \n",
       "3     global smartphone sales fall units gartner glo...  \n",
       "4     hop biden clarify position digital tax report ...  \n",
       "...                                                 ...  \n",
       "4812  astrazeneca test combine oxford vaccine sputni...  \n",
       "4813  humanity face temperatures warn wef many two b...  \n",
       "4814  human object outweigh live things end study sc...  \n",
       "4815  iucn list species extinct european bison see r...  \n",
       "4816  india historically responsible climate change ...  \n",
       "\n",
       "[4817 rows x 5 columns]"
      ]
     },
     "execution_count": 36,
     "metadata": {},
     "output_type": "execute_result"
    }
   ],
   "source": [
    "df"
   ]
  },
  {
   "cell_type": "code",
   "execution_count": 37,
   "id": "1ac2384f",
   "metadata": {},
   "outputs": [],
   "source": [
    "# train test split\n",
    "\n",
    "X, y = df['clean_text'], df['news_category']"
   ]
  },
  {
   "cell_type": "code",
   "execution_count": 38,
   "id": "6ed7a387",
   "metadata": {},
   "outputs": [
    {
     "data": {
      "text/plain": [
       "(4817,)"
      ]
     },
     "execution_count": 38,
     "metadata": {},
     "output_type": "execute_result"
    }
   ],
   "source": [
    "X.shape"
   ]
  },
  {
   "cell_type": "code",
   "execution_count": 39,
   "id": "e5dcb83f",
   "metadata": {},
   "outputs": [],
   "source": [
    "X_train, X_test, y_train, y_test = train_test_split(X, y, test_size=0.3, random_state=42)"
   ]
  },
  {
   "cell_type": "code",
   "execution_count": 40,
   "id": "3de4faa8",
   "metadata": {},
   "outputs": [
    {
     "data": {
      "text/plain": [
       "(3371,)"
      ]
     },
     "execution_count": 40,
     "metadata": {},
     "output_type": "execute_result"
    }
   ],
   "source": [
    "X_train.shape"
   ]
  },
  {
   "cell_type": "code",
   "execution_count": 41,
   "id": "3246c40e",
   "metadata": {},
   "outputs": [
    {
     "data": {
      "text/plain": [
       "(1446,)"
      ]
     },
     "execution_count": 41,
     "metadata": {},
     "output_type": "execute_result"
    }
   ],
   "source": [
    "X_test.shape"
   ]
  },
  {
   "cell_type": "code",
   "execution_count": 43,
   "id": "77d7412a",
   "metadata": {},
   "outputs": [],
   "source": [
    "#Pipeline will take in models with certain parameters that we can then pass through a GridSearch to see which model and parameters give the best results.\n",
    "from sklearn.feature_extraction.text import TfidfVectorizer"
   ]
  },
  {
   "cell_type": "code",
   "execution_count": 44,
   "id": "b3858bae",
   "metadata": {},
   "outputs": [],
   "source": [
    "#TfidfVectorizer is used on sentences, while TfidfTransformer is used on an existing count matrix, such as one returned by CountVectorizer."
   ]
  },
  {
   "cell_type": "code",
   "execution_count": null,
   "id": "cacee3dc",
   "metadata": {},
   "outputs": [],
   "source": [
    "# TFIDF pipeline setup\n",
    "#tvc_pipe = Pipeline([\n",
    " #(‘tvec’, TfidfVectorizer()),\n",
    " #(‘mb’, MultinomialNB())\n",
    "#])"
   ]
  },
  {
   "cell_type": "code",
   "execution_count": 46,
   "id": "af7f5687",
   "metadata": {},
   "outputs": [],
   "source": [
    "# pipleine for MultinomialNB\n",
    "\n",
    "pipeline_LR = Pipeline([('tfidf', TfidfVectorizer()),\n",
    "                ('model', MultinomialNB())])\n",
    "\n",
    "# pipeline for Linear SVC\n",
    "\n",
    "pipeline_SVM = Pipeline([('tfidf', TfidfVectorizer()),\n",
    "                ('clf', LinearSVC())])"
   ]
  },
  {
   "cell_type": "code",
   "execution_count": 48,
   "id": "88821096",
   "metadata": {},
   "outputs": [
    {
     "data": {
      "text/plain": [
       "Pipeline(steps=[('tfidf', TfidfVectorizer()), ('model', MultinomialNB())])"
      ]
     },
     "execution_count": 48,
     "metadata": {},
     "output_type": "execute_result"
    }
   ],
   "source": [
    "# fit the models \n",
    "\n",
    "\n",
    "pipeline_LR.fit(X_train, y_train)\n"
   ]
  },
  {
   "cell_type": "code",
   "execution_count": 49,
   "id": "5c47c7f9",
   "metadata": {},
   "outputs": [
    {
     "data": {
      "text/plain": [
       "Pipeline(steps=[('tfidf', TfidfVectorizer()), ('clf', LinearSVC())])"
      ]
     },
     "execution_count": 49,
     "metadata": {},
     "output_type": "execute_result"
    }
   ],
   "source": [
    "pipeline_SVM.fit(X_train, y_train)"
   ]
  },
  {
   "cell_type": "code",
   "execution_count": 51,
   "id": "431243cf",
   "metadata": {},
   "outputs": [],
   "source": [
    "# Setting params for TFIDF Vectorizer gridsearch\n",
    "tf_params = {\n",
    " 'tfidf__max_features':[100, 2000],\n",
    " 'tfidf__ngram_range': [(1, 1), (1, 2), (2, 2)],\n",
    " 'tfidf__stop_words': [None, 'english']}"
   ]
  },
  {
   "cell_type": "code",
   "execution_count": 52,
   "id": "8336aa2b",
   "metadata": {},
   "outputs": [],
   "source": [
    "# setting up grdisearch"
   ]
  },
  {
   "cell_type": "code",
   "execution_count": 53,
   "id": "1a7601aa",
   "metadata": {},
   "outputs": [],
   "source": [
    "LR_gs = GridSearchCV(pipeline_LR, param_grid=tf_params, cv = 5, verbose =1, n_jobs = -1)"
   ]
  },
  {
   "cell_type": "code",
   "execution_count": 54,
   "id": "a84ca22d",
   "metadata": {},
   "outputs": [],
   "source": [
    "SVM_gs = GridSearchCV(pipeline_SVM, param_grid=tf_params, cv = 5, verbose =1, n_jobs = -1)"
   ]
  },
  {
   "cell_type": "code",
   "execution_count": 55,
   "id": "a3997623",
   "metadata": {},
   "outputs": [
    {
     "name": "stdout",
     "output_type": "stream",
     "text": [
      "Fitting 5 folds for each of 12 candidates, totalling 60 fits\n"
     ]
    },
    {
     "data": {
      "text/plain": [
       "GridSearchCV(cv=5,\n",
       "             estimator=Pipeline(steps=[('tfidf', TfidfVectorizer()),\n",
       "                                       ('model', MultinomialNB())]),\n",
       "             n_jobs=-1,\n",
       "             param_grid={'tfidf__max_features': [100, 2000],\n",
       "                         'tfidf__ngram_range': [(1, 1), (1, 2), (2, 2)],\n",
       "                         'tfidf__stop_words': [None, 'english']},\n",
       "             verbose=1)"
      ]
     },
     "execution_count": 55,
     "metadata": {},
     "output_type": "execute_result"
    }
   ],
   "source": [
    "# now fit with grid search\n",
    "\n",
    "LR_gs.fit(X_train, y_train)"
   ]
  },
  {
   "cell_type": "code",
   "execution_count": 56,
   "id": "a8cdb53b",
   "metadata": {},
   "outputs": [
    {
     "name": "stdout",
     "output_type": "stream",
     "text": [
      "Fitting 5 folds for each of 12 candidates, totalling 60 fits\n"
     ]
    },
    {
     "data": {
      "text/plain": [
       "GridSearchCV(cv=5,\n",
       "             estimator=Pipeline(steps=[('tfidf', TfidfVectorizer()),\n",
       "                                       ('clf', LinearSVC())]),\n",
       "             n_jobs=-1,\n",
       "             param_grid={'tfidf__max_features': [100, 2000],\n",
       "                         'tfidf__ngram_range': [(1, 1), (1, 2), (2, 2)],\n",
       "                         'tfidf__stop_words': [None, 'english']},\n",
       "             verbose=1)"
      ]
     },
     "execution_count": 56,
     "metadata": {},
     "output_type": "execute_result"
    }
   ],
   "source": [
    "SVM_gs.fit(X_train, y_train)"
   ]
  },
  {
   "cell_type": "code",
   "execution_count": 57,
   "id": "2689c6c9",
   "metadata": {},
   "outputs": [
    {
     "data": {
      "text/plain": [
       "0.9323642835953723"
      ]
     },
     "execution_count": 57,
     "metadata": {},
     "output_type": "execute_result"
    }
   ],
   "source": [
    "# scoring the models\n",
    "\n",
    "# Scoring Training data on NB\n",
    "LR_gs.score(X_train, y_train)"
   ]
  },
  {
   "cell_type": "code",
   "execution_count": 59,
   "id": "f883fc74",
   "metadata": {},
   "outputs": [
    {
     "data": {
      "text/plain": [
       "0.9747849302877485"
      ]
     },
     "execution_count": 59,
     "metadata": {},
     "output_type": "execute_result"
    }
   ],
   "source": [
    "# Scoring Training data on SVM\n",
    "SVM_gs.score(X_train, y_train)"
   ]
  },
  {
   "cell_type": "code",
   "execution_count": 61,
   "id": "b87be596",
   "metadata": {},
   "outputs": [
    {
     "data": {
      "text/plain": [
       "0.8941908713692946"
      ]
     },
     "execution_count": 61,
     "metadata": {},
     "output_type": "execute_result"
    }
   ],
   "source": [
    "# Scoring Test data on NB\n",
    "LR_gs.score(X_test, y_test)"
   ]
  },
  {
   "cell_type": "code",
   "execution_count": 62,
   "id": "5111339d",
   "metadata": {},
   "outputs": [
    {
     "data": {
      "text/plain": [
       "0.9239280774550485"
      ]
     },
     "execution_count": 62,
     "metadata": {},
     "output_type": "execute_result"
    }
   ],
   "source": [
    "# Scoring Test data on SVM\n",
    "SVM_gs.score(X_test, y_test)"
   ]
  },
  {
   "cell_type": "code",
   "execution_count": 63,
   "id": "707be7e0",
   "metadata": {},
   "outputs": [
    {
     "name": "stdout",
     "output_type": "stream",
     "text": [
      "\n",
      "Train and test scoring for NB\n",
      "0.9323642835953723\n",
      "0.8941908713692946\n",
      "\n",
      "Train and test scoring for SVM\n",
      "0.9747849302877485\n",
      "0.9239280774550485\n"
     ]
    }
   ],
   "source": [
    "# putting it toghether\n",
    "\n",
    "print('\\nTrain and test scoring for NB')\n",
    "print(LR_gs.score(X_train, y_train))\n",
    "print(LR_gs.score(X_test, y_test))\n",
    "\n",
    "\n",
    "print('\\nTrain and test scoring for SVM')\n",
    "print(SVM_gs.score(X_train, y_train))\n",
    "print(SVM_gs.score(X_test, y_test))"
   ]
  },
  {
   "cell_type": "code",
   "execution_count": null,
   "id": "898fb4c1",
   "metadata": {},
   "outputs": [],
   "source": []
  }
 ],
 "metadata": {
  "kernelspec": {
   "display_name": "Python 3",
   "language": "python",
   "name": "python3"
  },
  "language_info": {
   "codemirror_mode": {
    "name": "ipython",
    "version": 3
   },
   "file_extension": ".py",
   "mimetype": "text/x-python",
   "name": "python",
   "nbconvert_exporter": "python",
   "pygments_lexer": "ipython3",
   "version": "3.8.8"
  }
 },
 "nbformat": 4,
 "nbformat_minor": 5
}
