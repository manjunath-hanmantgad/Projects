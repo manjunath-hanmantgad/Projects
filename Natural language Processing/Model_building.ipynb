{
 "cells": [
  {
   "cell_type": "code",
   "execution_count": 1,
   "id": "31d74f20",
   "metadata": {},
   "outputs": [
    {
     "data": {
      "text/html": [
       "<div>\n",
       "<style scoped>\n",
       "    .dataframe tbody tr th:only-of-type {\n",
       "        vertical-align: middle;\n",
       "    }\n",
       "\n",
       "    .dataframe tbody tr th {\n",
       "        vertical-align: top;\n",
       "    }\n",
       "\n",
       "    .dataframe thead th {\n",
       "        text-align: right;\n",
       "    }\n",
       "</style>\n",
       "<table border=\"1\" class=\"dataframe\">\n",
       "  <thead>\n",
       "    <tr style=\"text-align: right;\">\n",
       "      <th></th>\n",
       "      <th>Issue_id</th>\n",
       "      <th>Priority</th>\n",
       "      <th>Component</th>\n",
       "      <th>Duplicated_issue</th>\n",
       "      <th>Title</th>\n",
       "      <th>Description</th>\n",
       "      <th>Status</th>\n",
       "      <th>Resolution</th>\n",
       "      <th>Version</th>\n",
       "      <th>Created_time</th>\n",
       "      <th>Resolved_time</th>\n",
       "    </tr>\n",
       "  </thead>\n",
       "  <tbody>\n",
       "    <tr>\n",
       "      <th>0</th>\n",
       "      <td>1518</td>\n",
       "      <td>P1</td>\n",
       "      <td>Debug</td>\n",
       "      <td>NaN</td>\n",
       "      <td>Icons needed for actions (1GI5UXW)</td>\n",
       "      <td>JGS (8/8/01 5:20:19 PM); \\tWe need enabled; di...</td>\n",
       "      <td>VERIFIED</td>\n",
       "      <td>FIXED</td>\n",
       "      <td>2.0</td>\n",
       "      <td>2001-10-10 22:14:00 -0400</td>\n",
       "      <td>2001-10-18 11:51:14 -0400</td>\n",
       "    </tr>\n",
       "    <tr>\n",
       "      <th>1</th>\n",
       "      <td>1519</td>\n",
       "      <td>P3</td>\n",
       "      <td>Debug</td>\n",
       "      <td>NaN</td>\n",
       "      <td>README: Hit count not reset (1GET20Y)</td>\n",
       "      <td>JGS (6/4/01 11:43:47 AM); \\tSet a breakpoint i...</td>\n",
       "      <td>RESOLVED</td>\n",
       "      <td>WORKSFORME</td>\n",
       "      <td>2.0</td>\n",
       "      <td>2001-10-10 22:14:00 -0400</td>\n",
       "      <td>2001-11-28 13:42:46 -0500</td>\n",
       "    </tr>\n",
       "    <tr>\n",
       "      <th>2</th>\n",
       "      <td>1520</td>\n",
       "      <td>P3</td>\n",
       "      <td>Debug</td>\n",
       "      <td>NaN</td>\n",
       "      <td>Use styled text in console (1G9S1YF)</td>\n",
       "      <td>DW (2/26/01 5:56:36 PM); \\tCould allow users t...</td>\n",
       "      <td>CLOSED</td>\n",
       "      <td>WONTFIX</td>\n",
       "      <td>2.0</td>\n",
       "      <td>2001-10-10 22:14:00 -0400</td>\n",
       "      <td>2002-06-26 11:32:05 -0400</td>\n",
       "    </tr>\n",
       "    <tr>\n",
       "      <th>3</th>\n",
       "      <td>1521</td>\n",
       "      <td>P3</td>\n",
       "      <td>Debug</td>\n",
       "      <td>NaN</td>\n",
       "      <td>StringBuffer representation (1GE3BFA)</td>\n",
       "      <td>JGS (5/21/01 2:09:10 PM); \\tTo be consistent; ...</td>\n",
       "      <td>VERIFIED</td>\n",
       "      <td>FIXED</td>\n",
       "      <td>2.0</td>\n",
       "      <td>2001-10-10 22:14:00 -0400</td>\n",
       "      <td>2002-02-05 10:37:09 -0500</td>\n",
       "    </tr>\n",
       "    <tr>\n",
       "      <th>4</th>\n",
       "      <td>1522</td>\n",
       "      <td>P2</td>\n",
       "      <td>Debug</td>\n",
       "      <td>1663.0</td>\n",
       "      <td>Feature: use #toString to display variable val...</td>\n",
       "      <td>DW (9/27/00 11:12:31 AM); \\tCurrently; the typ...</td>\n",
       "      <td>RESOLVED</td>\n",
       "      <td>DUPLICATE</td>\n",
       "      <td>2.0</td>\n",
       "      <td>2001-10-10 22:14:00 -0400</td>\n",
       "      <td>2001-10-17 10:17:47 -0400</td>\n",
       "    </tr>\n",
       "    <tr>\n",
       "      <th>...</th>\n",
       "      <td>...</td>\n",
       "      <td>...</td>\n",
       "      <td>...</td>\n",
       "      <td>...</td>\n",
       "      <td>...</td>\n",
       "      <td>...</td>\n",
       "      <td>...</td>\n",
       "      <td>...</td>\n",
       "      <td>...</td>\n",
       "      <td>...</td>\n",
       "      <td>...</td>\n",
       "    </tr>\n",
       "    <tr>\n",
       "      <th>45291</th>\n",
       "      <td>424739</td>\n",
       "      <td>P3</td>\n",
       "      <td>Core</td>\n",
       "      <td>NaN</td>\n",
       "      <td>During my development i am facing lots of prob...</td>\n",
       "      <td>-- Configuration Details --; Product: Eclipse ...</td>\n",
       "      <td>VERIFIED</td>\n",
       "      <td>WORKSFORME</td>\n",
       "      <td>4.4</td>\n",
       "      <td>2013-12-30 02:05:00 -0500</td>\n",
       "      <td>2014-01-21 04:02:11 -0500</td>\n",
       "    </tr>\n",
       "    <tr>\n",
       "      <th>45292</th>\n",
       "      <td>424742</td>\n",
       "      <td>P3</td>\n",
       "      <td>Core</td>\n",
       "      <td>NaN</td>\n",
       "      <td>[1.8] NPE in LambdaExpression.isCompatibleWith</td>\n",
       "      <td>package two.test;; ; class TestInlineLambdaArr...</td>\n",
       "      <td>RESOLVED</td>\n",
       "      <td>FIXED</td>\n",
       "      <td>4.4</td>\n",
       "      <td>2013-12-30 04:35:00 -0500</td>\n",
       "      <td>2014-01-02 08:03:23 -0500</td>\n",
       "    </tr>\n",
       "    <tr>\n",
       "      <th>45293</th>\n",
       "      <td>424772</td>\n",
       "      <td>P3</td>\n",
       "      <td>Text</td>\n",
       "      <td>NaN</td>\n",
       "      <td>[typing] Correct Indentation for { is wrong wh...</td>\n",
       "      <td>Created attachment 238617; Zipped demo project...</td>\n",
       "      <td>RESOLVED</td>\n",
       "      <td>FIXED</td>\n",
       "      <td>4.4</td>\n",
       "      <td>2013-12-31 03:33:00 -0500</td>\n",
       "      <td>2014-01-14 10:20:33 -0500</td>\n",
       "    </tr>\n",
       "    <tr>\n",
       "      <th>45294</th>\n",
       "      <td>424784</td>\n",
       "      <td>P3</td>\n",
       "      <td>UI</td>\n",
       "      <td>NaN</td>\n",
       "      <td>yes</td>\n",
       "      <td>NaN</td>\n",
       "      <td>CLOSED</td>\n",
       "      <td>INVALID</td>\n",
       "      <td>4.3.1</td>\n",
       "      <td>2013-12-31 21:18:00 -0500</td>\n",
       "      <td>2014-01-01 01:18:07 -0500</td>\n",
       "    </tr>\n",
       "    <tr>\n",
       "      <th>45295</th>\n",
       "      <td>424785</td>\n",
       "      <td>P3</td>\n",
       "      <td>UI</td>\n",
       "      <td>NaN</td>\n",
       "      <td>eclipse cant show fully code editor</td>\n",
       "      <td>Created attachment 238626; Capture screen; ; E...</td>\n",
       "      <td>RESOLVED</td>\n",
       "      <td>INVALID</td>\n",
       "      <td>4.4</td>\n",
       "      <td>2013-12-31 22:40:00 -0500</td>\n",
       "      <td>2014-01-03 04:24:52 -0500</td>\n",
       "    </tr>\n",
       "  </tbody>\n",
       "</table>\n",
       "<p>45296 rows × 11 columns</p>\n",
       "</div>"
      ],
      "text/plain": [
       "       Issue_id Priority Component  Duplicated_issue  \\\n",
       "0          1518       P1     Debug               NaN   \n",
       "1          1519       P3     Debug               NaN   \n",
       "2          1520       P3     Debug               NaN   \n",
       "3          1521       P3     Debug               NaN   \n",
       "4          1522       P2     Debug            1663.0   \n",
       "...         ...      ...       ...               ...   \n",
       "45291    424739       P3      Core               NaN   \n",
       "45292    424742       P3      Core               NaN   \n",
       "45293    424772       P3      Text               NaN   \n",
       "45294    424784       P3        UI               NaN   \n",
       "45295    424785       P3        UI               NaN   \n",
       "\n",
       "                                                   Title  \\\n",
       "0                     Icons needed for actions (1GI5UXW)   \n",
       "1                  README: Hit count not reset (1GET20Y)   \n",
       "2                   Use styled text in console (1G9S1YF)   \n",
       "3                  StringBuffer representation (1GE3BFA)   \n",
       "4      Feature: use #toString to display variable val...   \n",
       "...                                                  ...   \n",
       "45291  During my development i am facing lots of prob...   \n",
       "45292     [1.8] NPE in LambdaExpression.isCompatibleWith   \n",
       "45293  [typing] Correct Indentation for { is wrong wh...   \n",
       "45294                                                yes   \n",
       "45295                eclipse cant show fully code editor   \n",
       "\n",
       "                                             Description    Status  \\\n",
       "0      JGS (8/8/01 5:20:19 PM); \\tWe need enabled; di...  VERIFIED   \n",
       "1      JGS (6/4/01 11:43:47 AM); \\tSet a breakpoint i...  RESOLVED   \n",
       "2      DW (2/26/01 5:56:36 PM); \\tCould allow users t...    CLOSED   \n",
       "3      JGS (5/21/01 2:09:10 PM); \\tTo be consistent; ...  VERIFIED   \n",
       "4      DW (9/27/00 11:12:31 AM); \\tCurrently; the typ...  RESOLVED   \n",
       "...                                                  ...       ...   \n",
       "45291  -- Configuration Details --; Product: Eclipse ...  VERIFIED   \n",
       "45292  package two.test;; ; class TestInlineLambdaArr...  RESOLVED   \n",
       "45293  Created attachment 238617; Zipped demo project...  RESOLVED   \n",
       "45294                                                NaN    CLOSED   \n",
       "45295  Created attachment 238626; Capture screen; ; E...  RESOLVED   \n",
       "\n",
       "       Resolution Version               Created_time  \\\n",
       "0           FIXED     2.0  2001-10-10 22:14:00 -0400   \n",
       "1      WORKSFORME     2.0  2001-10-10 22:14:00 -0400   \n",
       "2         WONTFIX     2.0  2001-10-10 22:14:00 -0400   \n",
       "3           FIXED     2.0  2001-10-10 22:14:00 -0400   \n",
       "4       DUPLICATE     2.0  2001-10-10 22:14:00 -0400   \n",
       "...           ...     ...                        ...   \n",
       "45291  WORKSFORME     4.4  2013-12-30 02:05:00 -0500   \n",
       "45292       FIXED     4.4  2013-12-30 04:35:00 -0500   \n",
       "45293       FIXED     4.4  2013-12-31 03:33:00 -0500   \n",
       "45294     INVALID   4.3.1  2013-12-31 21:18:00 -0500   \n",
       "45295     INVALID     4.4  2013-12-31 22:40:00 -0500   \n",
       "\n",
       "                   Resolved_time  \n",
       "0      2001-10-18 11:51:14 -0400  \n",
       "1      2001-11-28 13:42:46 -0500  \n",
       "2      2002-06-26 11:32:05 -0400  \n",
       "3      2002-02-05 10:37:09 -0500  \n",
       "4      2001-10-17 10:17:47 -0400  \n",
       "...                          ...  \n",
       "45291  2014-01-21 04:02:11 -0500  \n",
       "45292  2014-01-02 08:03:23 -0500  \n",
       "45293  2014-01-14 10:20:33 -0500  \n",
       "45294  2014-01-01 01:18:07 -0500  \n",
       "45295  2014-01-03 04:24:52 -0500  \n",
       "\n",
       "[45296 rows x 11 columns]"
      ]
     },
     "execution_count": 1,
     "metadata": {},
     "output_type": "execute_result"
    }
   ],
   "source": [
    "import pandas as pd\n",
    "import numpy as np\n",
    "df = pd.read_csv('eclipse_jdt.csv')\n",
    "df"
   ]
  },
  {
   "cell_type": "code",
   "execution_count": 2,
   "id": "494e4621",
   "metadata": {},
   "outputs": [
    {
     "name": "stdout",
     "output_type": "stream",
     "text": [
      "<class 'pandas.core.frame.DataFrame'>\n",
      "RangeIndex: 45296 entries, 0 to 45295\n",
      "Data columns (total 11 columns):\n",
      " #   Column            Non-Null Count  Dtype  \n",
      "---  ------            --------------  -----  \n",
      " 0   Issue_id          45296 non-null  int64  \n",
      " 1   Priority          45296 non-null  object \n",
      " 2   Component         45296 non-null  object \n",
      " 3   Duplicated_issue  7688 non-null   float64\n",
      " 4   Title             45296 non-null  object \n",
      " 5   Description       45253 non-null  object \n",
      " 6   Status            45296 non-null  object \n",
      " 7   Resolution        45296 non-null  object \n",
      " 8   Version           45296 non-null  object \n",
      " 9   Created_time      45296 non-null  object \n",
      " 10  Resolved_time     45296 non-null  object \n",
      "dtypes: float64(1), int64(1), object(9)\n",
      "memory usage: 3.8+ MB\n"
     ]
    }
   ],
   "source": [
    "df.info()"
   ]
  },
  {
   "cell_type": "code",
   "execution_count": 3,
   "id": "705047a7",
   "metadata": {},
   "outputs": [
    {
     "data": {
      "text/html": [
       "<div>\n",
       "<style scoped>\n",
       "    .dataframe tbody tr th:only-of-type {\n",
       "        vertical-align: middle;\n",
       "    }\n",
       "\n",
       "    .dataframe tbody tr th {\n",
       "        vertical-align: top;\n",
       "    }\n",
       "\n",
       "    .dataframe thead th {\n",
       "        text-align: right;\n",
       "    }\n",
       "</style>\n",
       "<table border=\"1\" class=\"dataframe\">\n",
       "  <thead>\n",
       "    <tr style=\"text-align: right;\">\n",
       "      <th></th>\n",
       "      <th>Issue_id</th>\n",
       "      <th>Duplicated_issue</th>\n",
       "    </tr>\n",
       "  </thead>\n",
       "  <tbody>\n",
       "    <tr>\n",
       "      <th>count</th>\n",
       "      <td>45296.000000</td>\n",
       "      <td>7688.000000</td>\n",
       "    </tr>\n",
       "    <tr>\n",
       "      <th>mean</th>\n",
       "      <td>115382.154097</td>\n",
       "      <td>95391.218132</td>\n",
       "    </tr>\n",
       "    <tr>\n",
       "      <th>std</th>\n",
       "      <td>109016.589026</td>\n",
       "      <td>94600.431707</td>\n",
       "    </tr>\n",
       "    <tr>\n",
       "      <th>min</th>\n",
       "      <td>1518.000000</td>\n",
       "      <td>10.000000</td>\n",
       "    </tr>\n",
       "    <tr>\n",
       "      <th>25%</th>\n",
       "      <td>31741.000000</td>\n",
       "      <td>28330.750000</td>\n",
       "    </tr>\n",
       "    <tr>\n",
       "      <th>50%</th>\n",
       "      <td>78303.500000</td>\n",
       "      <td>63564.000000</td>\n",
       "    </tr>\n",
       "    <tr>\n",
       "      <th>75%</th>\n",
       "      <td>166469.000000</td>\n",
       "      <td>131405.000000</td>\n",
       "    </tr>\n",
       "    <tr>\n",
       "      <th>max</th>\n",
       "      <td>424785.000000</td>\n",
       "      <td>424403.000000</td>\n",
       "    </tr>\n",
       "  </tbody>\n",
       "</table>\n",
       "</div>"
      ],
      "text/plain": [
       "            Issue_id  Duplicated_issue\n",
       "count   45296.000000       7688.000000\n",
       "mean   115382.154097      95391.218132\n",
       "std    109016.589026      94600.431707\n",
       "min      1518.000000         10.000000\n",
       "25%     31741.000000      28330.750000\n",
       "50%     78303.500000      63564.000000\n",
       "75%    166469.000000     131405.000000\n",
       "max    424785.000000     424403.000000"
      ]
     },
     "execution_count": 3,
     "metadata": {},
     "output_type": "execute_result"
    }
   ],
   "source": [
    "df.describe()"
   ]
  },
  {
   "cell_type": "code",
   "execution_count": 4,
   "id": "95e96247",
   "metadata": {},
   "outputs": [
    {
     "data": {
      "text/html": [
       "<div>\n",
       "<style scoped>\n",
       "    .dataframe tbody tr th:only-of-type {\n",
       "        vertical-align: middle;\n",
       "    }\n",
       "\n",
       "    .dataframe tbody tr th {\n",
       "        vertical-align: top;\n",
       "    }\n",
       "\n",
       "    .dataframe thead th {\n",
       "        text-align: right;\n",
       "    }\n",
       "</style>\n",
       "<table border=\"1\" class=\"dataframe\">\n",
       "  <thead>\n",
       "    <tr style=\"text-align: right;\">\n",
       "      <th></th>\n",
       "      <th>42937</th>\n",
       "    </tr>\n",
       "  </thead>\n",
       "  <tbody>\n",
       "    <tr>\n",
       "      <th>Issue_id</th>\n",
       "      <td>355572</td>\n",
       "    </tr>\n",
       "    <tr>\n",
       "      <th>Priority</th>\n",
       "      <td>P3</td>\n",
       "    </tr>\n",
       "    <tr>\n",
       "      <th>Component</th>\n",
       "      <td>Debug</td>\n",
       "    </tr>\n",
       "    <tr>\n",
       "      <th>Duplicated_issue</th>\n",
       "      <td>NaN</td>\n",
       "    </tr>\n",
       "    <tr>\n",
       "      <th>Title</th>\n",
       "      <td>Trace JDI request/response times</td>\n",
       "    </tr>\n",
       "    <tr>\n",
       "      <th>Description</th>\n",
       "      <td>+++ This bug was initially created as a clone ...</td>\n",
       "    </tr>\n",
       "    <tr>\n",
       "      <th>Status</th>\n",
       "      <td>RESOLVED</td>\n",
       "    </tr>\n",
       "    <tr>\n",
       "      <th>Resolution</th>\n",
       "      <td>FIXED</td>\n",
       "    </tr>\n",
       "    <tr>\n",
       "      <th>Version</th>\n",
       "      <td>3.6</td>\n",
       "    </tr>\n",
       "    <tr>\n",
       "      <th>Created_time</th>\n",
       "      <td>2011-08-23 16:22:00 -0400</td>\n",
       "    </tr>\n",
       "    <tr>\n",
       "      <th>Resolved_time</th>\n",
       "      <td>2011-08-30 12:36:33 -0400</td>\n",
       "    </tr>\n",
       "  </tbody>\n",
       "</table>\n",
       "</div>"
      ],
      "text/plain": [
       "                                                              42937\n",
       "Issue_id                                                     355572\n",
       "Priority                                                         P3\n",
       "Component                                                     Debug\n",
       "Duplicated_issue                                                NaN\n",
       "Title                              Trace JDI request/response times\n",
       "Description       +++ This bug was initially created as a clone ...\n",
       "Status                                                     RESOLVED\n",
       "Resolution                                                    FIXED\n",
       "Version                                                         3.6\n",
       "Created_time                              2011-08-23 16:22:00 -0400\n",
       "Resolved_time                             2011-08-30 12:36:33 -0400"
      ]
     },
     "execution_count": 4,
     "metadata": {},
     "output_type": "execute_result"
    }
   ],
   "source": [
    "# get a random data\n",
    "df.sample(1).T"
   ]
  },
  {
   "cell_type": "code",
   "execution_count": 5,
   "id": "548c9146",
   "metadata": {},
   "outputs": [
    {
     "data": {
      "text/plain": [
       "<AxesSubplot:>"
      ]
     },
     "execution_count": 5,
     "metadata": {},
     "output_type": "execute_result"
    },
    {
     "data": {
      "image/png": "[encoded data removed]",
      "text/plain": [
       "<Figure size 432x288 with 1 Axes>"
      ]
     },
     "metadata": {
      "needs_background": "light"
     },
     "output_type": "display_data"
    }
   ],
   "source": [
    "df['Priority'].value_counts().sort_index().plot(kind='bar')"
   ]
  },
  {
   "cell_type": "code",
   "execution_count": 6,
   "id": "aa9555bb",
   "metadata": {},
   "outputs": [],
   "source": [
    "# more tickets are of priority P3"
   ]
  },
  {
   "cell_type": "code",
   "execution_count": 7,
   "id": "51feadbc",
   "metadata": {},
   "outputs": [],
   "source": [
    "# this is imbalanced problem!!"
   ]
  },
  {
   "cell_type": "code",
   "execution_count": 8,
   "id": "35602dd4",
   "metadata": {},
   "outputs": [
    {
     "data": {
      "text/plain": [
       "UI       17479\n",
       "Core     13669\n",
       "Debug     7542\n",
       "Text      5901\n",
       "APT        406\n",
       "Doc        299\n",
       "Name: Component, dtype: int64"
      ]
     },
     "execution_count": 8,
     "metadata": {},
     "output_type": "execute_result"
    }
   ],
   "source": [
    "# componet wise distribution of bugs\n",
    "\n",
    "df['Component'].value_counts()"
   ]
  },
  {
   "cell_type": "markdown",
   "id": "08e2f301",
   "metadata": {},
   "source": [
    "### Building a Text Classification System"
   ]
  },
  {
   "cell_type": "markdown",
   "id": "cf8577f9",
   "metadata": {},
   "source": [
    "### Step 1: Data Preparation"
   ]
  },
  {
   "cell_type": "code",
   "execution_count": 9,
   "id": "9325131b",
   "metadata": {},
   "outputs": [
    {
     "data": {
      "text/plain": [
       "' \\n1. select specific columns which are required.\\n2. remove rows that clontain empty values\\n3. combine the column and apply preprocessing function to get the clean text.\\n4. Filter out observations with less that 50 characters in text filed.\\n'"
      ]
     },
     "execution_count": 9,
     "metadata": {},
     "output_type": "execute_result"
    }
   ],
   "source": [
    "# \n",
    "\n",
    "\"\"\" \n",
    "1. select specific columns which are required.\n",
    "2. remove rows that clontain empty values\n",
    "3. combine the column and apply preprocessing function to get the clean text.\n",
    "4. Filter out observations with less that 50 characters in text filed.\n",
    "\"\"\""
   ]
  },
  {
   "cell_type": "code",
   "execution_count": 10,
   "id": "8e3a55b0",
   "metadata": {},
   "outputs": [
    {
     "data": {
      "text/plain": [
       "Index(['Priority', 'text'], dtype='object')"
      ]
     },
     "execution_count": 10,
     "metadata": {},
     "output_type": "execute_result"
    }
   ],
   "source": [
    "df= df[['Title', 'Description','Priority']]\n",
    "df = df.dropna()\n",
    "df['text'] = df['Title'] + '' + df['Description']\n",
    "df = df.drop(columns=['Title', 'Description'])\n",
    "df.columns"
   ]
  },
  {
   "cell_type": "code",
   "execution_count": 11,
   "id": "869fe781",
   "metadata": {},
   "outputs": [
    {
     "data": {
      "text/plain": [
       "Priority    0\n",
       "text        0\n",
       "dtype: int64"
      ]
     },
     "execution_count": 11,
     "metadata": {},
     "output_type": "execute_result"
    }
   ],
   "source": [
    "df.isna().sum()"
   ]
  },
  {
   "cell_type": "code",
   "execution_count": 12,
   "id": "2d52acdb",
   "metadata": {},
   "outputs": [],
   "source": [
    "import html\n",
    "import re\n",
    "def clean(text):\n",
    "    # convert html escapes like &amp; to characters.\n",
    "    text = html.unescape(text)\n",
    "    # tags like <tab>\n",
    "    text = re.sub(r'<[^<>]*>', ' ', text)\n",
    "    # markdown URLs like [Some text](https://....)\n",
    "    text = re.sub(r'\\[([^\\[\\]]*)\\]\\([^\\(\\)]*\\)', r'\\1', text)\n",
    "    # text or code in brackets like [0]\n",
    "    text = re.sub(r'\\[[^\\[\\]]*\\]', ' ', text)\n",
    "    # standalone sequences of specials, matches &# but not #cool\n",
    "    text = re.sub(r'(?:^|\\s)[&#<>{}\\[\\]+|\\\\:-]{1,}(?:\\s|$)', ' ', text)\n",
    "    # standalone sequences of hyphens like --- or ==\n",
    "    text = re.sub(r'(?:^|\\s)[\\-=\\+]{2,}(?:\\s|$)', ' ', text)\n",
    "    # sequences of white spaces\n",
    "    text = re.sub(r'\\s+', ' ', text)\n",
    "    return text.strip()"
   ]
  },
  {
   "cell_type": "code",
   "execution_count": 13,
   "id": "19c1492b",
   "metadata": {},
   "outputs": [
    {
     "data": {
      "text/html": [
       "<div>\n",
       "<style scoped>\n",
       "    .dataframe tbody tr th:only-of-type {\n",
       "        vertical-align: middle;\n",
       "    }\n",
       "\n",
       "    .dataframe tbody tr th {\n",
       "        vertical-align: top;\n",
       "    }\n",
       "\n",
       "    .dataframe thead th {\n",
       "        text-align: right;\n",
       "    }\n",
       "</style>\n",
       "<table border=\"1\" class=\"dataframe\">\n",
       "  <thead>\n",
       "    <tr style=\"text-align: right;\">\n",
       "      <th></th>\n",
       "      <th>Priority</th>\n",
       "      <th>text</th>\n",
       "    </tr>\n",
       "  </thead>\n",
       "  <tbody>\n",
       "    <tr>\n",
       "      <th>21433</th>\n",
       "      <td>P3</td>\n",
       "      <td>NP when opening TypeHierarchyI selected a type...</td>\n",
       "    </tr>\n",
       "    <tr>\n",
       "      <th>29650</th>\n",
       "      <td>P2</td>\n",
       "      <td>Javadoc location reappears after Ive cleared i...</td>\n",
       "    </tr>\n",
       "  </tbody>\n",
       "</table>\n",
       "</div>"
      ],
      "text/plain": [
       "      Priority                                               text\n",
       "21433       P3  NP when opening TypeHierarchyI selected a type...\n",
       "29650       P2  Javadoc location reappears after Ive cleared i..."
      ]
     },
     "execution_count": 13,
     "metadata": {},
     "output_type": "execute_result"
    }
   ],
   "source": [
    "df['text'] = df['text'].apply(clean)\n",
    "df = df[df['text'].str.len() > 50]\n",
    "df.sample(2)"
   ]
  },
  {
   "cell_type": "markdown",
   "id": "8e4059f1",
   "metadata": {},
   "source": [
    "### Step 2: Train-Test Split"
   ]
  },
  {
   "cell_type": "code",
   "execution_count": 14,
   "id": "d1573bcb",
   "metadata": {},
   "outputs": [
    {
     "name": "stdout",
     "output_type": "stream",
     "text": [
      "Size of Training Data  36036\n",
      "Size of Test Data  9009\n"
     ]
    }
   ],
   "source": [
    "from sklearn.model_selection import train_test_split\n",
    "X_train, X_test, Y_train, Y_test = train_test_split(df['text'],\n",
    "                                                    df['Priority'],\n",
    "                                                    test_size=0.2,\n",
    "                                                    random_state=9,\n",
    "                                                    stratify=df['Priority'])\n",
    "\n",
    "print('Size of Training Data ', X_train.shape[0])\n",
    "print('Size of Test Data ', X_test.shape[0])\n",
    "\n",
    "# stratify is used so as to maintain the class balance when shuffling the train \n",
    "# and test data using train-test split with sklearn"
   ]
  },
  {
   "cell_type": "markdown",
   "id": "1323f3b0",
   "metadata": {},
   "source": [
    "### Step 3: Training the Machine Learning Model"
   ]
  },
  {
   "cell_type": "code",
   "execution_count": 15,
   "id": "0aee8c9b",
   "metadata": {},
   "outputs": [],
   "source": [
    "# applying tfidf"
   ]
  },
  {
   "cell_type": "code",
   "execution_count": 16,
   "id": "28a27634",
   "metadata": {},
   "outputs": [],
   "source": [
    "from sklearn.feature_extraction.text import TfidfVectorizer"
   ]
  },
  {
   "cell_type": "code",
   "execution_count": 17,
   "id": "8f8e5895",
   "metadata": {},
   "outputs": [],
   "source": [
    "tfidf = TfidfVectorizer(min_df=5, ngram_range=(1,2) , stop_words=\"english\")\n",
    "\n",
    "# apply tfidf to training data\n",
    "\n",
    "X_train_tf = tfidf.fit_transform(X_train)"
   ]
  },
  {
   "cell_type": "code",
   "execution_count": 18,
   "id": "32148149",
   "metadata": {},
   "outputs": [
    {
     "data": {
      "text/plain": [
       "<36036x76153 sparse matrix of type '<class 'numpy.float64'>'\n",
       "\twith 3143718 stored elements in Compressed Sparse Row format>"
      ]
     },
     "execution_count": 18,
     "metadata": {},
     "output_type": "execute_result"
    }
   ],
   "source": [
    "X_train_tf # as expected this gives a sparse matrix"
   ]
  },
  {
   "cell_type": "code",
   "execution_count": 19,
   "id": "38cac4db",
   "metadata": {},
   "outputs": [],
   "source": [
    "# using SVM"
   ]
  },
  {
   "cell_type": "code",
   "execution_count": 20,
   "id": "8245a1e4",
   "metadata": {},
   "outputs": [],
   "source": [
    "from IPython.core.interactiveshell import InteractiveShell\n",
    "InteractiveShell.ast_node_interactivity = \"all\""
   ]
  },
  {
   "cell_type": "code",
   "execution_count": 21,
   "id": "2f049df7",
   "metadata": {},
   "outputs": [
    {
     "data": {
      "text/plain": [
       "LinearSVC(random_state=0, tol=1e-05)"
      ]
     },
     "execution_count": 21,
     "metadata": {},
     "output_type": "execute_result"
    }
   ],
   "source": [
    "import matplotlib.pyplot as plt\n",
    "from sklearn.svm import SVC\n",
    "from sklearn.svm import LinearSVC\n",
    "# linear SVC is fastest compared to SGDClassifier and SVC\n",
    "model_svm = LinearSVC(random_state=0, tol=1e-5)\n",
    "model_svm.fit(X_train_tf,Y_train)"
   ]
  },
  {
   "cell_type": "code",
   "execution_count": 22,
   "id": "63a9313f",
   "metadata": {},
   "outputs": [
    {
     "data": {
      "text/plain": [
       "array(['P1', 'P2', 'P3', 'P4', 'P5'], dtype=object)"
      ]
     },
     "execution_count": 22,
     "metadata": {},
     "output_type": "execute_result"
    }
   ],
   "source": [
    "model_svm.classes_"
   ]
  },
  {
   "cell_type": "code",
   "execution_count": 23,
   "id": "6da62377",
   "metadata": {},
   "outputs": [
    {
     "data": {
      "text/plain": [
       "'squared_hinge'"
      ]
     },
     "execution_count": 23,
     "metadata": {},
     "output_type": "execute_result"
    }
   ],
   "source": [
    "model_svm.loss"
   ]
  },
  {
   "cell_type": "markdown",
   "id": "17e1a500",
   "metadata": {},
   "source": [
    "**LinearSVC is much faster, whereas SVC is more generic and supports multiple kernels.**"
   ]
  },
  {
   "cell_type": "markdown",
   "id": "a12e8f62",
   "metadata": {},
   "source": [
    "### Step 4: Model Evaluation"
   ]
  },
  {
   "cell_type": "code",
   "execution_count": 24,
   "id": "9722d757",
   "metadata": {},
   "outputs": [],
   "source": [
    "from sklearn.metrics import accuracy_score\n",
    "from sklearn.metrics import confusion_matrix\n",
    "from sklearn.metrics import classification_report\n",
    "from sklearn.metrics import plot_confusion_matrix\n",
    "from sklearn.model_selection import cross_val_score\n",
    "#from sklearn.pipeline import Pipeline\n",
    "from sklearn.model_selection import GridSearchCV\n",
    "from sklearn.svm import LinearSVC"
   ]
  },
  {
   "cell_type": "code",
   "execution_count": 25,
   "id": "27bc729f",
   "metadata": {},
   "outputs": [],
   "source": [
    "from sklearn.pipeline import Pipeline"
   ]
  },
  {
   "cell_type": "code",
   "execution_count": 27,
   "id": "be5d8074",
   "metadata": {},
   "outputs": [
    {
     "name": "stdout",
     "output_type": "stream",
     "text": [
      "Accuracy Score -  0.8778998778998779\n"
     ]
    }
   ],
   "source": [
    "X_test_tf = tfidf.transform(X_test)\n",
    "\n",
    "Y_pred = model_svm.predict(X_test_tf)\n",
    "print ('Accuracy Score - ', accuracy_score(Y_test, Y_pred))"
   ]
  },
  {
   "cell_type": "code",
   "execution_count": 28,
   "id": "38f3458a",
   "metadata": {},
   "outputs": [],
   "source": [
    "# always try to comapre performacne with a baseline model\n",
    "from sklearn.dummy import DummyClassifier"
   ]
  },
  {
   "cell_type": "code",
   "execution_count": 29,
   "id": "96f9b6c1",
   "metadata": {},
   "outputs": [
    {
     "data": {
      "text/plain": [
       "DummyClassifier(strategy='most_frequent')"
      ]
     },
     "execution_count": 29,
     "metadata": {},
     "output_type": "execute_result"
    },
    {
     "name": "stdout",
     "output_type": "stream",
     "text": [
      "Accuracy Score -  0.877011877011877\n"
     ]
    }
   ],
   "source": [
    "clf = DummyClassifier(strategy='most_frequent')\n",
    "clf.fit(X_train, Y_train)\n",
    "Y_pred_baseline = clf.predict(X_test)\n",
    "print ('Accuracy Score - ', accuracy_score(Y_test, Y_pred_baseline))"
   ]
  },
  {
   "cell_type": "markdown",
   "id": "3ad1a125",
   "metadata": {},
   "source": [
    "**We can clearly see that our trained model is not adding any value since it performs just as well as a baseline that always chooses the class P3**"
   ]
  },
  {
   "cell_type": "code",
   "execution_count": 31,
   "id": "aa4db8a1",
   "metadata": {},
   "outputs": [
    {
     "data": {
      "text/plain": [
       "array([[  20,    4,  197,    2,    0],\n",
       "       [   1,   22,  580,    4,    0],\n",
       "       [  12,   35, 7835,   19,    0],\n",
       "       [   0,    7,  189,   32,    0],\n",
       "       [   1,    0,   49,    0,    0]], dtype=int64)"
      ]
     },
     "execution_count": 31,
     "metadata": {},
     "output_type": "execute_result"
    }
   ],
   "source": [
    "Y_pred = model_svm.predict(X_test_tf)\n",
    "confusion_matrix(Y_test, Y_pred)"
   ]
  },
  {
   "cell_type": "code",
   "execution_count": 32,
   "id": "eb8be9b2",
   "metadata": {},
   "outputs": [
    {
     "name": "stderr",
     "output_type": "stream",
     "text": [
      "C:\\Users\\0023ND744\\Anaconda3\\lib\\site-packages\\sklearn\\utils\\deprecation.py:87: FutureWarning: Function plot_confusion_matrix is deprecated; Function `plot_confusion_matrix` is deprecated in 1.0 and will be removed in 1.2. Use one of the class methods: ConfusionMatrixDisplay.from_predictions or ConfusionMatrixDisplay.from_estimator.\n",
      "  warnings.warn(msg, category=FutureWarning)\n"
     ]
    },
    {
     "data": {
      "text/plain": [
       "<sklearn.metrics._plot.confusion_matrix.ConfusionMatrixDisplay at 0x17c521c6970>"
      ]
     },
     "execution_count": 32,
     "metadata": {},
     "output_type": "execute_result"
    },
    {
     "data": {
      "image/png": "[encoded data removed]",
      "text/plain": [
       "<Figure size 432x288 with 2 Axes>"
      ]
     },
     "metadata": {
      "needs_background": "light"
     },
     "output_type": "display_data"
    }
   ],
   "source": [
    "plot_confusion_matrix(model_svm,X_test_tf,\n",
    "                      Y_test, values_format='d',\n",
    "                      cmap=plt.cm.Blues)\n",
    "plt.show()"
   ]
  },
  {
   "cell_type": "code",
   "execution_count": 33,
   "id": "1406b5d4",
   "metadata": {},
   "outputs": [],
   "source": [
    "# so precision of P3 can be calculated as\n",
    "# precision P3 = 7835 / 197+580+7835+189+49 = 0.885\n",
    "\n",
    "# for recall\n",
    "# recall P3 = 7835 / 12+35+7835+19+0 = 0.9916"
   ]
  },
  {
   "cell_type": "code",
   "execution_count": 34,
   "id": "388e57b6",
   "metadata": {},
   "outputs": [
    {
     "name": "stdout",
     "output_type": "stream",
     "text": [
      "              precision    recall  f1-score   support\n",
      "\n",
      "          P1       0.59      0.09      0.16       223\n",
      "          P2       0.32      0.04      0.07       607\n",
      "          P3       0.89      0.99      0.94      7901\n",
      "          P4       0.56      0.14      0.22       228\n",
      "          P5       0.00      0.00      0.00        50\n",
      "\n",
      "    accuracy                           0.88      9009\n",
      "   macro avg       0.47      0.25      0.28      9009\n",
      "weighted avg       0.83      0.88      0.83      9009\n",
      "\n"
     ]
    },
    {
     "name": "stderr",
     "output_type": "stream",
     "text": [
      "C:\\Users\\0023ND744\\Anaconda3\\lib\\site-packages\\sklearn\\metrics\\_classification.py:1318: UndefinedMetricWarning: Precision and F-score are ill-defined and being set to 0.0 in labels with no predicted samples. Use `zero_division` parameter to control this behavior.\n",
      "  _warn_prf(average, modifier, msg_start, len(result))\n",
      "C:\\Users\\0023ND744\\Anaconda3\\lib\\site-packages\\sklearn\\metrics\\_classification.py:1318: UndefinedMetricWarning: Precision and F-score are ill-defined and being set to 0.0 in labels with no predicted samples. Use `zero_division` parameter to control this behavior.\n",
      "  _warn_prf(average, modifier, msg_start, len(result))\n",
      "C:\\Users\\0023ND744\\Anaconda3\\lib\\site-packages\\sklearn\\metrics\\_classification.py:1318: UndefinedMetricWarning: Precision and F-score are ill-defined and being set to 0.0 in labels with no predicted samples. Use `zero_division` parameter to control this behavior.\n",
      "  _warn_prf(average, modifier, msg_start, len(result))\n"
     ]
    }
   ],
   "source": [
    "print(classification_report(Y_test, Y_pred))"
   ]
  },
  {
   "cell_type": "code",
   "execution_count": 35,
   "id": "a8798661",
   "metadata": {},
   "outputs": [],
   "source": [
    "# this clearly shows class imbalance!\n"
   ]
  },
  {
   "cell_type": "markdown",
   "id": "ff159e83",
   "metadata": {},
   "source": [
    "### Class imbalance"
   ]
  },
  {
   "cell_type": "markdown",
   "id": "2a8e81d1",
   "metadata": {},
   "source": [
    "### upsampling\n",
    "### downsampling\n",
    "\n",
    "\n",
    "**Upsampling techniques refer to methods used to artificially increase the number of observations of the minority class (non-P3 classes in our example)**\n",
    "\n",
    "---\n",
    "\n",
    "**Downsampling techniques refer to methods that are used to reduce the number of observations of the majority class (P3 in our example). We will choose to randomly downsample the P3 class to have a similar number of observations as the other classes:**"
   ]
  },
  {
   "cell_type": "code",
   "execution_count": 36,
   "id": "b27916cb",
   "metadata": {},
   "outputs": [
    {
     "data": {
      "text/plain": [
       "P3    4000\n",
       "P2    3036\n",
       "P4    1138\n",
       "P1    1117\n",
       "P5     252\n",
       "Name: Priority, dtype: int64"
      ]
     },
     "execution_count": 36,
     "metadata": {},
     "output_type": "execute_result"
    }
   ],
   "source": [
    "# Filter bug reports with priority P3 and sample 4000 rows from it\n",
    "df_sampleP3 = df[df['Priority'] == 'P3'].sample(n=4000)\n",
    "\n",
    "# Create a separate DataFrame containing all other bug reports\n",
    "df_sampleRest = df[df['Priority'] != 'P3']\n",
    "\n",
    "# Concatenate the two DataFrame to create the new balanced bug reports dataset\n",
    "df_balanced = pd.concat([df_sampleRest, df_sampleP3])\n",
    "\n",
    "# Check the status of the class imbalance\n",
    "df_balanced['Priority'].value_counts()"
   ]
  },
  {
   "cell_type": "markdown",
   "id": "a20f67e2",
   "metadata": {},
   "source": [
    "## Dealing with class imbalance problem"
   ]
  },
  {
   "cell_type": "code",
   "execution_count": 37,
   "id": "6b175395",
   "metadata": {},
   "outputs": [
    {
     "name": "stdout",
     "output_type": "stream",
     "text": [
      "Size of Training Data  7634\n",
      "Size of Test Data  1909\n"
     ]
    },
    {
     "data": {
      "text/plain": [
       "LinearSVC(random_state=0, tol=1e-05)"
      ]
     },
     "execution_count": 37,
     "metadata": {},
     "output_type": "execute_result"
    },
    {
     "name": "stdout",
     "output_type": "stream",
     "text": [
      "Accuracy Score -  0.4829753797799895\n",
      "              precision    recall  f1-score   support\n",
      "\n",
      "          P1       0.41      0.29      0.34       224\n",
      "          P2       0.41      0.43      0.42       607\n",
      "          P3       0.54      0.64      0.59       800\n",
      "          P4       0.50      0.36      0.42       228\n",
      "          P5       0.00      0.00      0.00        50\n",
      "\n",
      "    accuracy                           0.48      1909\n",
      "   macro avg       0.37      0.35      0.35      1909\n",
      "weighted avg       0.47      0.48      0.47      1909\n",
      "\n"
     ]
    }
   ],
   "source": [
    "# Loading the balanced DataFrame\n",
    "\n",
    "df = df_balanced[['text', 'Priority']]\n",
    "df = df.dropna()\n",
    "\n",
    "# Step 1 - Data Preparation\n",
    "\n",
    "df['text'] = df['text'].apply(clean)\n",
    "\n",
    "# Step 2 - Train-Test Split\n",
    "X_train, X_test, Y_train, Y_test = train_test_split(df['text'],\n",
    "                                                    df['Priority'],\n",
    "                                                    test_size=0.2,\n",
    "                                                    random_state=42,\n",
    "                                                    stratify=df['Priority'])\n",
    "print('Size of Training Data ', X_train.shape[0])\n",
    "print('Size of Test Data ', X_test.shape[0])\n",
    "\n",
    "# Step 3 - Training the Machine Learning model\n",
    "\n",
    "tfidf = TfidfVectorizer(min_df=10, ngram_range=(1, 2), stop_words=\"english\")\n",
    "X_train_tf = tfidf.fit_transform(X_train)\n",
    "\n",
    "model1 = LinearSVC(random_state=0, tol=1e-5)\n",
    "model1.fit(X_train_tf, Y_train)\n",
    "\n",
    "# Step 4 - Model Evaluation\n",
    "\n",
    "X_test_tf = tfidf.transform(X_test)\n",
    "Y_pred = model1.predict(X_test_tf)\n",
    "print('Accuracy Score - ', accuracy_score(Y_test, Y_pred))\n",
    "print(classification_report(Y_test, Y_pred))"
   ]
  },
  {
   "cell_type": "code",
   "execution_count": 38,
   "id": "415c8f11",
   "metadata": {},
   "outputs": [
    {
     "data": {
      "text/plain": [
       "DummyClassifier(strategy='stratified')"
      ]
     },
     "execution_count": 38,
     "metadata": {},
     "output_type": "execute_result"
    },
    {
     "name": "stdout",
     "output_type": "stream",
     "text": [
      "Accuracy Score -  0.31639601885804086\n"
     ]
    }
   ],
   "source": [
    "# now we compare using the baseline model\n",
    "\n",
    "clf = DummyClassifier(strategy='stratified')\n",
    "clf.fit(X_train, Y_train)\n",
    "Y_pred_baseline = clf.predict(X_test)\n",
    "print ('Accuracy Score - ', accuracy_score(Y_test, Y_pred_baseline))"
   ]
  },
  {
   "cell_type": "code",
   "execution_count": 39,
   "id": "323878cc",
   "metadata": {},
   "outputs": [],
   "source": [
    "# so baseline model is giving us 31.6%"
   ]
  },
  {
   "cell_type": "markdown",
   "id": "5dea82c3",
   "metadata": {},
   "source": [
    "## Using Cross-Validation to Estimate Realistic Accuracy Metrics"
   ]
  },
  {
   "cell_type": "markdown",
   "id": "6086a613",
   "metadata": {},
   "source": [
    "**Cross-validation is a technique that allows us to train on different splits of data and validate also on different splits of data in a repetitive manner so that the final model that is trained achieves the right balance between underfitting and overfitting**"
   ]
  },
  {
   "cell_type": "code",
   "execution_count": 40,
   "id": "8d998339",
   "metadata": {},
   "outputs": [],
   "source": [
    "from sklearn.model_selection import cross_val_score\n",
    "from sklearn.model_selection import GridSearchCV"
   ]
  },
  {
   "cell_type": "code",
   "execution_count": 41,
   "id": "5771527a",
   "metadata": {},
   "outputs": [],
   "source": [
    "# when using cross validation use vectorization bcoz\n",
    "# we want to perform vectorisation on whole dataset"
   ]
  },
  {
   "cell_type": "code",
   "execution_count": 43,
   "id": "2e04b525",
   "metadata": {},
   "outputs": [
    {
     "name": "stdout",
     "output_type": "stream",
     "text": [
      "Validation scores from each iteration of the cross validation  [0.48192771 0.45887899 0.44264013 0.40513627 0.37893082]\n",
      "Mean value across of validation scores  0.433502783351069\n",
      "Standard deviation of validation scores  0.03702749066753017\n"
     ]
    }
   ],
   "source": [
    "tfidf = TfidfVectorizer(min_df = 10, ngram_range=(1,2), stop_words=\"english\")\n",
    "df_tf = tfidf.fit_transform(df['text']).toarray()\n",
    "\n",
    "# Cross Validation with 5 folds\n",
    "\n",
    "scores = cross_val_score(estimator=model1,\n",
    "                         X=df_tf,\n",
    "                         y=df['Priority'],\n",
    "                         cv=5)\n",
    "\n",
    "print (\"Validation scores from each iteration of the cross validation \", scores)\n",
    "print (\"Mean value across of validation scores \", scores.mean())\n",
    "print (\"Standard deviation of validation scores \", scores.std())"
   ]
  },
  {
   "cell_type": "markdown",
   "id": "9d87bb17",
   "metadata": {},
   "source": [
    "## Performing Hyperparameter Tuning with Grid Search"
   ]
  },
  {
   "cell_type": "markdown",
   "id": "7b554852",
   "metadata": {},
   "source": [
    "1. use linear or rbf or poly for SVC\n",
    "2. ngram_range (1,2) or (1,3)\n",
    "\n",
    "To test the right choice of hyperparameters for our model, we first create a training_pipeline where we define the steps that we would like to run.\n",
    "\n",
    "---\n",
    "\n",
    "We then define a set of parameters that we would like to test using the variable grid_param. Since a parameter value is specific to a certain step in the pipeline, we use the name of the step as the prefix when specifying the grid_param. For example, min_df is a parameter used by the vectorization step and is therefore referred to as tfidf__min_df.\n",
    "\n",
    "\n",
    "---\n",
    "\n",
    "use the GridSearchCV method, which provides the functionality to test multiple versions of the entire pipeline with different sets of hyperparameters and produces the cross-validation scores from which we pick the best-performing version:"
   ]
  },
  {
   "cell_type": "code",
   "execution_count": 47,
   "id": "ba87cf42",
   "metadata": {},
   "outputs": [
    {
     "data": {
      "text/plain": [
       "GridSearchCV(cv=10,\n",
       "             estimator=Pipeline(steps=[('tfidf',\n",
       "                                        TfidfVectorizer(stop_words='english')),\n",
       "                                       ('model',\n",
       "                                        LinearSVC(random_state=9, tol=1e-05))]),\n",
       "             param_grid=[{'model__loss': ['hinge'], 'model__max_iter': [10000],\n",
       "                          'model__penalty': ['l2'], 'tfidf__min_df': [5, 10],\n",
       "                          'tfidf__ngram_range': [(1, 3), (1, 6)]},\n",
       "                         {'model__C': [1, 10], 'model__tol': [0.01, 0.0001]}])"
      ]
     },
     "execution_count": 47,
     "metadata": {},
     "output_type": "execute_result"
    },
    {
     "name": "stdout",
     "output_type": "stream",
     "text": [
      "Best alpha parameter identified by grid search {'model__loss': 'hinge', 'model__max_iter': 10000, 'model__penalty': 'l2', 'tfidf__min_df': 5, 'tfidf__ngram_range': (1, 3)}\n",
      "Best result identified by grid search  0.4703814196494232\n"
     ]
    }
   ],
   "source": [
    "training_pipeline = Pipeline(\n",
    "    steps=[('tfidf', TfidfVectorizer(stop_words=\"english\")),\n",
    "          ('model', LinearSVC(random_state=9, tol=1e-5))])\n",
    "\n",
    "grid_param = [{\n",
    "    'tfidf__min_df':[5,10],\n",
    "    'tfidf__ngram_range':[(1,3),(1,6)],\n",
    "    'model__penalty':['l2'],\n",
    "    'model__loss':['hinge'],\n",
    "    'model__max_iter':[10000]\n",
    "},\n",
    "    {\n",
    "        'model__C':[1,10],\n",
    "        'model__tol':[1e-2,1e-4]\n",
    "    }]\n",
    "\n",
    "gridSearchProcessor = GridSearchCV(estimator=training_pipeline,\n",
    "                                  param_grid=grid_param,\n",
    "                                  cv=10)\n",
    "gridSearchProcessor.fit(df['text'] , df['Priority'])\n",
    "\n",
    "\n",
    "best_parameters = gridSearchProcessor.best_params_\n",
    "print(\"Best alpha parameter identified by grid search\", best_parameters)\n",
    "\n",
    "result = gridSearchProcessor.best_score_\n",
    "print(\"Best result identified by grid search \", result)"
   ]
  },
  {
   "cell_type": "markdown",
   "id": "535e61ee",
   "metadata": {},
   "source": [
    "## Determining Classification Confidence Using Prediction Probability"
   ]
  },
  {
   "cell_type": "code",
   "execution_count": 48,
   "id": "ba3df38a",
   "metadata": {},
   "outputs": [],
   "source": [
    "# first train the model on the best possible iterations and \n",
    "# coombinatons"
   ]
  },
  {
   "cell_type": "code",
   "execution_count": 49,
   "id": "336d4407",
   "metadata": {},
   "outputs": [
    {
     "data": {
      "text/plain": [
       "SVC(C=1, kernel='linear', probability=True, random_state=9)"
      ]
     },
     "execution_count": 49,
     "metadata": {},
     "output_type": "execute_result"
    }
   ],
   "source": [
    "# svc = SVC(kernel=\"linear\", C=1, probability=True, random_state=9)\n",
    "# svc.fit(X_train_tf, Y_train)"
   ]
  },
  {
   "cell_type": "code",
   "execution_count": 51,
   "id": "9120e90c",
   "metadata": {},
   "outputs": [
    {
     "name": "stdout",
     "output_type": "stream",
     "text": [
      "Size of Training Data  7240\n",
      "Size of Test Data  1811\n"
     ]
    },
    {
     "data": {
      "text/plain": [
       "SVC(C=1, kernel='linear', probability=True, random_state=42)"
      ]
     },
     "execution_count": 51,
     "metadata": {},
     "output_type": "execute_result"
    }
   ],
   "source": [
    "df = pd.read_csv('eclipse_jdt.csv')\n",
    "df = df.groupby('Component', as_index=False).apply(pd.DataFrame.sample, random_state=42, frac=.2)\n",
    "df = df[['Title','Description','Component']]\n",
    "df = df.dropna()\n",
    "df['text'] = df['Title'] + \" \" + df['Description']\n",
    "df = df.drop(columns=['Title','Description'])\n",
    "\n",
    "# Step 1 - Data Preparation\n",
    "\n",
    "df['text'] = df['text'].apply(clean)\n",
    "\n",
    "# Step 2 - Train-Test Split\n",
    "\n",
    "X_train, X_test, Y_train, Y_test = train_test_split(df['text'], df['Component'], \n",
    "                                                    test_size=0.2, random_state=42,\n",
    "                                                    stratify=df['Component'])\n",
    "print ('Size of Training Data ', X_train.shape[0])\n",
    "print ('Size of Test Data ', X_test.shape[0])\n",
    "\n",
    "# Step 3 - Training the Machine Learning model\n",
    "\n",
    "tfidf = TfidfVectorizer(min_df = 10, ngram_range=(1,2), stop_words=\"english\")\n",
    "X_train_tf = tfidf.fit_transform(X_train)\n",
    "\n",
    "\n",
    "svc = SVC(kernel=\"linear\", C=1, probability=True, random_state=42)\n",
    "svc.fit(X_train_tf, Y_train)"
   ]
  },
  {
   "cell_type": "code",
   "execution_count": 52,
   "id": "0010215a",
   "metadata": {},
   "outputs": [],
   "source": [
    "X_test_tf = tfidf.transform(X_test)\n",
    "Y_pred = svc.predict(X_test_tf)\n",
    "result = pd.DataFrame({ 'text': X_test.values, 'actual': Y_test.values,\n",
    "                        'predicted': Y_pred })"
   ]
  },
  {
   "cell_type": "code",
   "execution_count": 53,
   "id": "4cdfb84e",
   "metadata": {},
   "outputs": [
    {
     "data": {
      "text/html": [
       "<div>\n",
       "<style scoped>\n",
       "    .dataframe tbody tr th:only-of-type {\n",
       "        vertical-align: middle;\n",
       "    }\n",
       "\n",
       "    .dataframe tbody tr th {\n",
       "        vertical-align: top;\n",
       "    }\n",
       "\n",
       "    .dataframe thead th {\n",
       "        text-align: right;\n",
       "    }\n",
       "</style>\n",
       "<table border=\"1\" class=\"dataframe\">\n",
       "  <thead>\n",
       "    <tr style=\"text-align: right;\">\n",
       "      <th></th>\n",
       "      <th>text</th>\n",
       "      <th>actual</th>\n",
       "      <th>predicted</th>\n",
       "    </tr>\n",
       "  </thead>\n",
       "  <tbody>\n",
       "    <tr>\n",
       "      <th>2</th>\n",
       "      <td>NPE in Delta processor while executing JDT/UI ...</td>\n",
       "      <td>Core</td>\n",
       "      <td>UI</td>\n",
       "    </tr>\n",
       "    <tr>\n",
       "      <th>15</th>\n",
       "      <td>Inserting a block of text in editor badly alig...</td>\n",
       "      <td>UI</td>\n",
       "      <td>Text</td>\n",
       "    </tr>\n",
       "    <tr>\n",
       "      <th>16</th>\n",
       "      <td>Differences when debugging identical objects W...</td>\n",
       "      <td>Debug</td>\n",
       "      <td>Core</td>\n",
       "    </tr>\n",
       "    <tr>\n",
       "      <th>20</th>\n",
       "      <td>Foreach template doesnt work for class members...</td>\n",
       "      <td>Core</td>\n",
       "      <td>UI</td>\n",
       "    </tr>\n",
       "    <tr>\n",
       "      <th>22</th>\n",
       "      <td>NPE while copy variables in Variables view Err...</td>\n",
       "      <td>APT</td>\n",
       "      <td>Debug</td>\n",
       "    </tr>\n",
       "  </tbody>\n",
       "</table>\n",
       "</div>"
      ],
      "text/plain": [
       "                                                 text actual predicted\n",
       "2   NPE in Delta processor while executing JDT/UI ...   Core        UI\n",
       "15  Inserting a block of text in editor badly alig...     UI      Text\n",
       "16  Differences when debugging identical objects W...  Debug      Core\n",
       "20  Foreach template doesnt work for class members...   Core        UI\n",
       "22  NPE while copy variables in Variables view Err...    APT     Debug"
      ]
     },
     "execution_count": 53,
     "metadata": {},
     "output_type": "execute_result"
    }
   ],
   "source": [
    "result[result[\"actual\"] != result[\"predicted\"]].head()"
   ]
  },
  {
   "cell_type": "code",
   "execution_count": 54,
   "id": "c858b3bd",
   "metadata": {},
   "outputs": [
    {
     "name": "stdout",
     "output_type": "stream",
     "text": [
      "Inserting a block of text in editor badly aligns } Replaced ECLIPSE 2.1.2 by 3.0 M5 ::; Inserting (Paste) a multi-line block of source inside some }; formerly correctly formatted the indents and } (if balanced) :; I practice the style: // all indents are 3 spaces; pascal placement; sample:; ; if(i 0) // group A; {; i = 5;; }; if(i 9) // group B; {; i 7;; }; ; now; pasting group B into A :; ; if(i 0); {; if(i 9); // <<<<<<<<<<<<<; i 7;; }; i = 5; // inserted before this; }; ; or:; ; if(i 0); {; i = 5; // inserted after this; if(i 9); // <<<<<<<<<<<<<<; i 7;; }; // <<<<<<<<<<<<<<; ; So; I must correct everything by hand ....; ;JOOP!\n"
     ]
    }
   ],
   "source": [
    "# picking up one sample which looks like good sample\n",
    "text = result.iloc[15][\"text\"]\n",
    "print(text)"
   ]
  },
  {
   "cell_type": "code",
   "execution_count": 55,
   "id": "14259f4f",
   "metadata": {},
   "outputs": [
    {
     "data": {
      "text/plain": [
       "array([[0.00133234, 0.04775045, 0.02083604, 0.00354469, 0.63144391,\n",
       "        0.29509258]])"
      ]
     },
     "execution_count": 55,
     "metadata": {},
     "output_type": "execute_result"
    }
   ],
   "source": [
    "# run the prediction on this smaple\n",
    "\n",
    "svc.predict_proba(X_test_tf[15])"
   ]
  },
  {
   "cell_type": "code",
   "execution_count": 57,
   "id": "7851f206",
   "metadata": {},
   "outputs": [],
   "source": [
    "# classes had the order APT, Core, Debug,  Doc, Text, and UI, \n",
    "# so its predicting as text but it should predict as UI."
   ]
  },
  {
   "cell_type": "code",
   "execution_count": 64,
   "id": "00b3fef8",
   "metadata": {},
   "outputs": [],
   "source": [
    "# to take this on a larger scale and\n",
    "# trying to identify more such samples!\n",
    "\n",
    "# class_names = [\"APT\", \"Core\", \"Debug\", \"Doc\", \"Text\", \"UI\"]\n",
    "# prob = svc.predict_proba(X_test_tf)\n",
    "\n",
    "# new_df = result.copy().reset_index()\n",
    "# for classes in enumerate(class_names):\n",
    "#     new_df[classes] = prob[:,k]"
   ]
  },
  {
   "cell_type": "code",
   "execution_count": null,
   "id": "a7797888",
   "metadata": {},
   "outputs": [],
   "source": []
  },
  {
   "cell_type": "markdown",
   "id": "c1b2e6ed",
   "metadata": {},
   "source": [
    "### Measuring Feature Importance of Predictive Models"
   ]
  },
  {
   "cell_type": "markdown",
   "id": "e2e2b0cb",
   "metadata": {},
   "source": [
    "**find out which features were relevant for the model to find the correct class. **"
   ]
  },
  {
   "cell_type": "code",
   "execution_count": 65,
   "id": "adf48b4a",
   "metadata": {},
   "outputs": [
    {
     "data": {
      "text/plain": [
       "<15x9441 sparse matrix of type '<class 'numpy.float64'>'\n",
       "\twith 93970 stored elements in Compressed Sparse Row format>"
      ]
     },
     "execution_count": 65,
     "metadata": {},
     "output_type": "execute_result"
    }
   ],
   "source": [
    "svc.coef_"
   ]
  },
  {
   "cell_type": "code",
   "execution_count": 66,
   "id": "3001806e",
   "metadata": {},
   "outputs": [
    {
     "name": "stderr",
     "output_type": "stream",
     "text": [
      "C:\\Users\\0023ND744\\Anaconda3\\lib\\site-packages\\sklearn\\utils\\deprecation.py:87: FutureWarning: Function get_feature_names is deprecated; get_feature_names is deprecated in 1.0 and will be removed in 1.2. Please use get_feature_names_out instead.\n",
      "  warnings.warn(msg, category=FutureWarning)\n"
     ]
    },
    {
     "data": {
      "text/plain": [
       "9441"
      ]
     },
     "execution_count": 66,
     "metadata": {},
     "output_type": "execute_result"
    }
   ],
   "source": [
    "len(tfidf.get_feature_names())"
   ]
  },
  {
   "cell_type": "markdown",
   "id": "b04c2663",
   "metadata": {},
   "source": [
    "## Using LIME to Explain the Classification Results"
   ]
  },
  {
   "cell_type": "markdown",
   "id": "6b5bd8b5",
   "metadata": {},
   "source": [
    "From the behavior in the vicinity of the vector, it will draw conclusions about which components are more or less important. LIME will visualize the contributions and explain the decision mechanism of the algorithm for individual documents.\n",
    "\n",
    "\n",
    "LIME wants text as input and classification probabilities as output, we arrange the vectorizer and classifier in a pipeline:"
   ]
  },
  {
   "cell_type": "code",
   "execution_count": 67,
   "id": "0379ffb2",
   "metadata": {},
   "outputs": [],
   "source": [
    "from sklearn.pipeline import make_pipeline\n",
    "pipeline = make_pipeline(tfidf, svc)"
   ]
  },
  {
   "cell_type": "code",
   "execution_count": 69,
   "id": "cd973d31",
   "metadata": {},
   "outputs": [
    {
     "data": {
      "text/plain": [
       "array([[0.62910246, 0.23272   , 0.02264675, 0.01377759, 0.0314358 ,\n",
       "        0.0703174 ]])"
      ]
     },
     "execution_count": 69,
     "metadata": {},
     "output_type": "execute_result"
    }
   ],
   "source": [
    "# now make predictions\n",
    "\n",
    "pipeline.predict_proba([\"Delta processor while executing\"])"
   ]
  },
  {
   "cell_type": "code",
   "execution_count": 70,
   "id": "98141c5f",
   "metadata": {},
   "outputs": [],
   "source": [
    "# predicted as core "
   ]
  },
  {
   "cell_type": "code",
   "execution_count": 71,
   "id": "13102fd6",
   "metadata": {},
   "outputs": [],
   "source": [
    "# import lime\n",
    "\n",
    "from lime.lime_text import LimeTextExplainer\n",
    "explainer = LimeTextExplainer(class_names=class_names)"
   ]
  },
  {
   "cell_type": "code",
   "execution_count": null,
   "id": "b4cd7685",
   "metadata": {},
   "outputs": [],
   "source": [
    "exp = explainer.explain_instance(result.iloc[id][\"text\"],\n",
    "      pipeline.predict_proba, num_features=10, labels=[1, 4])\n",
    "print('Explanation for class %s' % class_names[1])\n",
    "print('\\n'.join(map(str, exp.as_list(label=1))))\n",
    "print()\n",
    "print('Explanation for class %s' % class_names[3])\n",
    "print('\\n'.join(map(str, exp.as_list(label=5))))"
   ]
  },
  {
   "cell_type": "code",
   "execution_count": null,
   "id": "63f016d6",
   "metadata": {},
   "outputs": [],
   "source": []
  }
 ],
 "metadata": {
  "kernelspec": {
   "display_name": "Python 3",
   "language": "python",
   "name": "python3"
  },
  "language_info": {
   "codemirror_mode": {
    "name": "ipython",
    "version": 3
   },
   "file_extension": ".py",
   "mimetype": "text/x-python",
   "name": "python",
   "nbconvert_exporter": "python",
   "pygments_lexer": "ipython3",
   "version": "3.8.8"
  }
 },
 "nbformat": 4,
 "nbformat_minor": 5
}
