{
 "cells": [
  {
   "cell_type": "markdown",
   "id": "e75a8bca",
   "metadata": {},
   "source": [
    "## CI/CD for Machine Learning with Azure DevOps"
   ]
  },
  {
   "cell_type": "markdown",
   "id": "62495819",
   "metadata": {},
   "source": [
    "1. Continuous integration, delivery, and deployment in MLOps\n",
    "\n",
    "2. Setting up a CI/CD pipeline and test environment (using Azure DevOps)\n",
    "\n",
    "3. Pipeline execution and testing\n",
    "\n",
    "4. Pipeline execution triggers"
   ]
  },
  {
   "cell_type": "markdown",
   "id": "6cc6209d",
   "metadata": {},
   "source": [
    "1. Creating a service principal (need to sync Azure ML services and Azure DevOps in order to facilitate CI between both the services.)\n",
    "\n",
    "- connect the Azure ML workspace with the Azure DevOps project using a service principal.\n",
    "\n",
    "**Head to Azure DevOps**\n",
    "\n",
    "2. Install the extension to connect to the Azure ML workspace \n",
    "\n",
    "3. Create Pipeline --> Pipeline -> Releases \n",
    "\n",
    "**Connecting artifacts to the pipeline**\n",
    "\n",
    "4. Connect to your Azure DevOps repository. The Azure DevOps repository serves as the central code repository to orchestrate deployments and operations on Azure DevOps.\n",
    "\n",
    "5. Connect to your Azure ML workspace\n",
    "\n",
    "6. After selecting the model artifact, add the artifact to the release pipeline.( adding all the ML models as artificats here)\n",
    "\n",
    "**Setting up a test environment**\n",
    "\n",
    "- test the robustness of the service and perform various tests to validate the service readiness for production\n",
    "\n",
    "7.  click on the Add a stage box in the Stages section and add an empty job\n",
    "\n",
    "8. Every stage is a composition of a series of steps or jobs to check the robustness of the stage. Then configure the jobs within the created stage.\n",
    "\n",
    "9. Add a task to the agent job by clicking + in the Agent job tab \n",
    "// use a pre-made template job named AzureML Model Deploy\n",
    "\n",
    "10. After adding deploy job it will prompted to connect to your Azure ML workspace and the inferenceconfig file.\n",
    "\n",
    "11. Here give the path for inferenceconfig.yml file ( define a inferenceconfig.yml file --> it contains score.py + environment.yml contents containing all libraries)\n",
    "\n",
    "- Both the score.py and myenv.yml files are tied up in the inferenceConfig.yml file to facilitate the deployment and inference of ML models\n",
    "\n",
    "12. configure the deployment information by pointing to the Model Deployment target, naming the deployment (web service), and pointing to the deployment configuration file (the deployment configuration file has configurations for deployment, with parameters such as computer type, autoscaler configurations, and other enablers for infrastructure definition). For the test environment, we will deploy the ML web service or endpoint in ACI.\n",
    "\n",
    "- this is called as : **AciDeploymentConfig.yml** (It contains the infrastructural definition for provisioning the requisite compute for deployment, such as CPU units, memory in GB, and other authentication or security definitions.)\n",
    "\n",
    "\n",
    "**Pipeline execution and testing**\n",
    "\n",
    "- To begin testing of pipeline , create a release and validate whether the pipeline release has executed successfully\n",
    "\n",
    "13. Create Release -> select the artifacts ( the ML models ) -> Create\n",
    "\n",
    "- then release pipeline (the CI/CD pipeline) is triggered to execute. \n",
    "\n",
    "- All the steps defined in the pipeline will execute, such as downloading the artifacts, provisioning the ACI compute instance for deployment, and deploying the web service. \n",
    "\n",
    "\n",
    "**Pipeline execution triggers**\n",
    "\n",
    "- Artifactory triggers\n",
    "=> Generated artifacts, such as a trained model, metadata, uploaded Docker images, or any file that has been uploaded, can be triggered to execute a certain process in the CI/CD pipeline.\n",
    "\n",
    "- Docker Hub triggers\n",
    "=> push a new Docker image to a Docker Hub repository of your choice, a trigger in the CI/CD pipeline can be executed as per requirements. For example, when you upload a new Docker image to Docker Hub (or Azure Container Registry), the pipeline is triggered to deploy the Docker image as a web service.\n",
    "\n",
    "- Schedule triggers ( like CRON jobs for day/night/weekdays)\n",
    "\n",
    "- Git triggers\n",
    "\n"
   ]
  },
  {
   "cell_type": "code",
   "execution_count": null,
   "id": "a5df0571",
   "metadata": {},
   "outputs": [],
   "source": []
  }
 ],
 "metadata": {
  "kernelspec": {
   "display_name": "Python 3",
   "language": "python",
   "name": "python3"
  },
  "language_info": {
   "codemirror_mode": {
    "name": "ipython",
    "version": 3
   },
   "file_extension": ".py",
   "mimetype": "text/x-python",
   "name": "python",
   "nbconvert_exporter": "python",
   "pygments_lexer": "ipython3",
   "version": "3.8.8"
  }
 },
 "nbformat": 4,
 "nbformat_minor": 5
}
