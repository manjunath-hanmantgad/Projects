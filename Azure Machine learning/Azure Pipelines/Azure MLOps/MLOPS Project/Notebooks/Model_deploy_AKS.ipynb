{
 "cells": [
  {
   "cell_type": "markdown",
   "id": "50e74af1",
   "metadata": {},
   "source": [
    "## Deploying ML model as web service with Azure Kuberenetes Service (AKS)"
   ]
  },
  {
   "cell_type": "code",
   "execution_count": null,
   "id": "1fe637b9",
   "metadata": {},
   "outputs": [],
   "source": [
    "import numpy as np\n",
    "import azureml.core\n",
    "\n",
    "# display the core SDK version number\n",
    "print(\"Azure ML SDK Version: \", azureml.core.VERSION)"
   ]
  },
  {
   "cell_type": "markdown",
   "id": "d532b0bb",
   "metadata": {},
   "source": [
    "### Initialize workspace"
   ]
  },
  {
   "cell_type": "code",
   "execution_count": null,
   "id": "c3f96046",
   "metadata": {},
   "outputs": [],
   "source": [
    "\n",
    "from azureml.core import Workspace\n",
    "from azureml.core.model import Model\n",
    "\n",
    "ws = Workspace.from_config()\n",
    "print(ws.name, ws.resource_group, ws.location, sep = '\\n')"
   ]
  },
  {
   "cell_type": "markdown",
   "id": "8d7a8bd7",
   "metadata": {},
   "source": [
    "## Deploy Model"
   ]
  },
  {
   "cell_type": "markdown",
   "id": "01f787f3",
   "metadata": {},
   "source": [
    "1. Create Scoring script (**score.py**)"
   ]
  },
  {
   "cell_type": "code",
   "execution_count": null,
   "id": "a2cf45f6",
   "metadata": {},
   "outputs": [],
   "source": [
    "%%writefile score.py\n",
    "import json\n",
    "import numpy as np\n",
    "import os\n",
    "import pickle\n",
    "import joblib\n",
    "import onnxruntime\n",
    "import time\n",
    "from azureml.core.model import Model\n",
    "from azureml.monitoring import ModelDataCollector\n",
    "from inference_schema.schema_decorators import input_schema, output_schema\n",
    "from inference_schema.parameter_types.numpy_parameter_type import NumpyParameterType\n",
    "\n",
    "def init():\n",
    "    global model, scaler, input_name, label_name, inputs_dc, prediction_dc\n",
    "    \n",
    "\n",
    "    scaler_path = os.path.join(os.getenv('AZUREML_MODEL_DIR'), 'model-scaler/1/model-scaler.pkl')\n",
    "    # deserialize the model file back into a sklearn model\n",
    "    scaler = joblib.load(scaler_path)\n",
    "    \n",
    "    model_onnx = os.path.join(os.getenv('AZUREML_MODEL_DIR'), 'support-vector-classifier/2/svc.onnx')\n",
    "    # print(os.listdir(model_onnx))\n",
    "    model = onnxruntime.InferenceSession(model_onnx, None)\n",
    "    input_name = model.get_inputs()[0].name\n",
    "    label_name = model.get_outputs()[0].name\n",
    "    \n",
    "    # variables to monitor model input and output data\n",
    "    inputs_dc = ModelDataCollector(\"Support vector classifier model\", designation=\"inputs\", feature_names=[\"feat1\", \"feat2\", \"feat3\", \"feat4\", \"feat5\", \"feat6\", \"feat7\"])\n",
    "    prediction_dc = ModelDataCollector(\"Support vector classifier model\", designation=\"predictions\", feature_names=[\"weatherprediction\"])\n",
    "\n",
    "    \n",
    "@input_schema('data', NumpyParameterType(np.array([[34.927778, 0.24, 7.3899, 83, 16.1000, 1016.51, 1]])))\n",
    "@output_schema(NumpyParameterType(np.array([0])))\n",
    "def run(data):\n",
    "                try: \n",
    "                    data = scaler.fit_transform(data.reshape(1, 7))\n",
    "                    inputs_dc.collect(data)\n",
    "                    \n",
    "                    # model inference\n",
    "                    result = model.run([label_name], {input_name: data.astype(np.float32)})[0]\n",
    "                    # this call is saving model output data into Azure Blob\n",
    "                    prediction_dc.collect(result)\n",
    "\n",
    "                 \n",
    "                except Exception as e:   \n",
    "                    result = 'error'\n",
    "                    prediction_dc.collect(result)\n",
    "                    \n",
    "                return result.tolist()"
   ]
  },
  {
   "cell_type": "markdown",
   "id": "6dc71ffa",
   "metadata": {},
   "source": [
    "2. **Define environment**"
   ]
  },
  {
   "cell_type": "code",
   "execution_count": null,
   "id": "ae8d1349",
   "metadata": {},
   "outputs": [],
   "source": [
    "from azureml.core.environment import Environment\n",
    "from azureml.core.model import InferenceConfig\n",
    "\n",
    "Environment(name=\"myenv\")\n",
    "\n",
    "env = Environment.get(workspace=ws, name=\"AzureML-Minimal\").clone('myenv')"
   ]
  },
  {
   "cell_type": "code",
   "execution_count": null,
   "id": "52dbd376",
   "metadata": {},
   "outputs": [],
   "source": [
    "for pip_package in [\"numpy\", \"onnxruntime\", \"joblib\", \"azureml-core\", \"azureml-monitoring\", \"azureml-defaults\", \"scikit-learn==0.20.3\", \"inference-schema\", \"inference-schema[numpy-support]\"]:\n",
    "    env.python.conda_dependencies.add_pip_package(pip_package)\n",
    "\n",
    "inference_config = InferenceConfig(entry_script='score.py',\n",
    "                                    environment=env)"
   ]
  },
  {
   "cell_type": "markdown",
   "id": "0e51cac0",
   "metadata": {},
   "source": [
    "3. **Deployment Configuration **"
   ]
  },
  {
   "cell_type": "code",
   "execution_count": null,
   "id": "f898e5ce",
   "metadata": {},
   "outputs": [],
   "source": [
    "from azureml.core.webservice import AksWebservice\n",
    "\n",
    "aks_config = AksWebservice.deploy_configuration(collect_model_data=True)"
   ]
  },
  {
   "cell_type": "markdown",
   "id": "f34a694e",
   "metadata": {},
   "source": [
    "4. **Deploy web service**"
   ]
  },
  {
   "cell_type": "code",
   "execution_count": null,
   "id": "b1ee3294",
   "metadata": {},
   "outputs": [],
   "source": [
    "from azureml.core.compute import ComputeTarget\n",
    "from azureml.core.compute_target import ComputeTargetException\n",
    "from azureml.core.compute import AksCompute, ComputeTarget\n",
    "\n",
    "# Choose a name for your AKS cluster\n",
    "aks_name = 'port-aks' \n",
    "\n",
    "# Verify that cluster does not exist already\n",
    "try:\n",
    "    aks_target = ComputeTarget(workspace=ws, name=aks_name)\n",
    "    print('Found existing cluster, use it.')\n",
    "except ComputeTargetException:\n",
    "    # Use the default configuration (can also provide parameters to customize)\n",
    "    prov_config = AksCompute.provisioning_configuration()\n",
    "\n",
    "    # Create the cluster\n",
    "    aks_target = ComputeTarget.create(workspace = ws, \n",
    "                                    name = aks_name, \n",
    "                                    provisioning_configuration = prov_config)\n",
    "\n",
    "if aks_target.get_status() != \"Succeeded\":\n",
    "    aks_target.wait_for_completion(show_output=True)"
   ]
  },
  {
   "cell_type": "code",
   "execution_count": null,
   "id": "0d6edf8d",
   "metadata": {},
   "outputs": [],
   "source": [
    "model1 = Model(ws, 'model-scaler')\n",
    "model2 = Model(ws, 'support-vector-classifier')\n",
    "\n",
    "service_name = 'weather-aks-prediction'"
   ]
  },
  {
   "cell_type": "code",
   "execution_count": null,
   "id": "ab9f547f",
   "metadata": {},
   "outputs": [],
   "source": [
    "service = Model.deploy(ws, service_name, models=[model1, model2], inference_config=inference_config, deployment_config=aks_config, deployment_target=aks_target,overwrite=True)\n",
    "service.wait_for_deployment(show_output = True)\n",
    "print(service.state)"
   ]
  },
  {
   "cell_type": "code",
   "execution_count": null,
   "id": "5fd0192c",
   "metadata": {},
   "outputs": [],
   "source": [
    "print(service.get_logs())"
   ]
  },
  {
   "cell_type": "markdown",
   "id": "91f86c1a",
   "metadata": {},
   "source": [
    "## Applicatin Insights"
   ]
  },
  {
   "cell_type": "code",
   "execution_count": null,
   "id": "7f175286",
   "metadata": {},
   "outputs": [],
   "source": [
    "service.update(enable_app_insights=True)"
   ]
  },
  {
   "cell_type": "markdown",
   "id": "faba19de",
   "metadata": {},
   "source": [
    "## Test Web service"
   ]
  },
  {
   "cell_type": "code",
   "execution_count": null,
   "id": "315476d0",
   "metadata": {},
   "outputs": [],
   "source": [
    "print(service.scoring_uri)"
   ]
  },
  {
   "cell_type": "code",
   "execution_count": null,
   "id": "bc00217a",
   "metadata": {},
   "outputs": [],
   "source": [
    "print(service.swagger_uri)\n"
   ]
  },
  {
   "cell_type": "markdown",
   "id": "998f2d1e",
   "metadata": {},
   "source": [
    "## Make prediction on new data from user"
   ]
  },
  {
   "cell_type": "code",
   "execution_count": null,
   "id": "50ef3e6d",
   "metadata": {},
   "outputs": [],
   "source": [
    "import json\n",
    "\n",
    "\n",
    "input_payload = json.dumps({\n",
    "    'data': [[34.927778, 0.24, 7.3899, 83, 16.1000, 1016.51, 1]],\n",
    "    'method': 'predict' \n",
    "})\n",
    "\n",
    "output = service.run(input_payload)\n",
    "\n",
    "print(output)"
   ]
  }
 ],
 "metadata": {
  "kernelspec": {
   "display_name": "Python 3",
   "language": "python",
   "name": "python3"
  },
  "language_info": {
   "codemirror_mode": {
    "name": "ipython",
    "version": 3
   },
   "file_extension": ".py",
   "mimetype": "text/x-python",
   "name": "python",
   "nbconvert_exporter": "python",
   "pygments_lexer": "ipython3",
   "version": "3.8.8"
  }
 },
 "nbformat": 4,
 "nbformat_minor": 5
}
