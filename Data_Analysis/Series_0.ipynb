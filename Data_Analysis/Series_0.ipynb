{
 "cells": [
  {
   "cell_type": "code",
   "execution_count": 1,
   "id": "222f8b3f",
   "metadata": {},
   "outputs": [],
   "source": [
    "import pandas as pd\n",
    "import numpy as np\n",
    "%config completer.use_jedi = False #for auto complete"
   ]
  },
  {
   "cell_type": "code",
   "execution_count": 3,
   "id": "19f3f7c8",
   "metadata": {},
   "outputs": [
    {
     "data": {
      "text/plain": [
       "pandas.core.series.Series"
      ]
     },
     "execution_count": 3,
     "metadata": {},
     "output_type": "execute_result"
    }
   ],
   "source": [
    "pd.Series"
   ]
  },
  {
   "cell_type": "code",
   "execution_count": 4,
   "id": "1171a471",
   "metadata": {},
   "outputs": [
    {
     "name": "stderr",
     "output_type": "stream",
     "text": [
      "<ipython-input-4-fa15c544da3b>:1: FutureWarning: The default dtype for empty Series will be 'object' instead of 'float64' in a future version. Specify a dtype explicitly to silence this warning.\n",
      "  pd.Series()\n"
     ]
    },
    {
     "data": {
      "text/plain": [
       "Series([], dtype: float64)"
      ]
     },
     "execution_count": 4,
     "metadata": {},
     "output_type": "execute_result"
    }
   ],
   "source": [
    "pd.Series()"
   ]
  },
  {
   "cell_type": "code",
   "execution_count": 5,
   "id": "b5f84c51",
   "metadata": {},
   "outputs": [],
   "source": [
    "# a new series\n",
    "ice_cream_flavors = [\n",
    "            \"Chocolate\",\n",
    "            \"Vanilla\",\n",
    "            \"Strawberry\",\n",
    "            \"Rum Raisin\",\n",
    "        ]"
   ]
  },
  {
   "cell_type": "code",
   "execution_count": 6,
   "id": "dacbb1b6",
   "metadata": {},
   "outputs": [
    {
     "data": {
      "text/plain": [
       "0     Chocolate\n",
       "1       Vanilla\n",
       "2    Strawberry\n",
       "3    Rum Raisin\n",
       "dtype: object"
      ]
     },
     "execution_count": 6,
     "metadata": {},
     "output_type": "execute_result"
    }
   ],
   "source": [
    "pd.Series(ice_cream_flavors)"
   ]
  },
  {
   "cell_type": "code",
   "execution_count": 9,
   "id": "d5840aab",
   "metadata": {},
   "outputs": [
    {
     "data": {
      "text/plain": [
       "0    True\n",
       "1    True\n",
       "2    True\n",
       "3    True\n",
       "dtype: bool"
      ]
     },
     "execution_count": 9,
     "metadata": {},
     "output_type": "execute_result"
    }
   ],
   "source": [
    "pd.Series(ice_cream_flavors) == pd.Series(data=ice_cream_flavors)"
   ]
  },
  {
   "cell_type": "code",
   "execution_count": 10,
   "id": "2fc576f6",
   "metadata": {},
   "outputs": [],
   "source": [
    "# pass objects of different data types to the data and index parameters, but they must have the same length so that pandas can associate their values. \n",
    "\n",
    "ice_cream_flavors = [\n",
    "            \"Chocolate\",\n",
    "            \"Vanilla\",\n",
    "            \"Strawberry\",\n",
    "            \"Rum Raisin\",\n",
    "        ]\n",
    "\n",
    "days_of_week = (\"Monday\", \"Wednesday\", \"Friday\", \"Saturday\")"
   ]
  },
  {
   "cell_type": "code",
   "execution_count": 11,
   "id": "34897db5",
   "metadata": {},
   "outputs": [
    {
     "data": {
      "text/plain": [
       "Monday        Chocolate\n",
       "Wednesday       Vanilla\n",
       "Friday       Strawberry\n",
       "Saturday     Rum Raisin\n",
       "dtype: object"
      ]
     },
     "execution_count": 11,
     "metadata": {},
     "output_type": "execute_result"
    }
   ],
   "source": [
    "pd.Series(ice_cream_flavors,days_of_week)\n",
    "pd.Series(data=ice_cream_flavors, index=days_of_week)\n",
    "\n",
    "# ice_cream_flavors is a list and days_of_week is tuple but still pandas was able to match "
   ]
  },
  {
   "cell_type": "code",
   "execution_count": 12,
   "id": "b899d443",
   "metadata": {},
   "outputs": [
    {
     "data": {
      "text/plain": [
       "0     4.0\n",
       "1     8.0\n",
       "2    15.0\n",
       "3    16.0\n",
       "4    23.0\n",
       "5    42.0\n",
       "dtype: float64"
      ]
     },
     "execution_count": 12,
     "metadata": {},
     "output_type": "execute_result"
    }
   ],
   "source": [
    "# forcing a data type\n",
    "lucky_numbers = [4, 8, 15, 16, 23, 42]\n",
    "pd.Series(lucky_numbers, dtype = \"float\")\n",
    "\n",
    "# pd.Series(dtype = \"float\" , data=lucky_numbers) is wrong as data comes first than index as per pd constructor arguments\n",
    "# pd.Series(press shift + tab to get constructor parameters)"
   ]
  },
  {
   "cell_type": "code",
   "execution_count": 13,
   "id": "8910a8c5",
   "metadata": {},
   "outputs": [
    {
     "data": {
      "text/plain": [
       "0     (120, 41, 26)\n",
       "1    (196, 165, 45)\n",
       "dtype: object"
      ]
     },
     "execution_count": 13,
     "metadata": {},
     "output_type": "execute_result"
    }
   ],
   "source": [
    "# To create a Series that stores tuples, wrap the tuples in a list. Tuples work well for row values that consist of multiple parts or components, such as an address:\n",
    "\n",
    "rgb_colors = [(120, 41, 26), (196, 165, 45)]\n",
    "pd.Series(data = rgb_colors)\n"
   ]
  },
  {
   "cell_type": "code",
   "execution_count": 14,
   "id": "f9436a1a",
   "metadata": {},
   "outputs": [
    {
     "data": {
      "text/plain": [
       "array([ 8,  6, 42, 97, 47,  4, 76, 11,  4, 17])"
      ]
     },
     "execution_count": 14,
     "metadata": {},
     "output_type": "execute_result"
    }
   ],
   "source": [
    "# random integer randint data\n",
    "\n",
    "random_data = np.random.randint(1, 101, 10) # 10 numbers starting from 1 to 100\n",
    "random_data"
   ]
  },
  {
   "cell_type": "code",
   "execution_count": 15,
   "id": "cba429e9",
   "metadata": {},
   "outputs": [
    {
     "data": {
      "text/plain": [
       "array([ 8,  6, 42, 97, 47,  4, 76, 11,  4, 17])"
      ]
     },
     "execution_count": 15,
     "metadata": {},
     "output_type": "execute_result"
    }
   ],
   "source": [
    "random_data"
   ]
  },
  {
   "cell_type": "code",
   "execution_count": 16,
   "id": "a01aaa5a",
   "metadata": {},
   "outputs": [
    {
     "data": {
      "text/plain": [
       "array([50, 34, 73, 12, 96, 16,  9, 81, 48, 67])"
      ]
     },
     "execution_count": 16,
     "metadata": {},
     "output_type": "execute_result"
    }
   ],
   "source": [
    "random_data = np.random.randint(1, 101, 10) # 10 numbers starting from 1 to 100\n",
    "random_data"
   ]
  },
  {
   "cell_type": "code",
   "execution_count": 17,
   "id": "febaecb3",
   "metadata": {},
   "outputs": [
    {
     "data": {
      "text/plain": [
       "array([94, 40, 74, 10, 22, 96, 39, 42, 10, 63])"
      ]
     },
     "execution_count": 17,
     "metadata": {},
     "output_type": "execute_result"
    }
   ],
   "source": [
    "random_data = np.random.randint(1, 101, 10) # 10 numbers starting from 1 to 100\n",
    "random_data"
   ]
  },
  {
   "cell_type": "code",
   "execution_count": 18,
   "id": "28edd158",
   "metadata": {},
   "outputs": [
    {
     "data": {
      "text/plain": [
       "0    94\n",
       "1    40\n",
       "2    74\n",
       "3    10\n",
       "4    22\n",
       "5    96\n",
       "6    39\n",
       "7    42\n",
       "8    10\n",
       "9    63\n",
       "dtype: int32"
      ]
     },
     "execution_count": 18,
     "metadata": {},
     "output_type": "execute_result"
    }
   ],
   "source": [
    "pd.Series(random_data)"
   ]
  },
  {
   "cell_type": "markdown",
   "id": "fe01c5a1",
   "metadata": {},
   "source": [
    "### Retrieving the first and last rows"
   ]
  },
  {
   "cell_type": "code",
   "execution_count": 19,
   "id": "c555c1c2",
   "metadata": {},
   "outputs": [
    {
     "data": {
      "text/plain": [
       "0       0\n",
       "1       5\n",
       "2      10\n",
       "3      15\n",
       "4      20\n",
       "     ... \n",
       "95    475\n",
       "96    480\n",
       "97    485\n",
       "98    490\n",
       "99    495\n",
       "Length: 100, dtype: int64"
      ]
     },
     "execution_count": 19,
     "metadata": {},
     "output_type": "execute_result"
    }
   ],
   "source": [
    "#use Python’s built-in range function to generate a sequence of all numbers between a starting point and an endpoint. The range function’s three arguments are a lower bound, the upper bound, and a step sequence (the interval between every two numbers).\n",
    "\n",
    "values = range(0,500,5)\n",
    "nums = pd.Series(data=values)\n",
    "nums"
   ]
  },
  {
   "cell_type": "code",
   "execution_count": 20,
   "id": "c0060ee5",
   "metadata": {},
   "outputs": [
    {
     "data": {
      "text/plain": [
       "0     0\n",
       "1     5\n",
       "2    10\n",
       "3    15\n",
       "dtype: int64"
      ]
     },
     "execution_count": 20,
     "metadata": {},
     "output_type": "execute_result"
    }
   ],
   "source": [
    "nums.head(4)"
   ]
  },
  {
   "cell_type": "code",
   "execution_count": 21,
   "id": "b9e1cf5e",
   "metadata": {},
   "outputs": [
    {
     "data": {
      "text/plain": [
       "95    475\n",
       "96    480\n",
       "97    485\n",
       "98    490\n",
       "99    495\n",
       "dtype: int64"
      ]
     },
     "execution_count": 21,
     "metadata": {},
     "output_type": "execute_result"
    }
   ],
   "source": [
    "nums.tail()"
   ]
  },
  {
   "cell_type": "markdown",
   "id": "40c1a117",
   "metadata": {},
   "source": [
    "## Mathematical operations"
   ]
  },
  {
   "cell_type": "markdown",
   "id": "480f8499",
   "metadata": {},
   "source": [
    "### Statistical operations"
   ]
  },
  {
   "cell_type": "code",
   "execution_count": 22,
   "id": "9d6bff33",
   "metadata": {},
   "outputs": [
    {
     "data": {
      "text/plain": [
       "0    1.0\n",
       "1    2.0\n",
       "2    3.0\n",
       "3    NaN\n",
       "4    4.0\n",
       "5    5.0\n",
       "dtype: float64"
      ]
     },
     "execution_count": 22,
     "metadata": {},
     "output_type": "execute_result"
    }
   ],
   "source": [
    "numbers = pd.Series([1, 2, 3, np.nan, 4, 5])\n",
    "numbers\n",
    "\n",
    "# if a data source has even a single missing value, pandas will coerce the integers to floating-point values:"
   ]
  },
  {
   "cell_type": "code",
   "execution_count": 23,
   "id": "9f782cf1",
   "metadata": {},
   "outputs": [
    {
     "data": {
      "text/plain": [
       "5"
      ]
     },
     "execution_count": 23,
     "metadata": {},
     "output_type": "execute_result"
    }
   ],
   "source": [
    "numbers.count()\n",
    "# count only counts non-null values"
   ]
  },
  {
   "cell_type": "code",
   "execution_count": 26,
   "id": "ea443215",
   "metadata": {},
   "outputs": [
    {
     "data": {
      "text/plain": [
       "nan"
      ]
     },
     "execution_count": 26,
     "metadata": {},
     "output_type": "execute_result"
    }
   ],
   "source": [
    "numbers.sum()\n",
    "\n",
    "# but if we were to inlcude null value also\n",
    "\n",
    "numbers.sum(skipna=False)\n",
    "# then op will be nan as pandas does not know value of nan"
   ]
  },
  {
   "cell_type": "code",
   "execution_count": 27,
   "id": "52db6914",
   "metadata": {},
   "outputs": [
    {
     "data": {
      "text/plain": [
       "3.0"
      ]
     },
     "execution_count": 27,
     "metadata": {},
     "output_type": "execute_result"
    }
   ],
   "source": [
    "numbers.mean()"
   ]
  },
  {
   "cell_type": "code",
   "execution_count": 29,
   "id": "7a991485",
   "metadata": {},
   "outputs": [
    {
     "data": {
      "text/plain": [
       "120.0"
      ]
     },
     "execution_count": 29,
     "metadata": {},
     "output_type": "execute_result"
    }
   ],
   "source": [
    "numbers.product()"
   ]
  },
  {
   "cell_type": "code",
   "execution_count": 30,
   "id": "9fc91b83",
   "metadata": {},
   "outputs": [
    {
     "data": {
      "text/plain": [
       "1.5811388300841898"
      ]
     },
     "execution_count": 30,
     "metadata": {},
     "output_type": "execute_result"
    }
   ],
   "source": [
    "numbers.std() # standard deviation"
   ]
  },
  {
   "cell_type": "code",
   "execution_count": 31,
   "id": "b463e6fc",
   "metadata": {},
   "outputs": [
    {
     "data": {
      "text/plain": [
       "array(['Hemingway', 'Orwell', 'Dostoevsky', 'Fitzgerald'], dtype=object)"
      ]
     },
     "execution_count": 31,
     "metadata": {},
     "output_type": "execute_result"
    }
   ],
   "source": [
    "# The unique method returns a NumPy ndarray of unique values from the Series\n",
    "\n",
    "authors = pd.Series(\n",
    "             [\"Hemingway\", \"Orwell\", \"Dostoevsky\", \"Fitzgerald\", \"Orwell\"])\n",
    " \n",
    "authors.unique() #Orwell is only 1 in op"
   ]
  },
  {
   "cell_type": "code",
   "execution_count": 32,
   "id": "451931aa",
   "metadata": {},
   "outputs": [],
   "source": [
    "# Comparison operations between Series become trickier when the indices differ. One index may have a greater or smaller number of labels, or there may be a mismatch between the labels themselves.\n",
    "\n",
    "s1 = pd.Series(data = [5, 10, 15], index = [\"A\", \"B\", \"C\"])\n",
    " \n",
    "s2 = pd.Series(data = [4, 8, 12, 14], index = [\"B\", \"C\", \"D\", \"E\"])"
   ]
  },
  {
   "cell_type": "code",
   "execution_count": 33,
   "id": "21104933",
   "metadata": {},
   "outputs": [
    {
     "data": {
      "text/plain": [
       "A     NaN\n",
       "B    14.0\n",
       "C    23.0\n",
       "D     NaN\n",
       "E     NaN\n",
       "dtype: float64"
      ]
     },
     "execution_count": 33,
     "metadata": {},
     "output_type": "execute_result"
    }
   ],
   "source": [
    "s1 + s2\n",
    "# pandas will append NaN since the index are not matching i.e there is no matching for A , D , E"
   ]
  },
  {
   "cell_type": "code",
   "execution_count": 34,
   "id": "f7b719d2",
   "metadata": {},
   "outputs": [],
   "source": [
    "cities = pd.Series(data = [\"San Francisco\", \"Los Angeles\", \"Las  Vegas\", np.nan])"
   ]
  },
  {
   "cell_type": "code",
   "execution_count": 35,
   "id": "c298da86",
   "metadata": {},
   "outputs": [
    {
     "data": {
      "text/plain": [
       "4"
      ]
     },
     "execution_count": 35,
     "metadata": {},
     "output_type": "execute_result"
    }
   ],
   "source": [
    "len(cities)"
   ]
  },
  {
   "cell_type": "code",
   "execution_count": 36,
   "id": "8775e65e",
   "metadata": {},
   "outputs": [
    {
     "data": {
      "text/plain": [
       "pandas.core.series.Series"
      ]
     },
     "execution_count": 36,
     "metadata": {},
     "output_type": "execute_result"
    }
   ],
   "source": [
    "type(cities)"
   ]
  },
  {
   "cell_type": "code",
   "execution_count": 37,
   "id": "752173ca",
   "metadata": {},
   "outputs": [
    {
     "data": {
      "text/plain": [
       "['San Francisco', 'Los Angeles', 'Las  Vegas', nan]"
      ]
     },
     "execution_count": 37,
     "metadata": {},
     "output_type": "execute_result"
    }
   ],
   "source": [
    " # series can be converted to dictionary or list\n",
    "    \n",
    "list(cities)"
   ]
  },
  {
   "cell_type": "code",
   "execution_count": 38,
   "id": "525bbf55",
   "metadata": {},
   "outputs": [
    {
     "data": {
      "text/plain": [
       "pandas.core.series.Series"
      ]
     },
     "execution_count": 38,
     "metadata": {},
     "output_type": "execute_result"
    }
   ],
   "source": [
    "type(cities)"
   ]
  },
  {
   "cell_type": "code",
   "execution_count": 39,
   "id": "b37b668b",
   "metadata": {},
   "outputs": [
    {
     "data": {
      "text/plain": [
       "list"
      ]
     },
     "execution_count": 39,
     "metadata": {},
     "output_type": "execute_result"
    }
   ],
   "source": [
    "type(list(cities))"
   ]
  },
  {
   "cell_type": "code",
   "execution_count": 40,
   "id": "abb41e27",
   "metadata": {},
   "outputs": [
    {
     "data": {
      "text/plain": [
       "{0: 'San Francisco', 1: 'Los Angeles', 2: 'Las  Vegas', 3: nan}"
      ]
     },
     "execution_count": 40,
     "metadata": {},
     "output_type": "execute_result"
    }
   ],
   "source": [
    "dict(cities)"
   ]
  },
  {
   "cell_type": "code",
   "execution_count": 41,
   "id": "87ef0b81",
   "metadata": {},
   "outputs": [
    {
     "data": {
      "text/plain": [
       "dict"
      ]
     },
     "execution_count": 41,
     "metadata": {},
     "output_type": "execute_result"
    }
   ],
   "source": [
    "type(dict(cities))"
   ]
  },
  {
   "cell_type": "code",
   "execution_count": 42,
   "id": "dc8c434f",
   "metadata": {},
   "outputs": [],
   "source": [
    "superheroes = [\n",
    "             \"Batman\",\n",
    "             \"Superman\",\n",
    "             \"Spider-Man\",\n",
    "             \"Iron Man\",\n",
    "             \"Captain America\",\n",
    "             \"Wonder Woman\"\n",
    "         ]\n",
    "\n",
    "strength_levels = (100, 120, 90, 95, 110, 120)"
   ]
  },
  {
   "cell_type": "code",
   "execution_count": 43,
   "id": "a49af13d",
   "metadata": {},
   "outputs": [
    {
     "data": {
      "text/plain": [
       "0             Batman\n",
       "1           Superman\n",
       "2         Spider-Man\n",
       "3           Iron Man\n",
       "4    Captain America\n",
       "5       Wonder Woman\n",
       "dtype: object"
      ]
     },
     "execution_count": 43,
     "metadata": {},
     "output_type": "execute_result"
    }
   ],
   "source": [
    "# convert them to series\n",
    "\n",
    "pd.Series(superheroes)"
   ]
  },
  {
   "cell_type": "code",
   "execution_count": 44,
   "id": "ac75be91",
   "metadata": {},
   "outputs": [
    {
     "data": {
      "text/plain": [
       "0    100\n",
       "1    120\n",
       "2     90\n",
       "3     95\n",
       "4    110\n",
       "5    120\n",
       "dtype: int64"
      ]
     },
     "execution_count": 44,
     "metadata": {},
     "output_type": "execute_result"
    }
   ],
   "source": [
    "pd.Series(strength_levels)"
   ]
  },
  {
   "cell_type": "code",
   "execution_count": 46,
   "id": "05581831",
   "metadata": {},
   "outputs": [],
   "source": [
    "heroes = pd.Series(data=strength_levels , index=superheroes)"
   ]
  },
  {
   "cell_type": "code",
   "execution_count": 47,
   "id": "e106e328",
   "metadata": {},
   "outputs": [
    {
     "data": {
      "text/plain": [
       "Batman             100\n",
       "Superman           120\n",
       "Spider-Man          90\n",
       "Iron Man            95\n",
       "Captain America    110\n",
       "Wonder Woman       120\n",
       "dtype: int64"
      ]
     },
     "execution_count": 47,
     "metadata": {},
     "output_type": "execute_result"
    }
   ],
   "source": [
    "heroes"
   ]
  },
  {
   "cell_type": "code",
   "execution_count": 48,
   "id": "cc873afe",
   "metadata": {},
   "outputs": [
    {
     "data": {
      "text/plain": [
       "Batman      100\n",
       "Superman    120\n",
       "dtype: int64"
      ]
     },
     "execution_count": 48,
     "metadata": {},
     "output_type": "execute_result"
    }
   ],
   "source": [
    "# first 2 rows\n",
    "heroes.head(2)"
   ]
  },
  {
   "cell_type": "code",
   "execution_count": 49,
   "id": "45b44b4c",
   "metadata": {},
   "outputs": [
    {
     "data": {
      "text/plain": [
       "Spider-Man          90\n",
       "Iron Man            95\n",
       "Captain America    110\n",
       "Wonder Woman       120\n",
       "dtype: int64"
      ]
     },
     "execution_count": 49,
     "metadata": {},
     "output_type": "execute_result"
    }
   ],
   "source": [
    "# last 4 rows\n",
    "heroes.tail(4)"
   ]
  },
  {
   "cell_type": "code",
   "execution_count": 50,
   "id": "5e01e084",
   "metadata": {},
   "outputs": [
    {
     "data": {
      "text/plain": [
       "5"
      ]
     },
     "execution_count": 50,
     "metadata": {},
     "output_type": "execute_result"
    }
   ],
   "source": [
    "# nr of unqiue values\n",
    "heroes.nunique()"
   ]
  },
  {
   "cell_type": "code",
   "execution_count": 51,
   "id": "5471d9c7",
   "metadata": {},
   "outputs": [
    {
     "data": {
      "text/plain": [
       "90"
      ]
     },
     "execution_count": 51,
     "metadata": {},
     "output_type": "execute_result"
    }
   ],
   "source": [
    "heroes.min()"
   ]
  },
  {
   "cell_type": "code",
   "execution_count": 53,
   "id": "422b6760",
   "metadata": {},
   "outputs": [
    {
     "data": {
      "text/plain": [
       "(90, 120)"
      ]
     },
     "execution_count": 53,
     "metadata": {},
     "output_type": "execute_result"
    }
   ],
   "source": [
    "min_s = heroes.min()\n",
    "max_s = heroes.max()\n",
    "min_s , max_s"
   ]
  },
  {
   "cell_type": "code",
   "execution_count": 54,
   "id": "d4a4cde3",
   "metadata": {},
   "outputs": [
    {
     "data": {
      "text/plain": [
       "{'Batman': 100,\n",
       " 'Superman': 120,\n",
       " 'Spider-Man': 90,\n",
       " 'Iron Man': 95,\n",
       " 'Captain America': 110,\n",
       " 'Wonder Woman': 120}"
      ]
     },
     "execution_count": 54,
     "metadata": {},
     "output_type": "execute_result"
    }
   ],
   "source": [
    "# series to dict\n",
    "dict(heroes)"
   ]
  },
  {
   "cell_type": "code",
   "execution_count": null,
   "id": "aa6ef5d4",
   "metadata": {},
   "outputs": [],
   "source": []
  }
 ],
 "metadata": {
  "kernelspec": {
   "display_name": "Python 3",
   "language": "python",
   "name": "python3"
  },
  "language_info": {
   "codemirror_mode": {
    "name": "ipython",
    "version": 3
   },
   "file_extension": ".py",
   "mimetype": "text/x-python",
   "name": "python",
   "nbconvert_exporter": "python",
   "pygments_lexer": "ipython3",
   "version": "3.8.8"
  }
 },
 "nbformat": 4,
 "nbformat_minor": 5
}
