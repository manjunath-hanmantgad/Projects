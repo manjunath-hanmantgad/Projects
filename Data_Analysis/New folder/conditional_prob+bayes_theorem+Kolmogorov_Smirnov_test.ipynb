{
 "cells": [
  {
   "cell_type": "markdown",
   "id": "64f1e68a",
   "metadata": {},
   "source": [
    "1. estimating conditional probabilities and Baye's theorem\n",
    "2. Bayes' theorem, and Kolmogorov-Smirnov tests, for distribution comparison. \n",
    "3. Implement data transformation techniques, such as the Box-Cox and Yeo-Johnson transformations"
   ]
  },
  {
   "cell_type": "markdown",
   "id": "49feef71",
   "metadata": {},
   "source": [
    "## Initial Data Analysis"
   ]
  },
  {
   "cell_type": "markdown",
   "id": "a7c9aaa2",
   "metadata": {},
   "source": [
    "check the dimensionality of the data, \n",
    "type of columns,\n",
    "possible missing values,\n",
    "and some generic statistics on the numerical columns."
   ]
  },
  {
   "cell_type": "code",
   "execution_count": 1,
   "id": "e49d826e",
   "metadata": {},
   "outputs": [],
   "source": [
    "import pandas as pd\n",
    "import seaborn as sns\n",
    "import matplotlib.pyplot as plt\n",
    "\n",
    "%matplotlib inline"
   ]
  },
  {
   "cell_type": "code",
   "execution_count": 2,
   "id": "612d0293",
   "metadata": {},
   "outputs": [],
   "source": [
    "data = pd.read_csv('Absenteeism_at_work_AAA/Absenteeism_at_work.csv',sep=\";\")\n",
    "#without sep it will not give correct format"
   ]
  },
  {
   "cell_type": "code",
   "execution_count": 3,
   "id": "0eced9bf",
   "metadata": {},
   "outputs": [
    {
     "data": {
      "text/html": [
       "<div>\n",
       "<style scoped>\n",
       "    .dataframe tbody tr th:only-of-type {\n",
       "        vertical-align: middle;\n",
       "    }\n",
       "\n",
       "    .dataframe tbody tr th {\n",
       "        vertical-align: top;\n",
       "    }\n",
       "\n",
       "    .dataframe thead th {\n",
       "        text-align: right;\n",
       "    }\n",
       "</style>\n",
       "<table border=\"1\" class=\"dataframe\">\n",
       "  <thead>\n",
       "    <tr style=\"text-align: right;\">\n",
       "      <th></th>\n",
       "      <th>ID</th>\n",
       "      <th>Reason for absence</th>\n",
       "      <th>Month of absence</th>\n",
       "      <th>Day of the week</th>\n",
       "      <th>Seasons</th>\n",
       "      <th>Transportation expense</th>\n",
       "      <th>Distance from Residence to Work</th>\n",
       "      <th>Service time</th>\n",
       "      <th>Age</th>\n",
       "      <th>Work load Average/day</th>\n",
       "      <th>...</th>\n",
       "      <th>Disciplinary failure</th>\n",
       "      <th>Education</th>\n",
       "      <th>Son</th>\n",
       "      <th>Social drinker</th>\n",
       "      <th>Social smoker</th>\n",
       "      <th>Pet</th>\n",
       "      <th>Weight</th>\n",
       "      <th>Height</th>\n",
       "      <th>Body mass index</th>\n",
       "      <th>Absenteeism time in hours</th>\n",
       "    </tr>\n",
       "  </thead>\n",
       "  <tbody>\n",
       "    <tr>\n",
       "      <th>0</th>\n",
       "      <td>11</td>\n",
       "      <td>26</td>\n",
       "      <td>7</td>\n",
       "      <td>3</td>\n",
       "      <td>1</td>\n",
       "      <td>289</td>\n",
       "      <td>36</td>\n",
       "      <td>13</td>\n",
       "      <td>33</td>\n",
       "      <td>239.554</td>\n",
       "      <td>...</td>\n",
       "      <td>0</td>\n",
       "      <td>1</td>\n",
       "      <td>2</td>\n",
       "      <td>1</td>\n",
       "      <td>0</td>\n",
       "      <td>1</td>\n",
       "      <td>90</td>\n",
       "      <td>172</td>\n",
       "      <td>30</td>\n",
       "      <td>4</td>\n",
       "    </tr>\n",
       "    <tr>\n",
       "      <th>1</th>\n",
       "      <td>36</td>\n",
       "      <td>0</td>\n",
       "      <td>7</td>\n",
       "      <td>3</td>\n",
       "      <td>1</td>\n",
       "      <td>118</td>\n",
       "      <td>13</td>\n",
       "      <td>18</td>\n",
       "      <td>50</td>\n",
       "      <td>239.554</td>\n",
       "      <td>...</td>\n",
       "      <td>1</td>\n",
       "      <td>1</td>\n",
       "      <td>1</td>\n",
       "      <td>1</td>\n",
       "      <td>0</td>\n",
       "      <td>0</td>\n",
       "      <td>98</td>\n",
       "      <td>178</td>\n",
       "      <td>31</td>\n",
       "      <td>0</td>\n",
       "    </tr>\n",
       "    <tr>\n",
       "      <th>2</th>\n",
       "      <td>3</td>\n",
       "      <td>23</td>\n",
       "      <td>7</td>\n",
       "      <td>4</td>\n",
       "      <td>1</td>\n",
       "      <td>179</td>\n",
       "      <td>51</td>\n",
       "      <td>18</td>\n",
       "      <td>38</td>\n",
       "      <td>239.554</td>\n",
       "      <td>...</td>\n",
       "      <td>0</td>\n",
       "      <td>1</td>\n",
       "      <td>0</td>\n",
       "      <td>1</td>\n",
       "      <td>0</td>\n",
       "      <td>0</td>\n",
       "      <td>89</td>\n",
       "      <td>170</td>\n",
       "      <td>31</td>\n",
       "      <td>2</td>\n",
       "    </tr>\n",
       "    <tr>\n",
       "      <th>3</th>\n",
       "      <td>7</td>\n",
       "      <td>7</td>\n",
       "      <td>7</td>\n",
       "      <td>5</td>\n",
       "      <td>1</td>\n",
       "      <td>279</td>\n",
       "      <td>5</td>\n",
       "      <td>14</td>\n",
       "      <td>39</td>\n",
       "      <td>239.554</td>\n",
       "      <td>...</td>\n",
       "      <td>0</td>\n",
       "      <td>1</td>\n",
       "      <td>2</td>\n",
       "      <td>1</td>\n",
       "      <td>1</td>\n",
       "      <td>0</td>\n",
       "      <td>68</td>\n",
       "      <td>168</td>\n",
       "      <td>24</td>\n",
       "      <td>4</td>\n",
       "    </tr>\n",
       "    <tr>\n",
       "      <th>4</th>\n",
       "      <td>11</td>\n",
       "      <td>23</td>\n",
       "      <td>7</td>\n",
       "      <td>5</td>\n",
       "      <td>1</td>\n",
       "      <td>289</td>\n",
       "      <td>36</td>\n",
       "      <td>13</td>\n",
       "      <td>33</td>\n",
       "      <td>239.554</td>\n",
       "      <td>...</td>\n",
       "      <td>0</td>\n",
       "      <td>1</td>\n",
       "      <td>2</td>\n",
       "      <td>1</td>\n",
       "      <td>0</td>\n",
       "      <td>1</td>\n",
       "      <td>90</td>\n",
       "      <td>172</td>\n",
       "      <td>30</td>\n",
       "      <td>2</td>\n",
       "    </tr>\n",
       "  </tbody>\n",
       "</table>\n",
       "<p>5 rows × 21 columns</p>\n",
       "</div>"
      ],
      "text/plain": [
       "   ID  Reason for absence  Month of absence  Day of the week  Seasons  \\\n",
       "0  11                  26                 7                3        1   \n",
       "1  36                   0                 7                3        1   \n",
       "2   3                  23                 7                4        1   \n",
       "3   7                   7                 7                5        1   \n",
       "4  11                  23                 7                5        1   \n",
       "\n",
       "   Transportation expense  Distance from Residence to Work  Service time  Age  \\\n",
       "0                     289                               36            13   33   \n",
       "1                     118                               13            18   50   \n",
       "2                     179                               51            18   38   \n",
       "3                     279                                5            14   39   \n",
       "4                     289                               36            13   33   \n",
       "\n",
       "   Work load Average/day   ...  Disciplinary failure  Education  Son  \\\n",
       "0                 239.554  ...                     0          1    2   \n",
       "1                 239.554  ...                     1          1    1   \n",
       "2                 239.554  ...                     0          1    0   \n",
       "3                 239.554  ...                     0          1    2   \n",
       "4                 239.554  ...                     0          1    2   \n",
       "\n",
       "   Social drinker  Social smoker  Pet  Weight  Height  Body mass index  \\\n",
       "0               1              0    1      90     172               30   \n",
       "1               1              0    0      98     178               31   \n",
       "2               1              0    0      89     170               31   \n",
       "3               1              1    0      68     168               24   \n",
       "4               1              0    1      90     172               30   \n",
       "\n",
       "   Absenteeism time in hours  \n",
       "0                          4  \n",
       "1                          0  \n",
       "2                          2  \n",
       "3                          4  \n",
       "4                          2  \n",
       "\n",
       "[5 rows x 21 columns]"
      ]
     },
     "execution_count": 3,
     "metadata": {},
     "output_type": "execute_result"
    }
   ],
   "source": [
    "data.head()"
   ]
  },
  {
   "cell_type": "code",
   "execution_count": 4,
   "id": "24bff358",
   "metadata": {},
   "outputs": [],
   "source": [
    "# data2 = pd.read_excel('Absenteeism_at_work_AAA/Absenteeism_at_work.xls')\n",
    "# data2"
   ]
  },
  {
   "cell_type": "code",
   "execution_count": 5,
   "id": "a70d178a",
   "metadata": {},
   "outputs": [
    {
     "name": "stdout",
     "output_type": "stream",
     "text": [
      "Data dimesnion:(740, 21)\n",
      "Column:ID                                  | type: int64   | missing values:  0\n",
      "Column:Reason for absence                  | type: int64   | missing values:  0\n",
      "Column:Month of absence                    | type: int64   | missing values:  0\n",
      "Column:Day of the week                     | type: int64   | missing values:  0\n",
      "Column:Seasons                             | type: int64   | missing values:  0\n",
      "Column:Transportation expense              | type: int64   | missing values:  0\n",
      "Column:Distance from Residence to Work     | type: int64   | missing values:  0\n",
      "Column:Service time                        | type: int64   | missing values:  0\n",
      "Column:Age                                 | type: int64   | missing values:  0\n",
      "Column:Work load Average/day               | type: float64 | missing values:  0\n",
      "Column:Hit target                          | type: int64   | missing values:  0\n",
      "Column:Disciplinary failure                | type: int64   | missing values:  0\n",
      "Column:Education                           | type: int64   | missing values:  0\n",
      "Column:Son                                 | type: int64   | missing values:  0\n",
      "Column:Social drinker                      | type: int64   | missing values:  0\n",
      "Column:Social smoker                       | type: int64   | missing values:  0\n",
      "Column:Pet                                 | type: int64   | missing values:  0\n",
      "Column:Weight                              | type: int64   | missing values:  0\n",
      "Column:Height                              | type: int64   | missing values:  0\n",
      "Column:Body mass index                     | type: int64   | missing values:  0\n",
      "Column:Absenteeism time in hours           | type: int64   | missing values:  0\n"
     ]
    }
   ],
   "source": [
    "\"\"\"\n",
    "print dimensionality of the data, columns, types and missing values\n",
    "\"\"\"\n",
    "\n",
    "print(f\"Data dimesnion:{data.shape}\")\n",
    "for col in data.columns:\n",
    "    print(f\"Column:{col:35} | type: {str(data[col].dtype):7} | missing values:{data[col].isna().sum():3d}\")"
   ]
  },
  {
   "cell_type": "code",
   "execution_count": 6,
   "id": "6b848745",
   "metadata": {},
   "outputs": [
    {
     "data": {
      "text/html": [
       "<div>\n",
       "<style scoped>\n",
       "    .dataframe tbody tr th:only-of-type {\n",
       "        vertical-align: middle;\n",
       "    }\n",
       "\n",
       "    .dataframe tbody tr th {\n",
       "        vertical-align: top;\n",
       "    }\n",
       "\n",
       "    .dataframe thead th {\n",
       "        text-align: right;\n",
       "    }\n",
       "</style>\n",
       "<table border=\"1\" class=\"dataframe\">\n",
       "  <thead>\n",
       "    <tr style=\"text-align: right;\">\n",
       "      <th></th>\n",
       "      <th>count</th>\n",
       "      <th>mean</th>\n",
       "      <th>std</th>\n",
       "      <th>min</th>\n",
       "      <th>25%</th>\n",
       "      <th>50%</th>\n",
       "      <th>75%</th>\n",
       "      <th>max</th>\n",
       "    </tr>\n",
       "  </thead>\n",
       "  <tbody>\n",
       "    <tr>\n",
       "      <th>ID</th>\n",
       "      <td>740.0</td>\n",
       "      <td>18.017568</td>\n",
       "      <td>11.021247</td>\n",
       "      <td>1.000</td>\n",
       "      <td>9.000</td>\n",
       "      <td>18.000</td>\n",
       "      <td>28.000</td>\n",
       "      <td>36.000</td>\n",
       "    </tr>\n",
       "    <tr>\n",
       "      <th>Reason for absence</th>\n",
       "      <td>740.0</td>\n",
       "      <td>19.216216</td>\n",
       "      <td>8.433406</td>\n",
       "      <td>0.000</td>\n",
       "      <td>13.000</td>\n",
       "      <td>23.000</td>\n",
       "      <td>26.000</td>\n",
       "      <td>28.000</td>\n",
       "    </tr>\n",
       "    <tr>\n",
       "      <th>Month of absence</th>\n",
       "      <td>740.0</td>\n",
       "      <td>6.324324</td>\n",
       "      <td>3.436287</td>\n",
       "      <td>0.000</td>\n",
       "      <td>3.000</td>\n",
       "      <td>6.000</td>\n",
       "      <td>9.000</td>\n",
       "      <td>12.000</td>\n",
       "    </tr>\n",
       "    <tr>\n",
       "      <th>Day of the week</th>\n",
       "      <td>740.0</td>\n",
       "      <td>3.914865</td>\n",
       "      <td>1.421675</td>\n",
       "      <td>2.000</td>\n",
       "      <td>3.000</td>\n",
       "      <td>4.000</td>\n",
       "      <td>5.000</td>\n",
       "      <td>6.000</td>\n",
       "    </tr>\n",
       "    <tr>\n",
       "      <th>Seasons</th>\n",
       "      <td>740.0</td>\n",
       "      <td>2.544595</td>\n",
       "      <td>1.111831</td>\n",
       "      <td>1.000</td>\n",
       "      <td>2.000</td>\n",
       "      <td>3.000</td>\n",
       "      <td>4.000</td>\n",
       "      <td>4.000</td>\n",
       "    </tr>\n",
       "    <tr>\n",
       "      <th>Transportation expense</th>\n",
       "      <td>740.0</td>\n",
       "      <td>221.329730</td>\n",
       "      <td>66.952223</td>\n",
       "      <td>118.000</td>\n",
       "      <td>179.000</td>\n",
       "      <td>225.000</td>\n",
       "      <td>260.000</td>\n",
       "      <td>388.000</td>\n",
       "    </tr>\n",
       "    <tr>\n",
       "      <th>Distance from Residence to Work</th>\n",
       "      <td>740.0</td>\n",
       "      <td>29.631081</td>\n",
       "      <td>14.836788</td>\n",
       "      <td>5.000</td>\n",
       "      <td>16.000</td>\n",
       "      <td>26.000</td>\n",
       "      <td>50.000</td>\n",
       "      <td>52.000</td>\n",
       "    </tr>\n",
       "    <tr>\n",
       "      <th>Service time</th>\n",
       "      <td>740.0</td>\n",
       "      <td>12.554054</td>\n",
       "      <td>4.384873</td>\n",
       "      <td>1.000</td>\n",
       "      <td>9.000</td>\n",
       "      <td>13.000</td>\n",
       "      <td>16.000</td>\n",
       "      <td>29.000</td>\n",
       "    </tr>\n",
       "    <tr>\n",
       "      <th>Age</th>\n",
       "      <td>740.0</td>\n",
       "      <td>36.450000</td>\n",
       "      <td>6.478772</td>\n",
       "      <td>27.000</td>\n",
       "      <td>31.000</td>\n",
       "      <td>37.000</td>\n",
       "      <td>40.000</td>\n",
       "      <td>58.000</td>\n",
       "    </tr>\n",
       "    <tr>\n",
       "      <th>Work load Average/day</th>\n",
       "      <td>740.0</td>\n",
       "      <td>271.490235</td>\n",
       "      <td>39.058116</td>\n",
       "      <td>205.917</td>\n",
       "      <td>244.387</td>\n",
       "      <td>264.249</td>\n",
       "      <td>294.217</td>\n",
       "      <td>378.884</td>\n",
       "    </tr>\n",
       "    <tr>\n",
       "      <th>Hit target</th>\n",
       "      <td>740.0</td>\n",
       "      <td>94.587838</td>\n",
       "      <td>3.779313</td>\n",
       "      <td>81.000</td>\n",
       "      <td>93.000</td>\n",
       "      <td>95.000</td>\n",
       "      <td>97.000</td>\n",
       "      <td>100.000</td>\n",
       "    </tr>\n",
       "    <tr>\n",
       "      <th>Disciplinary failure</th>\n",
       "      <td>740.0</td>\n",
       "      <td>0.054054</td>\n",
       "      <td>0.226277</td>\n",
       "      <td>0.000</td>\n",
       "      <td>0.000</td>\n",
       "      <td>0.000</td>\n",
       "      <td>0.000</td>\n",
       "      <td>1.000</td>\n",
       "    </tr>\n",
       "    <tr>\n",
       "      <th>Education</th>\n",
       "      <td>740.0</td>\n",
       "      <td>1.291892</td>\n",
       "      <td>0.673238</td>\n",
       "      <td>1.000</td>\n",
       "      <td>1.000</td>\n",
       "      <td>1.000</td>\n",
       "      <td>1.000</td>\n",
       "      <td>4.000</td>\n",
       "    </tr>\n",
       "    <tr>\n",
       "      <th>Son</th>\n",
       "      <td>740.0</td>\n",
       "      <td>1.018919</td>\n",
       "      <td>1.098489</td>\n",
       "      <td>0.000</td>\n",
       "      <td>0.000</td>\n",
       "      <td>1.000</td>\n",
       "      <td>2.000</td>\n",
       "      <td>4.000</td>\n",
       "    </tr>\n",
       "    <tr>\n",
       "      <th>Social drinker</th>\n",
       "      <td>740.0</td>\n",
       "      <td>0.567568</td>\n",
       "      <td>0.495749</td>\n",
       "      <td>0.000</td>\n",
       "      <td>0.000</td>\n",
       "      <td>1.000</td>\n",
       "      <td>1.000</td>\n",
       "      <td>1.000</td>\n",
       "    </tr>\n",
       "    <tr>\n",
       "      <th>Social smoker</th>\n",
       "      <td>740.0</td>\n",
       "      <td>0.072973</td>\n",
       "      <td>0.260268</td>\n",
       "      <td>0.000</td>\n",
       "      <td>0.000</td>\n",
       "      <td>0.000</td>\n",
       "      <td>0.000</td>\n",
       "      <td>1.000</td>\n",
       "    </tr>\n",
       "    <tr>\n",
       "      <th>Pet</th>\n",
       "      <td>740.0</td>\n",
       "      <td>0.745946</td>\n",
       "      <td>1.318258</td>\n",
       "      <td>0.000</td>\n",
       "      <td>0.000</td>\n",
       "      <td>0.000</td>\n",
       "      <td>1.000</td>\n",
       "      <td>8.000</td>\n",
       "    </tr>\n",
       "    <tr>\n",
       "      <th>Weight</th>\n",
       "      <td>740.0</td>\n",
       "      <td>79.035135</td>\n",
       "      <td>12.883211</td>\n",
       "      <td>56.000</td>\n",
       "      <td>69.000</td>\n",
       "      <td>83.000</td>\n",
       "      <td>89.000</td>\n",
       "      <td>108.000</td>\n",
       "    </tr>\n",
       "    <tr>\n",
       "      <th>Height</th>\n",
       "      <td>740.0</td>\n",
       "      <td>172.114865</td>\n",
       "      <td>6.034995</td>\n",
       "      <td>163.000</td>\n",
       "      <td>169.000</td>\n",
       "      <td>170.000</td>\n",
       "      <td>172.000</td>\n",
       "      <td>196.000</td>\n",
       "    </tr>\n",
       "    <tr>\n",
       "      <th>Body mass index</th>\n",
       "      <td>740.0</td>\n",
       "      <td>26.677027</td>\n",
       "      <td>4.285452</td>\n",
       "      <td>19.000</td>\n",
       "      <td>24.000</td>\n",
       "      <td>25.000</td>\n",
       "      <td>31.000</td>\n",
       "      <td>38.000</td>\n",
       "    </tr>\n",
       "    <tr>\n",
       "      <th>Absenteeism time in hours</th>\n",
       "      <td>740.0</td>\n",
       "      <td>6.924324</td>\n",
       "      <td>13.330998</td>\n",
       "      <td>0.000</td>\n",
       "      <td>2.000</td>\n",
       "      <td>3.000</td>\n",
       "      <td>8.000</td>\n",
       "      <td>120.000</td>\n",
       "    </tr>\n",
       "  </tbody>\n",
       "</table>\n",
       "</div>"
      ],
      "text/plain": [
       "                                 count        mean        std      min  \\\n",
       "ID                               740.0   18.017568  11.021247    1.000   \n",
       "Reason for absence               740.0   19.216216   8.433406    0.000   \n",
       "Month of absence                 740.0    6.324324   3.436287    0.000   \n",
       "Day of the week                  740.0    3.914865   1.421675    2.000   \n",
       "Seasons                          740.0    2.544595   1.111831    1.000   \n",
       "Transportation expense           740.0  221.329730  66.952223  118.000   \n",
       "Distance from Residence to Work  740.0   29.631081  14.836788    5.000   \n",
       "Service time                     740.0   12.554054   4.384873    1.000   \n",
       "Age                              740.0   36.450000   6.478772   27.000   \n",
       "Work load Average/day            740.0  271.490235  39.058116  205.917   \n",
       "Hit target                       740.0   94.587838   3.779313   81.000   \n",
       "Disciplinary failure             740.0    0.054054   0.226277    0.000   \n",
       "Education                        740.0    1.291892   0.673238    1.000   \n",
       "Son                              740.0    1.018919   1.098489    0.000   \n",
       "Social drinker                   740.0    0.567568   0.495749    0.000   \n",
       "Social smoker                    740.0    0.072973   0.260268    0.000   \n",
       "Pet                              740.0    0.745946   1.318258    0.000   \n",
       "Weight                           740.0   79.035135  12.883211   56.000   \n",
       "Height                           740.0  172.114865   6.034995  163.000   \n",
       "Body mass index                  740.0   26.677027   4.285452   19.000   \n",
       "Absenteeism time in hours        740.0    6.924324  13.330998    0.000   \n",
       "\n",
       "                                     25%      50%      75%      max  \n",
       "ID                                 9.000   18.000   28.000   36.000  \n",
       "Reason for absence                13.000   23.000   26.000   28.000  \n",
       "Month of absence                   3.000    6.000    9.000   12.000  \n",
       "Day of the week                    3.000    4.000    5.000    6.000  \n",
       "Seasons                            2.000    3.000    4.000    4.000  \n",
       "Transportation expense           179.000  225.000  260.000  388.000  \n",
       "Distance from Residence to Work   16.000   26.000   50.000   52.000  \n",
       "Service time                       9.000   13.000   16.000   29.000  \n",
       "Age                               31.000   37.000   40.000   58.000  \n",
       "Work load Average/day            244.387  264.249  294.217  378.884  \n",
       "Hit target                        93.000   95.000   97.000  100.000  \n",
       "Disciplinary failure               0.000    0.000    0.000    1.000  \n",
       "Education                          1.000    1.000    1.000    4.000  \n",
       "Son                                0.000    1.000    2.000    4.000  \n",
       "Social drinker                     0.000    1.000    1.000    1.000  \n",
       "Social smoker                      0.000    0.000    0.000    1.000  \n",
       "Pet                                0.000    0.000    1.000    8.000  \n",
       "Weight                            69.000   83.000   89.000  108.000  \n",
       "Height                           169.000  170.000  172.000  196.000  \n",
       "Body mass index                   24.000   25.000   31.000   38.000  \n",
       "Absenteeism time in hours          2.000    3.000    8.000  120.000  "
      ]
     },
     "execution_count": 6,
     "metadata": {},
     "output_type": "execute_result"
    }
   ],
   "source": [
    "data.describe().T"
   ]
  },
  {
   "cell_type": "markdown",
   "id": "83fd3347",
   "metadata": {},
   "source": [
    "some of the columns, such as Month of absence, Day of the week, Seasons, Education, Disciplinary failure, Social drinker, and Social smoker, are encoding categorical values.\n",
    "\n",
    "We will perform the transformation by defining a Python dict object containing the mapping and then applying the apply() function to each feature, which applies the provided function to each of the values in the column"
   ]
  },
  {
   "cell_type": "code",
   "execution_count": 7,
   "id": "d99ecc95",
   "metadata": {},
   "outputs": [],
   "source": [
    "# define encoding dictionaries\n",
    "month_encoding = {1: \"January\", 2: \"February\", 3: \"March\", 4: \"April\", \n",
    "    5: \"May\", 6: \"June\", 7: \"July\", 8: \"August\", \n",
    "    9: \"September\", 10: \"October\", 11: \"November\", 12: \"December\", 0: \"Unknown\"}\n",
    "dow_encoding = {2: \"Monday\", 3: \"Tuesday\", 4: \"Wednesday\", 5: \"Thursday\", 6: \"Friday\"}\n",
    "season_encoding = {1: \"Spring\", 2: \"Summer\", 3: \"Fall\", 4: \"Winter\"}\n",
    "education_encoding = {1: \"high_school\", 2: \"graduate\", 3: \"postgraduate\", 4: \"master_phd\"}\n",
    "yes_no_encoding = {0: \"No\", 1: \"Yes\"}\n"
   ]
  },
  {
   "cell_type": "code",
   "execution_count": 8,
   "id": "0609b445",
   "metadata": {},
   "outputs": [],
   "source": [
    "# backtransform numerical variables to categorical\n",
    "preprocessed_data = data.copy()\n",
    "preprocessed_data[\"Month of absence\"] = preprocessed_data[\"Month of absence\"]\\\n",
    "    .apply(lambda x: month_encoding[x]) \n",
    "preprocessed_data[\"Day of the week\"] = preprocessed_data[\"Day of the week\"]\\\n",
    "    .apply(lambda x: dow_encoding[x]) \n",
    "preprocessed_data[\"Seasons\"] = preprocessed_data[\"Seasons\"]\\\n",
    "    .apply(lambda x: season_encoding[x]) \n",
    "preprocessed_data[\"Education\"] = preprocessed_data[\"Education\"]\\\n",
    "    .apply(lambda x: education_encoding[x]) \n",
    "preprocessed_data[\"Disciplinary failure\"] = preprocessed_data[\"Disciplinary failure\"]\\\n",
    "    .apply(lambda x: yes_no_encoding[x]) \n",
    "preprocessed_data[\"Social drinker\"] = preprocessed_data[\"Social drinker\"]\\\n",
    "    .apply(lambda x: yes_no_encoding[x]) \n",
    "preprocessed_data[\"Social smoker\"] = preprocessed_data[\"Social smoker\"]\\\n",
    "    .apply(lambda x: yes_no_encoding[x]) "
   ]
  },
  {
   "cell_type": "code",
   "execution_count": 9,
   "id": "823243b2",
   "metadata": {},
   "outputs": [
    {
     "data": {
      "text/html": [
       "<div>\n",
       "<style scoped>\n",
       "    .dataframe tbody tr th:only-of-type {\n",
       "        vertical-align: middle;\n",
       "    }\n",
       "\n",
       "    .dataframe tbody tr th {\n",
       "        vertical-align: top;\n",
       "    }\n",
       "\n",
       "    .dataframe thead th {\n",
       "        text-align: right;\n",
       "    }\n",
       "</style>\n",
       "<table border=\"1\" class=\"dataframe\">\n",
       "  <thead>\n",
       "    <tr style=\"text-align: right;\">\n",
       "      <th></th>\n",
       "      <th>ID</th>\n",
       "      <th>Reason for absence</th>\n",
       "      <th>Month of absence</th>\n",
       "      <th>Day of the week</th>\n",
       "      <th>Seasons</th>\n",
       "      <th>Transportation expense</th>\n",
       "      <th>Distance from Residence to Work</th>\n",
       "      <th>Service time</th>\n",
       "      <th>Age</th>\n",
       "      <th>Work load Average/day</th>\n",
       "      <th>...</th>\n",
       "      <th>Disciplinary failure</th>\n",
       "      <th>Education</th>\n",
       "      <th>Son</th>\n",
       "      <th>Social drinker</th>\n",
       "      <th>Social smoker</th>\n",
       "      <th>Pet</th>\n",
       "      <th>Weight</th>\n",
       "      <th>Height</th>\n",
       "      <th>Body mass index</th>\n",
       "      <th>Absenteeism time in hours</th>\n",
       "    </tr>\n",
       "  </thead>\n",
       "  <tbody>\n",
       "    <tr>\n",
       "      <th>0</th>\n",
       "      <td>11</td>\n",
       "      <td>26</td>\n",
       "      <td>July</td>\n",
       "      <td>Tuesday</td>\n",
       "      <td>Spring</td>\n",
       "      <td>289</td>\n",
       "      <td>36</td>\n",
       "      <td>13</td>\n",
       "      <td>33</td>\n",
       "      <td>239.554</td>\n",
       "      <td>...</td>\n",
       "      <td>No</td>\n",
       "      <td>high_school</td>\n",
       "      <td>2</td>\n",
       "      <td>Yes</td>\n",
       "      <td>No</td>\n",
       "      <td>1</td>\n",
       "      <td>90</td>\n",
       "      <td>172</td>\n",
       "      <td>30</td>\n",
       "      <td>4</td>\n",
       "    </tr>\n",
       "    <tr>\n",
       "      <th>1</th>\n",
       "      <td>36</td>\n",
       "      <td>0</td>\n",
       "      <td>July</td>\n",
       "      <td>Tuesday</td>\n",
       "      <td>Spring</td>\n",
       "      <td>118</td>\n",
       "      <td>13</td>\n",
       "      <td>18</td>\n",
       "      <td>50</td>\n",
       "      <td>239.554</td>\n",
       "      <td>...</td>\n",
       "      <td>Yes</td>\n",
       "      <td>high_school</td>\n",
       "      <td>1</td>\n",
       "      <td>Yes</td>\n",
       "      <td>No</td>\n",
       "      <td>0</td>\n",
       "      <td>98</td>\n",
       "      <td>178</td>\n",
       "      <td>31</td>\n",
       "      <td>0</td>\n",
       "    </tr>\n",
       "    <tr>\n",
       "      <th>2</th>\n",
       "      <td>3</td>\n",
       "      <td>23</td>\n",
       "      <td>July</td>\n",
       "      <td>Wednesday</td>\n",
       "      <td>Spring</td>\n",
       "      <td>179</td>\n",
       "      <td>51</td>\n",
       "      <td>18</td>\n",
       "      <td>38</td>\n",
       "      <td>239.554</td>\n",
       "      <td>...</td>\n",
       "      <td>No</td>\n",
       "      <td>high_school</td>\n",
       "      <td>0</td>\n",
       "      <td>Yes</td>\n",
       "      <td>No</td>\n",
       "      <td>0</td>\n",
       "      <td>89</td>\n",
       "      <td>170</td>\n",
       "      <td>31</td>\n",
       "      <td>2</td>\n",
       "    </tr>\n",
       "    <tr>\n",
       "      <th>3</th>\n",
       "      <td>7</td>\n",
       "      <td>7</td>\n",
       "      <td>July</td>\n",
       "      <td>Thursday</td>\n",
       "      <td>Spring</td>\n",
       "      <td>279</td>\n",
       "      <td>5</td>\n",
       "      <td>14</td>\n",
       "      <td>39</td>\n",
       "      <td>239.554</td>\n",
       "      <td>...</td>\n",
       "      <td>No</td>\n",
       "      <td>high_school</td>\n",
       "      <td>2</td>\n",
       "      <td>Yes</td>\n",
       "      <td>Yes</td>\n",
       "      <td>0</td>\n",
       "      <td>68</td>\n",
       "      <td>168</td>\n",
       "      <td>24</td>\n",
       "      <td>4</td>\n",
       "    </tr>\n",
       "    <tr>\n",
       "      <th>4</th>\n",
       "      <td>11</td>\n",
       "      <td>23</td>\n",
       "      <td>July</td>\n",
       "      <td>Thursday</td>\n",
       "      <td>Spring</td>\n",
       "      <td>289</td>\n",
       "      <td>36</td>\n",
       "      <td>13</td>\n",
       "      <td>33</td>\n",
       "      <td>239.554</td>\n",
       "      <td>...</td>\n",
       "      <td>No</td>\n",
       "      <td>high_school</td>\n",
       "      <td>2</td>\n",
       "      <td>Yes</td>\n",
       "      <td>No</td>\n",
       "      <td>1</td>\n",
       "      <td>90</td>\n",
       "      <td>172</td>\n",
       "      <td>30</td>\n",
       "      <td>2</td>\n",
       "    </tr>\n",
       "  </tbody>\n",
       "</table>\n",
       "<p>5 rows × 21 columns</p>\n",
       "</div>"
      ],
      "text/plain": [
       "   ID  Reason for absence Month of absence Day of the week Seasons  \\\n",
       "0  11                  26             July         Tuesday  Spring   \n",
       "1  36                   0             July         Tuesday  Spring   \n",
       "2   3                  23             July       Wednesday  Spring   \n",
       "3   7                   7             July        Thursday  Spring   \n",
       "4  11                  23             July        Thursday  Spring   \n",
       "\n",
       "   Transportation expense  Distance from Residence to Work  Service time  Age  \\\n",
       "0                     289                               36            13   33   \n",
       "1                     118                               13            18   50   \n",
       "2                     179                               51            18   38   \n",
       "3                     279                                5            14   39   \n",
       "4                     289                               36            13   33   \n",
       "\n",
       "   Work load Average/day   ...  Disciplinary failure    Education Son  \\\n",
       "0                 239.554  ...                    No  high_school   2   \n",
       "1                 239.554  ...                   Yes  high_school   1   \n",
       "2                 239.554  ...                    No  high_school   0   \n",
       "3                 239.554  ...                    No  high_school   2   \n",
       "4                 239.554  ...                    No  high_school   2   \n",
       "\n",
       "   Social drinker Social smoker Pet  Weight  Height  Body mass index  \\\n",
       "0             Yes            No   1      90     172               30   \n",
       "1             Yes            No   0      98     178               31   \n",
       "2             Yes            No   0      89     170               31   \n",
       "3             Yes           Yes   0      68     168               24   \n",
       "4             Yes            No   1      90     172               30   \n",
       "\n",
       "   Absenteeism time in hours  \n",
       "0                          4  \n",
       "1                          0  \n",
       "2                          2  \n",
       "3                          4  \n",
       "4                          2  \n",
       "\n",
       "[5 rows x 21 columns]"
      ]
     },
     "execution_count": 9,
     "metadata": {},
     "output_type": "execute_result"
    }
   ],
   "source": [
    "preprocessed_data.head()"
   ]
  },
  {
   "cell_type": "code",
   "execution_count": 10,
   "id": "2c3bde8b",
   "metadata": {},
   "outputs": [
    {
     "data": {
      "text/html": [
       "<div>\n",
       "<style scoped>\n",
       "    .dataframe tbody tr th:only-of-type {\n",
       "        vertical-align: middle;\n",
       "    }\n",
       "\n",
       "    .dataframe tbody tr th {\n",
       "        vertical-align: top;\n",
       "    }\n",
       "\n",
       "    .dataframe thead th {\n",
       "        text-align: right;\n",
       "    }\n",
       "</style>\n",
       "<table border=\"1\" class=\"dataframe\">\n",
       "  <thead>\n",
       "    <tr style=\"text-align: right;\">\n",
       "      <th></th>\n",
       "      <th>0</th>\n",
       "      <th>1</th>\n",
       "      <th>2</th>\n",
       "      <th>3</th>\n",
       "      <th>4</th>\n",
       "    </tr>\n",
       "  </thead>\n",
       "  <tbody>\n",
       "    <tr>\n",
       "      <th>ID</th>\n",
       "      <td>11</td>\n",
       "      <td>36</td>\n",
       "      <td>3</td>\n",
       "      <td>7</td>\n",
       "      <td>11</td>\n",
       "    </tr>\n",
       "    <tr>\n",
       "      <th>Reason for absence</th>\n",
       "      <td>26</td>\n",
       "      <td>0</td>\n",
       "      <td>23</td>\n",
       "      <td>7</td>\n",
       "      <td>23</td>\n",
       "    </tr>\n",
       "    <tr>\n",
       "      <th>Month of absence</th>\n",
       "      <td>July</td>\n",
       "      <td>July</td>\n",
       "      <td>July</td>\n",
       "      <td>July</td>\n",
       "      <td>July</td>\n",
       "    </tr>\n",
       "    <tr>\n",
       "      <th>Day of the week</th>\n",
       "      <td>Tuesday</td>\n",
       "      <td>Tuesday</td>\n",
       "      <td>Wednesday</td>\n",
       "      <td>Thursday</td>\n",
       "      <td>Thursday</td>\n",
       "    </tr>\n",
       "    <tr>\n",
       "      <th>Seasons</th>\n",
       "      <td>Spring</td>\n",
       "      <td>Spring</td>\n",
       "      <td>Spring</td>\n",
       "      <td>Spring</td>\n",
       "      <td>Spring</td>\n",
       "    </tr>\n",
       "    <tr>\n",
       "      <th>Transportation expense</th>\n",
       "      <td>289</td>\n",
       "      <td>118</td>\n",
       "      <td>179</td>\n",
       "      <td>279</td>\n",
       "      <td>289</td>\n",
       "    </tr>\n",
       "    <tr>\n",
       "      <th>Distance from Residence to Work</th>\n",
       "      <td>36</td>\n",
       "      <td>13</td>\n",
       "      <td>51</td>\n",
       "      <td>5</td>\n",
       "      <td>36</td>\n",
       "    </tr>\n",
       "    <tr>\n",
       "      <th>Service time</th>\n",
       "      <td>13</td>\n",
       "      <td>18</td>\n",
       "      <td>18</td>\n",
       "      <td>14</td>\n",
       "      <td>13</td>\n",
       "    </tr>\n",
       "    <tr>\n",
       "      <th>Age</th>\n",
       "      <td>33</td>\n",
       "      <td>50</td>\n",
       "      <td>38</td>\n",
       "      <td>39</td>\n",
       "      <td>33</td>\n",
       "    </tr>\n",
       "    <tr>\n",
       "      <th>Work load Average/day</th>\n",
       "      <td>239.554</td>\n",
       "      <td>239.554</td>\n",
       "      <td>239.554</td>\n",
       "      <td>239.554</td>\n",
       "      <td>239.554</td>\n",
       "    </tr>\n",
       "    <tr>\n",
       "      <th>Hit target</th>\n",
       "      <td>97</td>\n",
       "      <td>97</td>\n",
       "      <td>97</td>\n",
       "      <td>97</td>\n",
       "      <td>97</td>\n",
       "    </tr>\n",
       "    <tr>\n",
       "      <th>Disciplinary failure</th>\n",
       "      <td>No</td>\n",
       "      <td>Yes</td>\n",
       "      <td>No</td>\n",
       "      <td>No</td>\n",
       "      <td>No</td>\n",
       "    </tr>\n",
       "    <tr>\n",
       "      <th>Education</th>\n",
       "      <td>high_school</td>\n",
       "      <td>high_school</td>\n",
       "      <td>high_school</td>\n",
       "      <td>high_school</td>\n",
       "      <td>high_school</td>\n",
       "    </tr>\n",
       "    <tr>\n",
       "      <th>Son</th>\n",
       "      <td>2</td>\n",
       "      <td>1</td>\n",
       "      <td>0</td>\n",
       "      <td>2</td>\n",
       "      <td>2</td>\n",
       "    </tr>\n",
       "    <tr>\n",
       "      <th>Social drinker</th>\n",
       "      <td>Yes</td>\n",
       "      <td>Yes</td>\n",
       "      <td>Yes</td>\n",
       "      <td>Yes</td>\n",
       "      <td>Yes</td>\n",
       "    </tr>\n",
       "    <tr>\n",
       "      <th>Social smoker</th>\n",
       "      <td>No</td>\n",
       "      <td>No</td>\n",
       "      <td>No</td>\n",
       "      <td>Yes</td>\n",
       "      <td>No</td>\n",
       "    </tr>\n",
       "    <tr>\n",
       "      <th>Pet</th>\n",
       "      <td>1</td>\n",
       "      <td>0</td>\n",
       "      <td>0</td>\n",
       "      <td>0</td>\n",
       "      <td>1</td>\n",
       "    </tr>\n",
       "    <tr>\n",
       "      <th>Weight</th>\n",
       "      <td>90</td>\n",
       "      <td>98</td>\n",
       "      <td>89</td>\n",
       "      <td>68</td>\n",
       "      <td>90</td>\n",
       "    </tr>\n",
       "    <tr>\n",
       "      <th>Height</th>\n",
       "      <td>172</td>\n",
       "      <td>178</td>\n",
       "      <td>170</td>\n",
       "      <td>168</td>\n",
       "      <td>172</td>\n",
       "    </tr>\n",
       "    <tr>\n",
       "      <th>Body mass index</th>\n",
       "      <td>30</td>\n",
       "      <td>31</td>\n",
       "      <td>31</td>\n",
       "      <td>24</td>\n",
       "      <td>30</td>\n",
       "    </tr>\n",
       "    <tr>\n",
       "      <th>Absenteeism time in hours</th>\n",
       "      <td>4</td>\n",
       "      <td>0</td>\n",
       "      <td>2</td>\n",
       "      <td>4</td>\n",
       "      <td>2</td>\n",
       "    </tr>\n",
       "  </tbody>\n",
       "</table>\n",
       "</div>"
      ],
      "text/plain": [
       "                                           0            1            2  \\\n",
       "ID                                        11           36            3   \n",
       "Reason for absence                        26            0           23   \n",
       "Month of absence                        July         July         July   \n",
       "Day of the week                      Tuesday      Tuesday    Wednesday   \n",
       "Seasons                               Spring       Spring       Spring   \n",
       "Transportation expense                   289          118          179   \n",
       "Distance from Residence to Work           36           13           51   \n",
       "Service time                              13           18           18   \n",
       "Age                                       33           50           38   \n",
       "Work load Average/day                239.554      239.554      239.554   \n",
       "Hit target                                97           97           97   \n",
       "Disciplinary failure                      No          Yes           No   \n",
       "Education                        high_school  high_school  high_school   \n",
       "Son                                        2            1            0   \n",
       "Social drinker                           Yes          Yes          Yes   \n",
       "Social smoker                             No           No           No   \n",
       "Pet                                        1            0            0   \n",
       "Weight                                    90           98           89   \n",
       "Height                                   172          178          170   \n",
       "Body mass index                           30           31           31   \n",
       "Absenteeism time in hours                  4            0            2   \n",
       "\n",
       "                                           3            4  \n",
       "ID                                         7           11  \n",
       "Reason for absence                         7           23  \n",
       "Month of absence                        July         July  \n",
       "Day of the week                     Thursday     Thursday  \n",
       "Seasons                               Spring       Spring  \n",
       "Transportation expense                   279          289  \n",
       "Distance from Residence to Work            5           36  \n",
       "Service time                              14           13  \n",
       "Age                                       39           33  \n",
       "Work load Average/day                239.554      239.554  \n",
       "Hit target                                97           97  \n",
       "Disciplinary failure                      No           No  \n",
       "Education                        high_school  high_school  \n",
       "Son                                        2            2  \n",
       "Social drinker                           Yes          Yes  \n",
       "Social smoker                            Yes           No  \n",
       "Pet                                        0            1  \n",
       "Weight                                    68           90  \n",
       "Height                                   168          172  \n",
       "Body mass index                           24           30  \n",
       "Absenteeism time in hours                  4            2  "
      ]
     },
     "execution_count": 10,
     "metadata": {},
     "output_type": "execute_result"
    }
   ],
   "source": [
    "preprocessed_data.head().T"
   ]
  },
  {
   "cell_type": "markdown",
   "id": "accfd8e8",
   "metadata": {},
   "source": [
    "### Identifying Reasons for Absence"
   ]
  },
  {
   "cell_type": "code",
   "execution_count": 11,
   "id": "717b36b6",
   "metadata": {},
   "outputs": [],
   "source": [
    "\"\"\"\n",
    "create a new variable, called Disease, which indicates whether a specific reason for absence is present in the ICD table or not\n",
    "\n",
    "\"\"\"\n",
    "\n",
    "# define a function that returns Yes if a provided encoded value is contained in the ICD (values 1 to 21); otherwise, No:\n",
    "\n",
    "def in_icd(val):\n",
    "\n",
    "    return \"Yes\" if val >= 1 and val <= 21 else \"No\""
   ]
  },
  {
   "cell_type": "code",
   "execution_count": 12,
   "id": "7e35faa1",
   "metadata": {},
   "outputs": [],
   "source": [
    "# Combine the .apply() method with the previously defined in_icd() function in order to create the new Disease column in the preprocessed dataset\n",
    "\n",
    "preprocessed_data[\"Disease\"] = preprocessed_data[\"Reason for absence\"].apply(in_icd)"
   ]
  },
  {
   "cell_type": "code",
   "execution_count": 13,
   "id": "60cbcd14",
   "metadata": {},
   "outputs": [
    {
     "data": {
      "image/png": "[encoded data removed]",
      "text/plain": [
       "<Figure size 720x576 with 1 Axes>"
      ]
     },
     "metadata": {
      "needs_background": "light"
     },
     "output_type": "display_data"
    }
   ],
   "source": [
    "# applying bar plots to compare absences due to reasons present in icd\n",
    "\n",
    "plt.figure(figsize=(10, 8))\n",
    "\n",
    "sns.countplot(data=preprocessed_data, x='Disease')\n",
    "\n",
    "plt.savefig('figs/disease_plot.png', format='png', dpi=300)"
   ]
  },
  {
   "cell_type": "markdown",
   "id": "f37aa0fb",
   "metadata": {},
   "source": [
    "### Initial Analysis of the Reason for Absence"
   ]
  },
  {
   "cell_type": "markdown",
   "id": "753f2d0f",
   "metadata": {},
   "source": [
    "simple analysis of the Reason for absence column. We will try to address questions such as, what is the most common reason for absence? Does being a drinker or smoker have some effect on the causes? Does the distance to work have some effect on the reasons?"
   ]
  },
  {
   "cell_type": "markdown",
   "id": "0e0848e4",
   "metadata": {},
   "source": [
    "*overall distribution of the absence reasons in the data—that is, how many entries we have for a specific reason for absence in our dataset.*"
   ]
  },
  {
   "cell_type": "code",
   "execution_count": 14,
   "id": "b0637672",
   "metadata": {},
   "outputs": [
    {
     "data": {
      "image/png": "[encoded data removed]",
      "text/plain": [
       "<Figure size 864x432 with 1 Axes>"
      ]
     },
     "metadata": {
      "needs_background": "light"
     },
     "output_type": "display_data"
    }
   ],
   "source": [
    "plt.figure(figsize=(12,6))\n",
    "ax = sns.countplot(data=preprocessed_data, x = \"Reason for absence\")\n",
    "ax.set_ylabel = (\"number of entries for each category of absence\")\n",
    "plt.savefig('figs/number_of_absence_for_each_reason.png', format='png' , dpi=300)"
   ]
  },
  {
   "cell_type": "markdown",
   "id": "027bcf25",
   "metadata": {},
   "source": [
    "to perform a more accurate and in-depth analysis of the data, we will investigate the impact of the various features on the Reason for absence and Absenteeism in hours columns in the following sections. "
   ]
  },
  {
   "cell_type": "markdown",
   "id": "ca5b5cc8",
   "metadata": {},
   "source": [
    "#### Analysis of Social Drinkers and Smokers"
   ]
  },
  {
   "cell_type": "markdown",
   "id": "582dbf2a",
   "metadata": {},
   "source": [
    "impact of being a drinker or smoker on employee absenteeism"
   ]
  },
  {
   "cell_type": "code",
   "execution_count": 15,
   "id": "2d1f2f27",
   "metadata": {},
   "outputs": [
    {
     "data": {
      "image/png": "[encoded data removed]",
      "text/plain": [
       "<Figure size 864x432 with 1 Axes>"
      ]
     },
     "metadata": {
      "needs_background": "light"
     },
     "output_type": "display_data"
    }
   ],
   "source": [
    "# plot for drinkers vs absence\n",
    "\n",
    "plt.figure(figsize=(12,6))\n",
    "ax = sns.countplot(data=preprocessed_data, x=\"Reason for absence\", hue=\"Social drinker\", hue_order=[\"Yes\",\"No\"])\n",
    "plt.savefig('figs/Drinkers.png', format='png', dpi=300)\n",
    "\n"
   ]
  },
  {
   "cell_type": "code",
   "execution_count": 16,
   "id": "21e53162",
   "metadata": {},
   "outputs": [
    {
     "data": {
      "image/png": "[encoded data removed]",
      "text/plain": [
       "<Figure size 864x432 with 1 Axes>"
      ]
     },
     "metadata": {
      "needs_background": "light"
     },
     "output_type": "display_data"
    }
   ],
   "source": [
    "# plot for smokers vs absence\n",
    "\n",
    "plt.figure(figsize=(12,6))\n",
    "ax = sns.countplot(data=preprocessed_data, x=\"Reason for absence\", hue=\"Social smoker\", hue_order=[\"Yes\",\"No\"])\n",
    "plt.savefig('figs/smokers.png', format='png', dpi=300)"
   ]
  },
  {
   "cell_type": "code",
   "execution_count": 17,
   "id": "b0dd5838",
   "metadata": {},
   "outputs": [
    {
     "name": "stdout",
     "output_type": "stream",
     "text": [
      "Yes    0.567568\n",
      "No     0.432432\n",
      "Name: Social drinker, dtype: float64\n",
      "No     0.927027\n",
      "Yes    0.072973\n",
      "Name: Social smoker, dtype: float64\n"
     ]
    }
   ],
   "source": [
    "#calculate the actual count for social drinkers and smokers from the preprocessed data\n",
    "\n",
    "# use value_counts\n",
    "\n",
    "print(preprocessed_data[\"Social drinker\"].value_counts(normalize=True))\n",
    "print(preprocessed_data[\"Social smoker\"].value_counts(normalize=True))"
   ]
  },
  {
   "cell_type": "markdown",
   "id": "33edcd71",
   "metadata": {},
   "source": [
    "**A more rigorous approach in this direction would be to analyze the conditional probabilities of the different absence reasons, which are based on being a social drinker or smoker.**"
   ]
  },
  {
   "cell_type": "markdown",
   "id": "b979e98f",
   "metadata": {},
   "source": [
    "**Conditional probability:** the probability of A given B, is equal to the probability of A and B both happening, divided by the probability of B happening"
   ]
  },
  {
   "cell_type": "markdown",
   "id": "1a0a30ea",
   "metadata": {},
   "source": [
    "Check if : reasons for absence with higher probability among smokers and drinkers."
   ]
  },
  {
   "cell_type": "code",
   "execution_count": 18,
   "id": "7a06f9d7",
   "metadata": {},
   "outputs": [
    {
     "name": "stdout",
     "output_type": "stream",
     "text": [
      "Probability(social drinker)=0.568 | Probability(social smoker)=0.073\n"
     ]
    }
   ],
   "source": [
    "\"\"\"\n",
    "first compute the unconditional probabilities of being a social drinker or smoker. \n",
    "Verify that both the probabilities are greater than zero, as they appear in the denominator of the conditional probabilities.\n",
    "Do this by counting the number of social drinkers and smokers and dividing these values by the total number of entries.\n",
    "\"\"\"\n",
    "\n",
    "drinker_prob = preprocessed_data[\"Social drinker\"].value_counts(normalize=True)[\"Yes\"]\n",
    "smoker_prob = preprocessed_data[\"Social smoker\"].value_counts(normalize=True)[\"Yes\"]\n",
    "\n",
    "print(f\"Probability(social drinker)={drinker_prob:.3f} | Probability(social smoker)={smoker_prob:.3f}\")\n",
    "\n"
   ]
  },
  {
   "cell_type": "markdown",
   "id": "33b4da2d",
   "metadata": {},
   "source": [
    "**the probability of being a drinker is almost 57%, while the probability of being a smoker is quite low (only 7.3%).**"
   ]
  },
  {
   "cell_type": "code",
   "execution_count": 19,
   "id": "169fefdd",
   "metadata": {},
   "outputs": [],
   "source": [
    "\"\"\"\n",
    "compute the probabilities of being a social drinker/smoker and being absent for each reason of absence.\n",
    "\"\"\"\n",
    "\n",
    "# define masks in the data, which only account for entries where employees are drinkers or smokers:\n",
    "\n",
    "drinker_mask = preprocessed_data[\"Social drinker\"] == \"Yes\"\n",
    "smoker_mask = preprocessed_data[\"Social smoker\"] == \"Yes\"\n",
    "\n",
    "# Compute the total number of entries and the number of absence reasons, masked by drinkers/smokers:\n",
    "\n",
    "total_entries = preprocessed_data.shape[0]\n",
    "\n",
    "absence_drinker_prob = preprocessed_data[\"Reason for absence\"][drinker_mask].value_counts()/total_entries\n",
    "absence_smoker_prob = preprocessed_data[\"Reason for absence\"][smoker_mask].value_counts()/total_entries\n",
    "\n",
    "\n",
    "# # compute conditional probabilities\n",
    "\n",
    "cond_prob = pd.DataFrame(index=range(0,29)) # bco there are 29 diseases in icd table\n",
    "cond_prob[\"P(Absence | social drinker)\"] = absence_drinker_prob/drinker_prob\n",
    "cond_prob[\"P(Absence | social smoker)\"] = absence_smoker_prob/smoker_prob"
   ]
  },
  {
   "cell_type": "code",
   "execution_count": 20,
   "id": "8541c519",
   "metadata": {},
   "outputs": [
    {
     "data": {
      "text/plain": [
       "<Figure size 432x288 with 0 Axes>"
      ]
     },
     "metadata": {},
     "output_type": "display_data"
    },
    {
     "data": {
      "image/png": "[encoded data removed]",
      "text/plain": [
       "<Figure size 720x432 with 1 Axes>"
      ]
     },
     "metadata": {
      "needs_background": "light"
     },
     "output_type": "display_data"
    }
   ],
   "source": [
    "# plot probabilities\n",
    "\n",
    "plt.figure()\n",
    "\n",
    "ax = cond_prob.plot.bar(figsize=(10,6))\n",
    "\n",
    "ax.set_ylabel(\"Conditional probability\")\n",
    "\n",
    "plt.savefig('figs/conditional_probabilities.png',format='png', dpi=300)"
   ]
  },
  {
   "cell_type": "markdown",
   "id": "c99cb51b",
   "metadata": {},
   "source": [
    "the highest reason for absence for drinkers is dental consultations (28), followed by medical consultations (23). Smokers' absences, however, are mostly due to unknown reasons (0) and laboratory examinations (25)."
   ]
  },
  {
   "cell_type": "markdown",
   "id": "f6d2f581",
   "metadata": {},
   "source": [
    "compute the probability of being absent and being a social smoker/drinker."
   ]
  },
  {
   "cell_type": "markdown",
   "id": "f0e02d7a",
   "metadata": {},
   "source": [
    "**The Kolmogorov-Smirnov test is used to determine whether two samples are statistically different from each other, i.e. whether or not they follow the same distribution.**"
   ]
  },
  {
   "cell_type": "code",
   "execution_count": 21,
   "id": "6e361213",
   "metadata": {},
   "outputs": [],
   "source": [
    "# Identifying the Probability of Being a Drinker/Smoker, Conditioned to Absence Reason"
   ]
  },
  {
   "cell_type": "markdown",
   "id": "e3a1d4cf",
   "metadata": {},
   "source": [
    "Ri is the reason for which an employee is absent\n",
    "compute the probabilities of an employee being a social drinker P(social drinker |Ri), or smoker P(social smoker |Ri)"
   ]
  },
  {
   "cell_type": "code",
   "execution_count": 22,
   "id": "1dfd431b",
   "metadata": {},
   "outputs": [
    {
     "data": {
      "text/plain": [
       "<Figure size 432x288 with 0 Axes>"
      ]
     },
     "metadata": {},
     "output_type": "display_data"
    },
    {
     "data": {
      "image/png": "[encoded data removed]",
      "text/plain": [
       "<Figure size 720x432 with 1 Axes>"
      ]
     },
     "metadata": {
      "needs_background": "light"
     },
     "output_type": "display_data"
    }
   ],
   "source": [
    "absence_prob = preprocessed_data[\"Reason for absence\"].value_counts(normalize=True)\n",
    "\n",
    "# computing the conditional probabilities for drinker and smoker\n",
    "\n",
    "cond_prob_drinker_smoker = pd.DataFrame(index=range(0,29))\n",
    "cond_prob_drinker_smoker[\"P(social drinker | Absence)\"] = cond_prob[\"P(Absence | social drinker)\"]*drinker_prob/absence_prob\n",
    "cond_prob_drinker_smoker[\"P(social smoker | Absence)\"] = cond_prob[\"P(Absence | social smoker)\"]*smoker_prob/absence_prob\n",
    "\n",
    "plt.figure()\n",
    "ax = cond_prob_drinker_smoker.plot.bar(figsize=(10,6))\n",
    "ax.set_ylabel(\"Conditional probability\")\n",
    "plt.savefig('figs/conditional_probability_between_smoker&drinker.png', format='png', dpi=300)\n"
   ]
  },
  {
   "cell_type": "markdown",
   "id": "f2c4c046",
   "metadata": {},
   "source": [
    "analyze the distribution of the hours of absenteeism based on the two classes (being a social drinker/smoker versus not being)."
   ]
  },
  {
   "cell_type": "code",
   "execution_count": 23,
   "id": "6e10c989",
   "metadata": {},
   "outputs": [
    {
     "data": {
      "image/png": "[encoded data removed]",
      "text/plain": [
       "<Figure size 864x432 with 1 Axes>"
      ]
     },
     "metadata": {
      "needs_background": "light"
     },
     "output_type": "display_data"
    },
    {
     "data": {
      "image/png": "[encoded data removed]",
      "text/plain": [
       "<Figure size 864x432 with 1 Axes>"
      ]
     },
     "metadata": {
      "needs_background": "light"
     },
     "output_type": "display_data"
    }
   ],
   "source": [
    "# create violin plots of the absenteeism time in hours\n",
    "\n",
    "plt.figure(figsize=(12,6))\n",
    "sns.violinplot(x=\"Social drinker\", y=\"Absenteeism time in hours\", data=preprocessed_data, order=[\"No\",\"Yes\"])\n",
    "plt.savefig('figs/drinkers_hourly_distribution.png', format='png', dpi=300)\n",
    "\n",
    "# now for smoker\n",
    "\n",
    "plt.figure(figsize=(12,6))\n",
    "sns.violinplot(x=\"Social smoker\", y=\"Absenteeism time in hours\", data=preprocessed_data, order=[\"No\",\"Yes\"])\n",
    "plt.savefig('figs/smoker_hourly_distribution.png', format='png', dpi=300)"
   ]
  },
  {
   "cell_type": "code",
   "execution_count": 24,
   "id": "48b359ab",
   "metadata": {},
   "outputs": [
    {
     "name": "stdout",
     "output_type": "stream",
     "text": [
      "Statistic value: 1.7713833295243993, p-value:0.07690961828294651\n"
     ]
    }
   ],
   "source": [
    "# performing null hypothesis to check if absent hurs are same for drinkers and non-drinkers\n",
    "\n",
    "from scipy.stats import ttest_ind\n",
    "hours_col = \"Absenteeism time in hours\"\n",
    "\n",
    "drinkers_mask = preprocessed_data[\"Social drinker\"] == \"Yes\"\n",
    "\n",
    "hours_drinkers = preprocessed_data.loc[drinker_mask, hours_col]\n",
    "hours_non_drinkers = preprocessed_data.loc[~drinker_mask, hours_col] # ~ symbol means not present in\n",
    "\n",
    "drinkers_test = ttest_ind(hours_drinkers, hours_non_drinkers)\n",
    "print(f\"Statistic value: {drinkers_test[0]}, p-value:{drinkers_test[1]}\")"
   ]
  },
  {
   "cell_type": "code",
   "execution_count": 25,
   "id": "573d78e3",
   "metadata": {},
   "outputs": [
    {
     "name": "stdout",
     "output_type": "stream",
     "text": [
      "Statistic value: -0.24277795417700243, p-value:0.8082448720154971\n"
     ]
    }
   ],
   "source": [
    "# same test on smokers\n",
    "\n",
    "smokers_mask = preprocessed_data[\"Social smoker\"] == \"Yes\"\n",
    "\n",
    "hours_smokers = preprocessed_data.loc[smoker_mask, hours_col]\n",
    "hours_non_smokers = preprocessed_data.loc[~smoker_mask, hours_col] # ~ symbol means not present in\n",
    "\n",
    "smokers_test = ttest_ind(hours_smokers, hours_non_smokers)\n",
    "print(f\"Statistic value: {smokers_test[0]}, p-value:{smokers_test[1]}\")"
   ]
  },
  {
   "cell_type": "markdown",
   "id": "bb4b5f84",
   "metadata": {},
   "source": [
    "From above 2 p-values we can say that there is **NO** statistically significant difference in the absenteeism hours between drinkers (and smokers) and non-drinkers (and non-smokers)"
   ]
  },
  {
   "cell_type": "markdown",
   "id": "4bf410d7",
   "metadata": {},
   "source": [
    "Perform a Kolmogorov-Smirnov test to assess the difference in the distributions of two samples"
   ]
  },
  {
   "cell_type": "code",
   "execution_count": 26,
   "id": "3df29675",
   "metadata": {},
   "outputs": [
    {
     "name": "stdout",
     "output_type": "stream",
     "text": [
      "Drinkers comparison: statistics=0.135, pvalue=0.002\n",
      "Smokers comparison: statistics=0.104, pvalue=0.607\n"
     ]
    }
   ],
   "source": [
    "from scipy.stats import ks_2samp\n",
    "ks_drinkers = ks_2samp(hours_drinkers, hours_non_drinkers)\n",
    "ks_smokers = ks_2samp(hours_smokers, hours_non_smokers)\n",
    "\n",
    "print(f\"Drinkers comparison: statistics={ks_drinkers[0]:.3f}, \\\n",
    "pvalue={ks_drinkers[1]:.3f}\")\n",
    "\n",
    "print(f\"Smokers comparison: statistics={ks_smokers[0]:.3f}, \\\n",
    "pvalue={ks_smokers[1]:.3f}\")"
   ]
  },
  {
   "cell_type": "markdown",
   "id": "5aaa6b35",
   "metadata": {},
   "source": [
    "**The p-value for the drinkers dataset is lower than the critical 0.05, which is strong evidence against the null hypothesis of the two distributions being equal. On the other hand, as the p-value for the smokers dataset is higher than 0.05, you cannot reject the null hypothesis.**"
   ]
  },
  {
   "cell_type": "markdown",
   "id": "f57e4382",
   "metadata": {},
   "source": [
    "### Age and Education Factors contribution to employees being absent"
   ]
  },
  {
   "cell_type": "markdown",
   "id": "e631e2b7",
   "metadata": {},
   "source": [
    "create a regression plot, in which we'll plot the Age column on the x axis and Absenteeism time in hours on the y axis.\n",
    "include the Pearson's correlation coefficient and its p-value, where the null hypothesis is that the correlation coefficient between the two features is equal to zero"
   ]
  },
  {
   "cell_type": "code",
   "execution_count": 27,
   "id": "becf4665",
   "metadata": {},
   "outputs": [
    {
     "data": {
      "image/png": "[encoded data removed]",
      "text/plain": [
       "<Figure size 720x432 with 1 Axes>"
      ]
     },
     "metadata": {
      "needs_background": "light"
     },
     "output_type": "display_data"
    }
   ],
   "source": [
    "from scipy.stats import pearsonr\n",
    "\n",
    "# compute Pearson's correlation coefficient and p-value\n",
    "\n",
    "pearson_test = pearsonr(preprocessed_data[\"Age\"],preprocessed_data[\"Absenteeism time in hours\"])\n",
    "\n",
    "\"\"\"\n",
    "\n",
    "create regression plot and add correlation coefficient in the title\n",
    "\n",
    "\"\"\"\n",
    "\n",
    "plt.figure(figsize=(10, 6))\n",
    "\n",
    "ax = sns.regplot(x=\"Age\", y=\"Absenteeism time in hours\", data=preprocessed_data, scatter_kws={\"alpha\":0.1})\n",
    "\n",
    "ax.set_title(f\"Correlation={pearson_test[0]:.03f} | p-value={pearson_test[1]:.03f}\")\n",
    "\n",
    "plt.savefig('figs/correlation_age_hours.png',format='png', dpi=300)"
   ]
  },
  {
   "cell_type": "markdown",
   "id": "de730e91",
   "metadata": {},
   "source": [
    "create a violin plot between the Age and Disease features. This will give you your first insight into the relationship between the two columns"
   ]
  },
  {
   "cell_type": "code",
   "execution_count": 28,
   "id": "9ff8ebda",
   "metadata": {},
   "outputs": [
    {
     "data": {
      "image/png": "[encoded data removed]",
      "text/plain": [
       "<Figure size 576x432 with 1 Axes>"
      ]
     },
     "metadata": {
      "needs_background": "light"
     },
     "output_type": "display_data"
    }
   ],
   "source": [
    "# create violin plot between the Age and Disease columns\n",
    "\n",
    "plt.figure(figsize=(8,6))\n",
    "\n",
    "sns.violinplot(x=\"Disease\", y=\"Age\", data=preprocessed_data)\n",
    "\n",
    "plt.savefig('figs/Age VS disease.png', \\\n",
    "\n",
    "            format='png', dpi=300)"
   ]
  },
  {
   "cell_type": "code",
   "execution_count": 29,
   "id": "ee0eafa3",
   "metadata": {},
   "outputs": [
    {
     "name": "stdout",
     "output_type": "stream",
     "text": [
      "Test for equality of means:statistic=0.630, pvalue=0.529\n",
      "KS test for equality of distributions:statistic=0.057, pvalue=0.619\n"
     ]
    }
   ],
   "source": [
    "\"\"\"\n",
    "\n",
    "get Age entries for employees with Disease == Yes and Disease == No\n",
    "\n",
    "\"\"\"\n",
    "\n",
    "disease_mask = preprocessed_data[\"Disease\"] == \"Yes\"\n",
    "\n",
    "disease_ages = preprocessed_data[\"Age\"][disease_mask]\n",
    "\n",
    "no_disease_ages = preprocessed_data[\"Age\"][~disease_mask]\n",
    "\n",
    "# perform hypothesis test for equality of means\n",
    "\n",
    "test_res = ttest_ind(disease_ages, no_disease_ages)\n",
    "\n",
    "print(f\"Test for equality of means:statistic={test_res[0]:0.3f}, pvalue={test_res[1]:0.3f}\")\n",
    "\n",
    "# test equality of distributions via Kolmogorov-Smirnov test\n",
    "\n",
    "ks_res = ks_2samp(disease_ages, no_disease_ages)\n",
    "\n",
    "print(f\"KS test for equality of distributions:statistic={ks_res[0]:0.3f}, pvalue={ks_res[1]:0.3f}\")"
   ]
  },
  {
   "cell_type": "markdown",
   "id": "5b03e7d1",
   "metadata": {},
   "source": [
    "**there is no statistically significant difference between the two distributions. Thus, age is neither an indicator for the length of an absence nor for its type.**"
   ]
  },
  {
   "cell_type": "code",
   "execution_count": 30,
   "id": "261b6659",
   "metadata": {},
   "outputs": [],
   "source": [
    "# investigate the relationship between age and reason for absence"
   ]
  },
  {
   "cell_type": "code",
   "execution_count": 31,
   "id": "81b54713",
   "metadata": {},
   "outputs": [
    {
     "data": {
      "image/png": "[encoded data removed]",
      "text/plain": [
       "<Figure size 1440x576 with 1 Axes>"
      ]
     },
     "metadata": {
      "needs_background": "light"
     },
     "output_type": "display_data"
    }
   ],
   "source": [
    "# violin plot of reason for absence vs age\n",
    "\n",
    "plt.figure(figsize=(20,8))\n",
    "\n",
    "sns.violinplot(x=\"Reason for absence\", y=\"Age\",data=preprocessed_data)\n",
    "\n",
    "plt.savefig('figs/age VS reason for absence.png', format='png')"
   ]
  },
  {
   "cell_type": "markdown",
   "id": "4831d19d",
   "metadata": {},
   "source": [
    "### Temporal Factors"
   ]
  },
  {
   "cell_type": "code",
   "execution_count": 32,
   "id": "bdb4f6a3",
   "metadata": {},
   "outputs": [],
   "source": [
    "# analyze the impact of the Day of the week and Month of absence columns, and their impact on the employees' absenteeism."
   ]
  },
  {
   "cell_type": "code",
   "execution_count": 33,
   "id": "c96719ca",
   "metadata": {},
   "outputs": [
    {
     "data": {
      "image/png": "[encoded data removed]",
      "text/plain": [
       "<Figure size 864x360 with 1 Axes>"
      ]
     },
     "metadata": {
      "needs_background": "light"
     },
     "output_type": "display_data"
    },
    {
     "data": {
      "image/png": "[encoded data removed]",
      "text/plain": [
       "<Figure size 864x360 with 1 Axes>"
      ]
     },
     "metadata": {
      "needs_background": "light"
     },
     "output_type": "display_data"
    }
   ],
   "source": [
    "plt.figure(figsize=(12, 5))\n",
    "\n",
    "ax = sns.countplot(data=preprocessed_data, \\\n",
    "\n",
    "                   x='Day of the week', \\\n",
    "\n",
    "                   order=[\"Monday\", \"Tuesday\", \\\n",
    "\n",
    "                          \"Wednesday\", \"Thursday\", \"Friday\"])\n",
    "\n",
    "ax.set_title(\"Number of absences per day of the week\")\n",
    "\n",
    "plt.savefig('figs/dow_counts.png', format='png', dpi=300)\n",
    "\n",
    "plt.figure(figsize=(12, 5))\n",
    "\n",
    "ax = sns.countplot(data=preprocessed_data, \\\n",
    "\n",
    "                   x='Month of absence', \\\n",
    "\n",
    "                   order=[\"January\", \"February\", \"March\", \\\n",
    "\n",
    "                          \"April\", \"May\", \"June\", \"July\", \\\n",
    "\n",
    "                          \"August\", \"September\", \"October\", \\\n",
    "\n",
    "                          \"November\", \"December\", \"Unknown\"])\n",
    "\n",
    "ax.set_title(\"Number of absences per month\")\n",
    "\n",
    "plt.savefig('figs/month_counts.png', format='png', dpi=300)"
   ]
  },
  {
   "cell_type": "code",
   "execution_count": null,
   "id": "5ce90c2c",
   "metadata": {},
   "outputs": [],
   "source": []
  }
 ],
 "metadata": {
  "kernelspec": {
   "display_name": "Python 3",
   "language": "python",
   "name": "python3"
  },
  "language_info": {
   "codemirror_mode": {
    "name": "ipython",
    "version": 3
   },
   "file_extension": ".py",
   "mimetype": "text/x-python",
   "name": "python",
   "nbconvert_exporter": "python",
   "pygments_lexer": "ipython3",
   "version": "3.8.8"
  }
 },
 "nbformat": 4,
 "nbformat_minor": 5
}
